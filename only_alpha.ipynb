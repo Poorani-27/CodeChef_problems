{
 "cells": [
  {
   "cell_type": "code",
   "execution_count": 4,
   "metadata": {},
   "outputs": [
    {
     "name": "stdout",
     "output_type": "stream",
     "text": [
      "interview  synfusion  com\n"
     ]
    }
   ],
   "source": [
    "def print_alpha(string):\n",
    "    new_string = \"\"\n",
    "    for s in string:\n",
    "        if 'a' <= s <= 'z' or 'A' <= s <= 'Z' or s==\" \":\n",
    "            new_string += s\n",
    "    return new_string\n",
    "\n",
    "string=\"interview 2021 @synfusion . com\"\n",
    "result = print_alpha(string)\n",
    "print(result) "
   ]
  }
 ],
 "metadata": {
  "kernelspec": {
   "display_name": "Python 3",
   "language": "python",
   "name": "python3"
  },
  "language_info": {
   "codemirror_mode": {
    "name": "ipython",
    "version": 3
   },
   "file_extension": ".py",
   "mimetype": "text/x-python",
   "name": "python",
   "nbconvert_exporter": "python",
   "pygments_lexer": "ipython3",
   "version": "3.7.6"
  }
 },
 "nbformat": 4,
 "nbformat_minor": 2
}
