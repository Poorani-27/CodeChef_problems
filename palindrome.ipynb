{
 "cells": [
  {
   "cell_type": "code",
   "execution_count": 1,
   "metadata": {},
   "outputs": [
    {
     "name": "stdout",
     "output_type": "stream",
     "text": [
      "True\n",
      "True\n",
      "False\n"
     ]
    }
   ],
   "source": [
    "def is_palindrome(string):\n",
    "    new_string = \"\"\n",
    "    for s in string:\n",
    "        \n",
    "        if 'A' <= s <= \"Z\":\n",
    "            new_string +=chr(ord(s)+32)\n",
    "            \n",
    "        if \"a\" <= s  <= \"z\":\n",
    "            new_string += s\n",
    "    \n",
    "    reversed_string=\"\"\n",
    "    for i in range(len(new_string)-1,-1,-1):\n",
    "        reversed_string +=new_string[i]\n",
    "    \n",
    "    return reversed_string==new_string\n",
    "\n",
    "s1=\"Mr.owl ate,my metal worm!\"\n",
    "s2=\"Eva,can I See bees in a cave?\"\n",
    "s3=\"Hello world!\"\n",
    "print(is_palindrome(s1))\n",
    "print(is_palindrome(s2))\n",
    "print(is_palindrome(s3))\n",
    "\n",
    "    \n"
   ]
  }
 ],
 "metadata": {
  "kernelspec": {
   "display_name": "Python 3",
   "language": "python",
   "name": "python3"
  },
  "language_info": {
   "codemirror_mode": {
    "name": "ipython",
    "version": 3
   },
   "file_extension": ".py",
   "mimetype": "text/x-python",
   "name": "python",
   "nbconvert_exporter": "python",
   "pygments_lexer": "ipython3",
   "version": "3.7.6"
  }
 },
 "nbformat": 4,
 "nbformat_minor": 2
}
