{
 "cells": [
  {
   "cell_type": "code",
   "execution_count": 7,
   "metadata": {},
   "outputs": [
    {
     "name": "stdout",
     "output_type": "stream",
     "text": [
      "sum 10 and 20             = 30\n",
      "sub 10 and 20             = -10\n",
      "multiply 10 and 20        =200\n",
      "floor_division 10 and 20  = 0\n",
      "division 10 and 20        = 0.5\n",
      "power 10 and 20           = 100000000000000000000\n",
      "rem 10 and 20             = 10\n"
     ]
    }
   ],
   "source": [
    "def sum(a,b):\n",
    "    return a+b\n",
    "def sub(a,b):\n",
    "    return a-b\n",
    "def multiply(a,b):\n",
    "    return a*b\n",
    "def power(a,b):\n",
    "    return a**b\n",
    "def float_div(a,b):\n",
    "    return a//b\n",
    "def div(a,b):\n",
    "    return a/b\n",
    "def rem(a,b):\n",
    "    return a%b\n",
    "\n",
    "    \n",
    "\n",
    "a=10\n",
    "b=20\n",
    "\n",
    "print(f\"sum {a} and {b}             = {sum(a,b)}\")\n",
    "print(f\"sub {a} and {b}             = {sub(a,b)}\")\n",
    "print(f\"multiply {a} and {b}        ={multiply(a,b)}\")\n",
    "print(f\"floor_division {a} and {b}  = {float_div(a,b)}\")\n",
    "print(f\"division {a} and {b}        = {div(a,b)}\")\n",
    "print(f\"power {a} and {b}           = {power(a,b)}\")\n",
    "print(f\"rem {a} and {b}             = {rem(a,b)}\")\n"
   ]
  },
  {
   "cell_type": "code",
   "execution_count": 10,
   "metadata": {},
   "outputs": [
    {
     "name": "stdout",
     "output_type": "stream",
     "text": [
      "0.5\n",
      "0\n"
     ]
    }
   ],
   "source": [
    "print(5/10)\n",
    "print(5//10)"
   ]
  }
 ],
 "metadata": {
  "kernelspec": {
   "display_name": "Python 3",
   "language": "python",
   "name": "python3"
  },
  "language_info": {
   "codemirror_mode": {
    "name": "ipython",
    "version": 3
   },
   "file_extension": ".py",
   "mimetype": "text/x-python",
   "name": "python",
   "nbconvert_exporter": "python",
   "pygments_lexer": "ipython3",
   "version": "3.7.6"
  }
 },
 "nbformat": 4,
 "nbformat_minor": 2
}
