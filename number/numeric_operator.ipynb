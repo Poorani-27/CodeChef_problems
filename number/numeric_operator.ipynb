{
 "cells": [
  {
   "cell_type": "markdown",
   "metadata": {},
   "source": [
    "**Numeric Operations**\n",
    "\n",
    "Power of a Number: Write a program that calculates the power of a number (e.g., \n",
    "𝑥\n",
    "𝑦\n",
    "x \n",
    "y\n",
    " ).\n",
    "\n",
    "\n",
    "Square Root: Write a program that calculates the square root of a given number.\n",
    "\n",
    "\n",
    "Absolute Value: Write a program that calculates the absolute value of a number.\n",
    "\n",
    "\n",
    "Rounding Numbers: Write a program that rounds a floating-point number to a specified number of decimal places."
   ]
  },
  {
   "cell_type": "code",
   "execution_count": 6,
   "metadata": {},
   "outputs": [
    {
     "name": "stdout",
     "output_type": "stream",
     "text": [
      "8\n",
      "2\n",
      "23\n",
      "2.23606797749979\n"
     ]
    }
   ],
   "source": [
    "import math\n",
    "a,b=2,3\n",
    "c=-2\n",
    "n=23.4443122\n",
    "s=5\n",
    "def power_of_a_number(a,b):\n",
    "    return a**b\n",
    "\n",
    "def absolute_value(c):\n",
    "    return abs(c)\n",
    "\n",
    "def round_off(n):\n",
    "    return round(n)\n",
    "\n",
    "def square_root(s):\n",
    "    return math.sqrt(s)\n",
    "\n",
    "print(power_of_a_number(a,b))\n",
    "print(absolute_value(c))\n",
    "print(round_off(n))\n",
    "print(square_root(s))"
   ]
  },
  {
   "cell_type": "code",
   "execution_count": 5,
   "metadata": {},
   "outputs": [
    {
     "name": "stdout",
     "output_type": "stream",
     "text": [
      "2\n",
      "3422.0\n"
     ]
    }
   ],
   "source": [
    "a=2.3345\n",
    "print(int(a))\n",
    "b=3422\n",
    "print(float(b))"
   ]
  }
 ],
 "metadata": {
  "kernelspec": {
   "display_name": "Python 3",
   "language": "python",
   "name": "python3"
  },
  "language_info": {
   "codemirror_mode": {
    "name": "ipython",
    "version": 3
   },
   "file_extension": ".py",
   "mimetype": "text/x-python",
   "name": "python",
   "nbconvert_exporter": "python",
   "pygments_lexer": "ipython3",
   "version": "3.7.6"
  }
 },
 "nbformat": 4,
 "nbformat_minor": 2
}
