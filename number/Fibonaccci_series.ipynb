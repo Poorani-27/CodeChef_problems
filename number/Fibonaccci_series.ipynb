{
 "cells": [
  {
   "cell_type": "code",
   "execution_count": 13,
   "metadata": {},
   "outputs": [
    {
     "name": "stdout",
     "output_type": "stream",
     "text": [
      "[1, 1, 2, 3, 5, 8, 13]\n"
     ]
    }
   ],
   "source": [
    "def fibonacci(n):\n",
    "    first_term=1\n",
    "    second_term=1\n",
    "    series=[]\n",
    "    for i in range(n):\n",
    "        series.append(first_term)\n",
    "        third_term=first_term+second_term\n",
    "        first_term,second_term = second_term,third_term\n",
    "    return series\n",
    "\n",
    "n=int(input(\"N= \"))\n",
    "result= fibonacci(n)\n",
    "print(result)"
   ]
  },
  {
   "cell_type": "code",
   "execution_count": 14,
   "metadata": {},
   "outputs": [
    {
     "name": "stdout",
     "output_type": "stream",
     "text": [
      "7 th term of Fibonacci series : 13\n"
     ]
    }
   ],
   "source": [
    "##n element of the fib_series\n",
    "\n",
    "def fib0_series(n):\n",
    "\ta=1\n",
    "\tb=1\n",
    "\tseries=[]\n",
    "\tfor i in range(n):\n",
    "\t\tseries.append(a)\n",
    "\t\tc=a+b\n",
    "\t\ta,b=b,c\n",
    "\treturn series[n-1]\n",
    "\n",
    "n=int(input(\"Enter the number : \"))\n",
    "result=fib0_series(n)\n",
    "print(f\"{n} th term of Fibonacci series : {result}\")"
   ]
  }
 ],
 "metadata": {
  "kernelspec": {
   "display_name": "Python 3",
   "language": "python",
   "name": "python3"
  },
  "language_info": {
   "codemirror_mode": {
    "name": "ipython",
    "version": 3
   },
   "file_extension": ".py",
   "mimetype": "text/x-python",
   "name": "python",
   "nbconvert_exporter": "python",
   "pygments_lexer": "ipython3",
   "version": "3.7.6"
  }
 },
 "nbformat": 4,
 "nbformat_minor": 2
}
