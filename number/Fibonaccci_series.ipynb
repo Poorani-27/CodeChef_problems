{
 "cells": [
  {
   "cell_type": "code",
   "execution_count": 13,
   "metadata": {},
   "outputs": [
    {
     "name": "stdout",
     "output_type": "stream",
     "text": [
      "[1, 1, 2, 3, 5, 8, 13]\n"
     ]
    }
   ],
   "source": [
    "def fibonacci(n):\n",
    "    first_term=1\n",
    "    second_term=1\n",
    "    series=[]\n",
    "    for i in range(n):\n",
    "        series.append(first_term)\n",
    "        third_term=first_term+second_term\n",
    "        first_term,second_term = second_term,third_term\n",
    "    return series\n",
    "\n",
    "n=int(input(\"N= \"))\n",
    "result= fibonacci(n)\n",
    "print(result)"
   ]
  },
  {
   "cell_type": "code",
   "execution_count": 14,
   "metadata": {},
   "outputs": [
    {
     "name": "stdout",
     "output_type": "stream",
     "text": [
      "7 th term of Fibonacci series : 13\n"
     ]
    }
   ],
   "source": [
    "##n element of the fib_series\n",
    "\n",
    "def fib0_series(n):\n",
    "\ta=1\n",
    "\tb=1\n",
    "\tseries=[]\n",
    "\tfor i in range(n):\n",
    "\t\tseries.append(a)\n",
    "\t\tc=a+b\n",
    "\t\ta,b=b,c\n",
    "\treturn series[n-1]\n",
    "\n",
    "n=int(input(\"Enter the number : \"))\n",
    "result=fib0_series(n)\n",
    "print(f\"{n} th term of Fibonacci series : {result}\")"
   ]
  },
  {
   "cell_type": "code",
   "execution_count": 1,
   "metadata": {},
   "outputs": [
    {
     "name": "stdout",
     "output_type": "stream",
     "text": [
      "4321\n"
     ]
    }
   ],
   "source": [
    "def reverse_number(n):\n",
    "    t=n\n",
    "    reversed_number = 0\n",
    "    while t > 0:\n",
    "        last_digit = t%10\n",
    "        reversed_number =  last_digit + reversed_number*10\n",
    "        t //= 10\n",
    "\n",
    "    return reversed_number\n",
    "\n",
    "print(reverse_number(1234))\n",
    "\n"
   ]
  },
  {
   "cell_type": "code",
   "execution_count": 2,
   "metadata": {},
   "outputs": [
    {
     "name": "stdout",
     "output_type": "stream",
     "text": [
      "[2, 3, 5]\n"
     ]
    }
   ],
   "source": [
    "def prime_factor(n):\n",
    "    factors = []\n",
    "    for i in range(1,n+1):\n",
    "        if n % i == 0 :\n",
    "            factors +=[i]\n",
    "\n",
    "    def is_prime(n):\n",
    "        count = 0\n",
    "        for i in range(1,n+1):\n",
    "            if n % i == 0:\n",
    "                count +=1\n",
    "        if count == 2:\n",
    "            return True\n",
    "        else:\n",
    "            return False\n",
    "\n",
    "    result=[]\n",
    "    for factor in factors :\n",
    "        if is_prime(factor):\n",
    "            result +=[factor]\n",
    "\n",
    "    return result\n",
    "\n",
    "\n",
    "print(prime_factor(150))\n",
    "\n"
   ]
  },
  {
   "cell_type": "code",
   "execution_count": 3,
   "metadata": {},
   "outputs": [
    {
     "name": "stdout",
     "output_type": "stream",
     "text": [
      "leap year\n"
     ]
    }
   ],
   "source": [
    "def leap_or_not(year):\n",
    "    if year%4==0 or year%400 == 0 or year % 100 ==0:\n",
    "        print(\"leap year\")\n",
    "    else:\n",
    "        print(\"not a leap year\")\n",
    "\n",
    "leap_or_not(2024)"
   ]
  },
  {
   "cell_type": "code",
   "execution_count": null,
   "metadata": {},
   "outputs": [],
   "source": [
    "def factors_number(n):\n",
    "    for i in range(1,n+1):\n",
    "        if n%i ==0:\n",
    "            print(i,end=\" \")\n",
    "\n",
    "factors_number(225)"
   ]
  },
  {
   "cell_type": "code",
   "execution_count": 4,
   "metadata": {},
   "outputs": [
    {
     "name": "stdout",
     "output_type": "stream",
     "text": [
      "[0, 1, 2, 3, 5, 8, 13]\n"
     ]
    }
   ],
   "source": [
    "def fib(n):\n",
    "    a=1\n",
    "    b=1\n",
    "    series=[0,1]\n",
    "    for i in range(n):\n",
    "        if n ==0 or n == 1:\n",
    "            series +=[a]\n",
    "\n",
    "        else:\n",
    "            a,b=b,a+b\n",
    "            series +=[b]\n",
    "\n",
    "    return series\n",
    "\n",
    "print(fib(5))"
   ]
  },
  {
   "cell_type": "code",
   "execution_count": 6,
   "metadata": {},
   "outputs": [
    {
     "name": "stdout",
     "output_type": "stream",
     "text": [
      "120\n"
     ]
    }
   ],
   "source": [
    "def factorial(num):\n",
    "    if num == 0 or num == 1:\n",
    "        return 1\n",
    "    else:\n",
    "        return num * factorial(num-1)\n",
    "    \n",
    "print(factorial(5))"
   ]
  },
  {
   "cell_type": "code",
   "execution_count": 3,
   "metadata": {},
   "outputs": [
    {
     "name": "stdout",
     "output_type": "stream",
     "text": [
      "2\n"
     ]
    }
   ],
   "source": [
    "def gcd(n1,n2):\n",
    "    factors_of_n1=[]\n",
    "    factors_of_n2=[]\n",
    "    for i in range(1,n1+1):\n",
    "        if n1%i == 0 :\n",
    "            factors_of_n1 +=[i]\n",
    "    for i in range(1,n2+1):\n",
    "        if n2%i == 0 :\n",
    "            factors_of_n2 +=[i]\n",
    "    common_divisor=[]        \n",
    "    for factor in factors_of_n1:\n",
    "        if factor in factors_of_n2:\n",
    "            common_divisor +=[factor]\n",
    "            \n",
    "    GCD=common_divisor[0]\n",
    "    for cd in common_divisor:\n",
    "        if cd > GCD:\n",
    "            GCD = cd\n",
    "            \n",
    "    print(GCD) \n",
    "    \n",
    "gcd(2,10)\n",
    "            "
   ]
  },
  {
   "cell_type": "code",
   "execution_count": 12,
   "metadata": {},
   "outputs": [
    {
     "name": "stdout",
     "output_type": "stream",
     "text": [
      "147\n"
     ]
    }
   ],
   "source": [
    "def lcm(a,b):\n",
    "    multiple = a if a>b else b\n",
    "    while True:\n",
    "        if multiple % a ==0 and multiple%b ==0:\n",
    "            return multiple\n",
    "        multiple +=1\n",
    "    \n",
    "print(lcm(3,49))"
   ]
  },
  {
   "cell_type": "code",
   "execution_count": 15,
   "metadata": {},
   "outputs": [
    {
     "name": "stdout",
     "output_type": "stream",
     "text": [
      "2\n"
     ]
    }
   ],
   "source": [
    "def gcd2(n1,n2):\n",
    "    while n2:\n",
    "        n1,n2=n2,n1%n2\n",
    "    return n1\n",
    "print(gcd2(2,10))"
   ]
  },
  {
   "cell_type": "code",
   "execution_count": 17,
   "metadata": {},
   "outputs": [
    {
     "name": "stdout",
     "output_type": "stream",
     "text": [
      "* * * * \n",
      "* * * * \n",
      "* * * * \n",
      "* * * * \n"
     ]
    }
   ],
   "source": [
    "def star(n):\n",
    "    for i in range(n):\n",
    "        for j in range(n):\n",
    "            print(\"*\",end=\" \")\n",
    "        print(\"\")\n",
    "        \n",
    "star(4)"
   ]
  },
  {
   "cell_type": "code",
   "execution_count": 21,
   "metadata": {},
   "outputs": [
    {
     "name": "stdout",
     "output_type": "stream",
     "text": [
      "\n",
      "* \n",
      "* * \n",
      "* * * \n",
      "* * * * \n",
      "* * * * * \n"
     ]
    }
   ],
   "source": [
    "n=5\n",
    "for i in range(n+1):\n",
    "    for j in range(i):\n",
    "        print(\"*\",end=\" \")\n",
    "    print(\"\")\n",
    "    \n"
   ]
  },
  {
   "cell_type": "code",
   "execution_count": 23,
   "metadata": {},
   "outputs": [
    {
     "name": "stdout",
     "output_type": "stream",
     "text": [
      "* * * * * * \n",
      "* * * * * \n",
      "* * * * \n",
      "* * * \n",
      "* * \n",
      "* \n"
     ]
    }
   ],
   "source": [
    "n=5\n",
    "for i in range(n+1,0,-1):\n",
    "    for j in range(i):\n",
    "        print(\"*\",end=\" \")\n",
    "    print(\"\")"
   ]
  },
  {
   "cell_type": "code",
   "execution_count": 29,
   "metadata": {},
   "outputs": [
    {
     "name": "stdout",
     "output_type": "stream",
     "text": [
      "      * \n",
      "    * * \n",
      "  * * * \n",
      "* * * * \n"
     ]
    }
   ],
   "source": [
    "n=4\n",
    "for i in range(n):\n",
    "    for j in range(n-i-1):\n",
    "        print(\" \",end=\" \")\n",
    "    for j in range(0,i+1):\n",
    "        print(\"*\",end=\" \")\n",
    "    print(\"\")\n",
    "for i in range(n+1,1):\n",
    "    for j in range(n+i+1):\n",
    "        print(\" \",end=\" \")\n",
    "    for j in range(0,i-1):\n",
    "        print(\"*\",end=\" \")\n",
    "    print(\"\")\n",
    "    \n"
   ]
  },
  {
   "cell_type": "code",
   "execution_count": 34,
   "metadata": {},
   "outputs": [
    {
     "name": "stdout",
     "output_type": "stream",
     "text": [
      "              * \n",
      "            * * \n",
      "          * * * \n",
      "        * * * * \n",
      "      * * * * * \n",
      "    * * * * * * \n",
      "  * * * * * * * \n",
      "* * * * * * * * \n"
     ]
    }
   ],
   "source": [
    "n = 8  # Number of rows\n",
    "\n",
    "# Print the right-aligned triangle pattern\n",
    "for i in range(n):\n",
    "    # Print leading spaces\n",
    "    for j in range(n - i - 1):\n",
    "        print(\" \", end=\" \")\n",
    "    # Print stars\n",
    "    for j in range(i + 1):\n",
    "        print(\"*\", end=\" \")\n",
    "    print(\"\")\n"
   ]
  },
  {
   "cell_type": "code",
   "execution_count": 44,
   "metadata": {},
   "outputs": [
    {
     "name": "stdout",
     "output_type": "stream",
     "text": [
      "    * \n",
      "   * * \n",
      "  * * * \n",
      " * * * * \n",
      "* * * * * \n"
     ]
    }
   ],
   "source": [
    "n=5\n",
    "a=n-1\n",
    "for i in range(n):\n",
    "    for j in range(a):\n",
    "        print(end=\" \")\n",
    "    a=a-1\n",
    "    for j in range(i+1):\n",
    "        print(\"*\",end=\" \")\n",
    "    print(\"\\r\")\n",
    "\n",
    "    "
   ]
  },
  {
   "cell_type": "code",
   "execution_count": 54,
   "metadata": {},
   "outputs": [
    {
     "name": "stdout",
     "output_type": "stream",
     "text": [
      "         * \n",
      "        * * \n",
      "       * * * \n",
      "      * * * * \n",
      "     * * * * * \n",
      "    * * * * * * \n",
      "   * * * * * * * \n",
      "  * * * * * * * * \n",
      " * * * * * * * * * \n",
      "* * * * * * * * * * \n",
      " * * * * * * * * * \n",
      "  * * * * * * * * \n",
      "   * * * * * * * \n",
      "    * * * * * * \n",
      "     * * * * * \n",
      "      * * * * \n",
      "       * * * \n",
      "        * * \n",
      "         * \n"
     ]
    }
   ],
   "source": [
    "n=10\n",
    "a=n-1\n",
    "for i in range(n):\n",
    "    for j in range(a):\n",
    "        print(end=\" \")\n",
    "    a=a-1\n",
    "    for j in range(i+1):\n",
    "        print(\"*\",end=\" \")\n",
    "        \n",
    "    print(\"\")\n",
    "a=1\n",
    "for i in range(n-1,0,-1):\n",
    "    for j in range(a):\n",
    "        print(end=\" \")\n",
    "    a=a+1\n",
    "    for j in range(i):\n",
    "        print(\"*\",end=\" \")\n",
    "        \n",
    "    print(\"\")\n",
    "        \n",
    "    "
   ]
  },
  {
   "cell_type": "code",
   "execution_count": 61,
   "metadata": {},
   "outputs": [
    {
     "name": "stdout",
     "output_type": "stream",
     "text": [
      "    * \n",
      "   * * \n",
      "  * * * \n",
      " * * * * \n",
      "* * * * * \n",
      " * * * * \n",
      "  * * * \n",
      "   * * \n",
      "    * \n"
     ]
    }
   ],
   "source": [
    "n=5\n",
    "a=n-1\n",
    "for i in range(n):\n",
    "    for j in range(a):\n",
    "        print(end=\" \")\n",
    "    a=a-1\n",
    "    for j in range(i+1):\n",
    "        print(\"*\",end=\" \")\n",
    "    print(\"\")\n",
    "\n",
    "\n",
    "    \n",
    "a=1\n",
    "for i in range(n-1,0,-1):\n",
    "    for j in range(a):\n",
    "        print(end=\" \")\n",
    "    a=a+1\n",
    "    for j in range(i):\n",
    "        print(\"*\",end=\" \")\n",
    "        \n",
    "    print(\"\")\n",
    "        \n",
    "    "
   ]
  },
  {
   "cell_type": "code",
   "execution_count": 71,
   "metadata": {},
   "outputs": [
    {
     "name": "stdout",
     "output_type": "stream",
     "text": [
      "Know Program\n"
     ]
    }
   ],
   "source": [
    "arr= [75, 110, 111, 119, 32, 80, 114, 111, 103, 114, 97, 109]\n",
    "string=[]\n",
    "for a in arr:\n",
    "    string  +=[chr(a)]\n",
    "    \n",
    "print (\"\".join(string))"
   ]
  },
  {
   "cell_type": "code",
   "execution_count": 68,
   "metadata": {},
   "outputs": [
    {
     "name": "stdout",
     "output_type": "stream",
     "text": [
      "K\n"
     ]
    }
   ],
   "source": [
    "n=75\n",
    "print(chr(n))"
   ]
  },
  {
   "cell_type": "code",
   "execution_count": 75,
   "metadata": {},
   "outputs": [
    {
     "name": "stdout",
     "output_type": "stream",
     "text": [
      "[76, 105, 115, 116]\n"
     ]
    }
   ],
   "source": [
    "value=[]\n",
    "s=\"List\"\n",
    "for i in range(len(s)):\n",
    "    value += [ord(s[i])]\n",
    "    \n",
    "print(value)"
   ]
  },
  {
   "cell_type": "code",
   "execution_count": 76,
   "metadata": {},
   "outputs": [
    {
     "name": "stdout",
     "output_type": "stream",
     "text": [
      "50.0\n"
     ]
    }
   ],
   "source": [
    "cel=10\n",
    "fra=(cel*1.8)+32\n",
    "print(fra)"
   ]
  },
  {
   "cell_type": "code",
   "execution_count": 77,
   "metadata": {},
   "outputs": [
    {
     "name": "stdout",
     "output_type": "stream",
     "text": [
      "10.0\n"
     ]
    }
   ],
   "source": [
    "fra = 50\n",
    "cel=(fra-32) /1.8\n",
    "print(cel)"
   ]
  },
  {
   "cell_type": "code",
   "execution_count": 79,
   "metadata": {},
   "outputs": [
    {
     "name": "stdout",
     "output_type": "stream",
     "text": [
      "Know Program\n"
     ]
    }
   ],
   "source": [
    "hex_string = \"4b6e6f772050726f6772616d\"\n",
    "\n",
    "bytes_data=bytes.fromhex(hex_string)\n",
    "\n",
    "acii=bytes_data.decode('ascii')\n",
    "\n",
    "print(acii)\n"
   ]
  }
 ],
 "metadata": {
  "kernelspec": {
   "display_name": "Python 3",
   "language": "python",
   "name": "python3"
  },
  "language_info": {
   "codemirror_mode": {
    "name": "ipython",
    "version": 3
   },
   "file_extension": ".py",
   "mimetype": "text/x-python",
   "name": "python",
   "nbconvert_exporter": "python",
   "pygments_lexer": "ipython3",
   "version": "3.7.6"
  }
 },
 "nbformat": 4,
 "nbformat_minor": 2
}
