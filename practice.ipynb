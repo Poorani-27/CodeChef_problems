{
 "cells": [
  {
   "cell_type": "markdown",
   "metadata": {},
   "source": [
    "ip:\"This is the program\"\n",
    "op: Thisistheprogram"
   ]
  },
  {
   "cell_type": "code",
   "execution_count": null,
   "metadata": {},
   "outputs": [],
   "source": [
    "def remove_space(string):\n",
    "    result=\"\"\n",
    "    for char in string:\n",
    "        if char != \" \":\n",
    "            result +=char\n",
    "        \n",
    "    return result\n",
    "\n",
    "print(remove_space(\"this @ 2002 yk! # 2 is the program\"))"
   ]
  },
  {
   "cell_type": "markdown",
   "metadata": {},
   "source": [
    "**2 Quiz**"
   ]
  },
  {
   "cell_type": "code",
   "execution_count": null,
   "metadata": {},
   "outputs": [],
   "source": [
    "def quiz_game():\n",
    "    print(\"Welcome to Quiz Game\")\n",
    "    response = input(\"Are you willing to play? (Yes/No): \")\n",
    "\n",
    "    if response.strip().lower() not in [\"yes\", \"y\"]:\n",
    "        print(\"Quitting! Bye!\")\n",
    "        return \n",
    "    \n",
    "    qns = [\n",
    "        {\n",
    "            \"qn\": \"Who created Python?\",\n",
    "            \"options\": [\"A. Guido van Rossum\", \"B. Charles\", \"C. Elon Musk\", \"D. Mark\"],\n",
    "            \"answer\": [\"A\", \"A. Guido van Rossum\", \"Guido van Rossum\"]\n",
    "        },\n",
    "        {\n",
    "            \"qn\": \"When was Python introduced?\",\n",
    "            \"options\": [\"A. 1991\", \"B. 1982\", \"C. 1998\", \"D. 1993\"],\n",
    "            \"answer\": [\"A\", \"1991\", \"A. 1991\"]\n",
    "        },\n",
    "        {\n",
    "            \"qn\": \"What is the extension of a Python file?\",\n",
    "            \"options\": [\"A. .py\", \"B. .pyx\", \"C. .python\", \"D. .P\"],\n",
    "            \"answer\": [\"A\", \".py\", \"A. .py\"]\n",
    "        }\n",
    "    ]\n",
    "    \n",
    "    score = 0\n",
    "    for q in qns:\n",
    "        print(\"\\n\" + q[\"qn\"])\n",
    "        for opt in q[\"options\"]:\n",
    "            print(opt)\n",
    "        user_answer = input(\"Enter the correct option (A/B/C/D) or full answer as it is in option: \").strip().upper()\n",
    "        \n",
    "        if user_answer in [ans.upper() for ans in q[\"answer\"]]:\n",
    "            print(\"\\nCorrect!\")\n",
    "            score += 1\n",
    "        else:\n",
    "            print(\"\\nWrong Answer!\")\n",
    "            print(f\"\\nCorrect answer: {q['answer'][0]}\")\n",
    "            \n",
    "    print(f\"\\nYour total score is: {score}/{len(qns)}\")\n",
    "\n",
    "quiz_game()\n"
   ]
  },
  {
   "cell_type": "code",
   "execution_count": null,
   "metadata": {},
   "outputs": [],
   "source": [
    "def remove_char(string):\n",
    "    result=\"\"\n",
    "    upper_case=\"ABCDEFGHIJKLMNOPQRSTUVWXYZ\"\n",
    "    lower_case=\"abcdefghijklmnopqrstuvwxyz\"\n",
    "    for char in string :\n",
    "        if char in upper_case or char in lower_case or char == \" \" :\n",
    "            result +=char\n",
    "            \n",
    "    return result\n",
    "\n",
    "print(remove_char(\"interview@2021 syncfusion. com\"))\n",
    "            "
   ]
  },
  {
   "cell_type": "code",
   "execution_count": 19,
   "metadata": {},
   "outputs": [
    {
     "name": "stdout",
     "output_type": "stream",
     "text": [
      "Software Solution yncfuionsss\n"
     ]
    }
   ],
   "source": [
    "def remove_s(string):\n",
    "    result=\"\"\n",
    "    s=\"\"\n",
    "    for char in string :\n",
    "        if char != \"s\":\n",
    "            result += char\n",
    "        else:\n",
    "            s +='s'\n",
    "            \n",
    "\n",
    "    result =result + s\n",
    "    return result\n",
    "\n",
    "print(remove_s(\"Software Solutions syncfusion\"))\n",
    "    "
   ]
  },
  {
   "cell_type": "code",
   "execution_count": 29,
   "metadata": {},
   "outputs": [
    {
     "name": "stdout",
     "output_type": "stream",
     "text": [
      "[998, 5, 5, 3, 3, 2, 2, 1, 1, 0]\n"
     ]
    }
   ],
   "source": [
    "def bubble_sort(arr):\n",
    "    for i in range(len(arr)):\n",
    "        for j in range(i+1,len(arr)):\n",
    "            if arr[i]<arr[j] :\n",
    "                arr[i],arr[j] = arr[j],arr[i]\n",
    "                \n",
    "    return arr\n",
    "\n",
    "print(bubble_sort([1,5,3,5,2,1,0,998,3,2]))"
   ]
  },
  {
   "cell_type": "code",
   "execution_count": 32,
   "metadata": {},
   "outputs": [
    {
     "data": {
      "text/plain": [
       "39010"
      ]
     },
     "execution_count": 32,
     "metadata": {},
     "output_type": "execute_result"
    }
   ],
   "source": [
    "def seconds_conversion(H,M,S):\n",
    "    seconds=H*3600+M*60+S\n",
    "    return seconds\n",
    "\n",
    "seconds_conversion(5,30,600)\n",
    "seconds_conversion(10,50,10)\n"
   ]
  },
  {
   "cell_type": "code",
   "execution_count": 33,
   "metadata": {},
   "outputs": [
    {
     "name": "stdout",
     "output_type": "stream",
     "text": [
      "[5, 4, 3, 2, 1]\n"
     ]
    }
   ],
   "source": [
    "#reversing a list\n",
    "\n",
    "def reverse_arr(arr):\n",
    "    left=0\n",
    "    right=len(arr)-1\n",
    "    while left < right:\n",
    "        temp=arr[left]\n",
    "        arr[left]=arr[right]\n",
    "        arr[right] =temp\n",
    "        \n",
    "        left +=1\n",
    "        right -=1\n",
    "        \n",
    "    return arr\n",
    "\n",
    "print(reverse_arr([1,2,3,4,5]))"
   ]
  },
  {
   "cell_type": "code",
   "execution_count": 41,
   "metadata": {},
   "outputs": [
    {
     "name": "stdout",
     "output_type": "stream",
     "text": [
      "4.0\n"
     ]
    }
   ],
   "source": [
    "#avg\n",
    "\n",
    "def average(arr):\n",
    "    count=0\n",
    "    sum=0\n",
    "    for a in arr:\n",
    "        count +=1\n",
    "        sum +=a\n",
    "        \n",
    "    return sum/count\n",
    "\n",
    "\n",
    "\n",
    "print(average([4,4,4,4,4,4]))\n",
    "        \n",
    "        "
   ]
  },
  {
   "cell_type": "code",
   "execution_count": 44,
   "metadata": {},
   "outputs": [
    {
     "name": "stdout",
     "output_type": "stream",
     "text": [
      "Both the numbers are even\n",
      "Both are odd\n",
      "3 is odd and 2 is even\n",
      "7 is odd and 8 is even\n"
     ]
    }
   ],
   "source": [
    "def odd_even(a,b):\n",
    "    if a%2==0 and b%2==0:\n",
    "        return \"Both the numbers are even\"\n",
    "    elif a%2 !=0 and b%2 != 0 :\n",
    "        return \"Both are odd\"\n",
    "    \n",
    "    elif a%2 !=0 and b%2 == 0 :\n",
    "        return f\"{a} is odd and {b} is even\"\n",
    "    \n",
    "    else:\n",
    "        return f\"{b} is odd and {a} is even\"\n",
    "    \n",
    "    \n",
    "print(odd_even(4,6))\n",
    "print(odd_even(7,11))\n",
    "print(odd_even(2,3))\n",
    "print(odd_even(7,8))\n"
   ]
  },
  {
   "cell_type": "code",
   "execution_count": 52,
   "metadata": {},
   "outputs": [
    {
     "data": {
      "text/plain": [
       "True"
      ]
     },
     "execution_count": 52,
     "metadata": {},
     "output_type": "execute_result"
    }
   ],
   "source": [
    "def is_palindrome(str):\n",
    "    reversed_string=\"\"\n",
    "    for s in str:\n",
    "        reversed_string = s+ reversed_string \n",
    "        \n",
    "    return reversed_string == str\n",
    "\n",
    "is_palindrome(\"aba\")"
   ]
  },
  {
   "cell_type": "code",
   "execution_count": 53,
   "metadata": {},
   "outputs": [
    {
     "name": "stdout",
     "output_type": "stream",
     "text": [
      "good2002hfj\n"
     ]
    }
   ],
   "source": [
    "def remove_char(string,char):\n",
    "    result=\"\"\n",
    "    for s in string :\n",
    "        if s != char:\n",
    "            result +=s\n",
    "            \n",
    "    return result\n",
    "\n",
    "\n",
    "print(remove_char(\"good@2002@hfj\",\"@\"))"
   ]
  },
  {
   "cell_type": "code",
   "execution_count": 63,
   "metadata": {},
   "outputs": [
    {
     "name": "stdout",
     "output_type": "stream",
     "text": [
      "3\n"
     ]
    }
   ],
   "source": [
    "#count of character in string \n",
    "\n",
    "def count_occurence(string,char):\n",
    "    frequency={}\n",
    "    for s in string:\n",
    "        if s in frequency:\n",
    "            frequency[s]+=1\n",
    "        else:\n",
    "            frequency[s] =1\n",
    "            \n",
    "    for key,value in frequency.items():\n",
    "        return frequency.get(char,0)\n",
    "        \n",
    "print(count_occurence(\"good morning\",\"o\"))\n",
    "\n"
   ]
  },
  {
   "cell_type": "code",
   "execution_count": 64,
   "metadata": {},
   "outputs": [
    {
     "name": "stdout",
     "output_type": "stream",
     "text": [
      "cba\n"
     ]
    }
   ],
   "source": [
    "#reverse a string\n",
    "\n",
    "def reverse_string(string):\n",
    "    reversed_string=\"\"\n",
    "    start =0\n",
    "    end=len(string)-1\n",
    "    for i in range(end,-1,-1):\n",
    "        reversed_string +=string[i]\n",
    "        \n",
    "    return reversed_string\n",
    "\n",
    "print(reverse_string(\"abc\"))\n",
    "         "
   ]
  },
  {
   "cell_type": "code",
   "execution_count": 74,
   "metadata": {},
   "outputs": [
    {
     "name": "stdout",
     "output_type": "stream",
     "text": [
      "toooooooooooooooooooooooo\n"
     ]
    }
   ],
   "source": [
    "#longest word in the sentence\n",
    "\n",
    "def find_longest(string):\n",
    "    string=string.split()\n",
    "    longest = 0\n",
    "    longest_word=string[0]\n",
    "    for s in string:\n",
    "        count=0\n",
    "        for letter in s:\n",
    "            count +=1\n",
    "            \n",
    "        if count > longest:\n",
    "            longest = count\n",
    "            longest_word = s\n",
    "            \n",
    "    return longest_word\n",
    "\n",
    "print(find_longest(\"welcome toooooooooooooooooooooooo python programming\"))\n",
    "            \n",
    "            \n",
    "    "
   ]
  },
  {
   "cell_type": "code",
   "execution_count": 87,
   "metadata": {},
   "outputs": [
    {
     "name": "stdout",
     "output_type": "stream",
     "text": [
      "['python', 'programming', 'language']\n"
     ]
    }
   ],
   "source": [
    "def reverse_words(string):\n",
    "    reversed_words = \"\"\n",
    "    current_word = \"\"\n",
    "    words = []\n",
    "\n",
    "    for char in string:\n",
    "        if char in ' \\t\\n\\r\\v\\f':  # Check for whitespace characters\n",
    "            if current_word:  # Add current word to words list if it's not empty\n",
    "                words.append(current_word)\n",
    "                current_word = \"\"\n",
    "        else:\n",
    "            current_word += char  # Accumulate characters for the current word\n",
    "\n",
    "    # Add the last word if any\n",
    "    if current_word:\n",
    "        words.append(current_word)\n",
    "    \n",
    "    return words\n",
    "\n",
    "print(reverse_words(\"python programming language\"))"
   ]
  },
  {
   "cell_type": "code",
   "execution_count": 88,
   "metadata": {},
   "outputs": [
    {
     "name": "stdout",
     "output_type": "stream",
     "text": [
      "(5, 1)\n"
     ]
    }
   ],
   "source": [
    "def large_small(arr):\n",
    "    largest = arr[0]\n",
    "    smallest =arr[0]\n",
    "    for i in range(len(arr)):\n",
    "        if arr[i] > largest :\n",
    "            largest = arr[i]\n",
    "        if arr[i] < smallest:\n",
    "            smallest = arr[i]\n",
    "            \n",
    "    return largest, smallest\n",
    "\n",
    "print(large_small([1,2,3,4,5]))"
   ]
  },
  {
   "cell_type": "code",
   "execution_count": 1,
   "metadata": {},
   "outputs": [
    {
     "name": "stdout",
     "output_type": "stream",
     "text": [
      "[2, 3, 4, 5, 1]\n"
     ]
    }
   ],
   "source": [
    "def rotate(arr):\n",
    "        rotated_arr=arr[1:] + arr[:1]\n",
    "        return rotated_arr\n",
    "    \n",
    "print(rotate([1,2,3,4,5]))"
   ]
  }
 ],
 "metadata": {
  "kernelspec": {
   "display_name": "Python 3",
   "language": "python",
   "name": "python3"
  },
  "language_info": {
   "codemirror_mode": {
    "name": "ipython",
    "version": 3
   },
   "file_extension": ".py",
   "mimetype": "text/x-python",
   "name": "python",
   "nbconvert_exporter": "python",
   "pygments_lexer": "ipython3",
   "version": "3.7.6"
  }
 },
 "nbformat": 4,
 "nbformat_minor": 2
}
