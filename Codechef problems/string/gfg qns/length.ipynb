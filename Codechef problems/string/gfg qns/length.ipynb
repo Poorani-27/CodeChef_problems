{
 "cells": [
  {
   "cell_type": "code",
   "execution_count": 1,
   "metadata": {},
   "outputs": [
    {
     "name": "stdout",
     "output_type": "stream",
     "text": [
      "len function  5\n",
      "5\n"
     ]
    }
   ],
   "source": [
    "def length(string):\n",
    "    return(len(string))\n",
    "\n",
    "print(\"len function \",length(\"hello\"))\n",
    "\n",
    "string=\"hello\"\n",
    "count=0\n",
    "for a in string:\n",
    "    count +=1\n",
    "print(\"without len()\",count)"
   ]
  }
 ],
 "metadata": {
  "kernelspec": {
   "display_name": "Python 3",
   "language": "python",
   "name": "python3"
  },
  "language_info": {
   "codemirror_mode": {
    "name": "ipython",
    "version": 3
   },
   "file_extension": ".py",
   "mimetype": "text/x-python",
   "name": "python",
   "nbconvert_exporter": "python",
   "pygments_lexer": "ipython3",
   "version": "3.7.6"
  }
 },
 "nbformat": 4,
 "nbformat_minor": 2
}
