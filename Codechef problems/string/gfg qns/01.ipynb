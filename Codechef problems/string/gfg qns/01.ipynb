{
 "cells": [
  {
   "cell_type": "markdown",
   "metadata": {},
   "source": [
    "Python program to check whether the string is Symmetrical or Palindrome\n",
    "\n",
    "Given a string. the task is to check if the string is symmetrical and palindrome or not. A string is said to be symmetrical if both the halves of the string are the same and a string is said to be a palindrome string if one half of the string is the reverse of the other half or if a string appears the same when read forward or backward.\n",
    "\n",
    "Example: \n",
    "\n",
    "Input: khokho\n",
    "Output: \n",
    "The entered string is symmetrical\n",
    "The entered string is not palindrome\n",
    "\n",
    "Input:amaama\n",
    "Output:\n",
    "The entered string is symmetrical\n",
    "The entered string is palindrome"
   ]
  },
  {
   "cell_type": "code",
   "execution_count": 3,
   "metadata": {},
   "outputs": [
    {
     "name": "stdout",
     "output_type": "stream",
     "text": [
      "khokho is palindrom False and symmetrical True\n",
      "amaama is palindrom True and symmetrical True\n"
     ]
    }
   ],
   "source": [
    "def pallindrom(string):\n",
    "    string.lower()\n",
    "    return(string==string[::-1])\n",
    "\n",
    "def symmetrical(string):\n",
    "    string.lower()\n",
    "    if len(string)%2 !=0 :\n",
    "        return False\n",
    "    else :\n",
    "        mid=len(string)//2\n",
    "        return (string[:mid]==string[mid:])\n",
    "\n",
    "string1=\"khokho\"  \n",
    "string2=\"amaama\"  \n",
    "result1=pallindrom(string1),symmetrical(string1)\n",
    "result2=pallindrom(string2),symmetrical(string2)\n",
    "print(f\"{string1} is palindrom {result1[0]} and symmetrical {result1[1]}\")\n",
    "print(f\"{string2} is palindrom {result2[0]} and symmetrical {result2[1]}\")\n",
    "\n",
    "\n"
   ]
  }
 ],
 "metadata": {
  "kernelspec": {
   "display_name": "Python 3",
   "language": "python",
   "name": "python3"
  },
  "language_info": {
   "codemirror_mode": {
    "name": "ipython",
    "version": 3
   },
   "file_extension": ".py",
   "mimetype": "text/x-python",
   "name": "python",
   "nbconvert_exporter": "python",
   "pygments_lexer": "ipython3",
   "version": "3.7.6"
  }
 },
 "nbformat": 4,
 "nbformat_minor": 2
}
