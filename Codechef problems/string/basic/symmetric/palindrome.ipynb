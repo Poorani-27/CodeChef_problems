{
 "cells": [
  {
   "cell_type": "markdown",
   "metadata": {},
   "source": [
    "1.symmetric\n",
    "\n",
    "\n",
    "2.pallindrome\n",
    "\n",
    "\n",
    "3.anagram\n",
    "\n",
    "\n",
    "4.substring\n",
    "\n",
    "\n",
    "5.subsequences\n",
    "\n",
    "\n",
    "6.permutation\n",
    "\n",
    "\n",
    "7.Rotations\n",
    "\n",
    "\n",
    "8.Concatenation\n",
    "\n",
    "\n",
    "9.reversal \n",
    "\n",
    "\n",
    "10.lexicographic order\n"
   ]
  },
  {
   "cell_type": "markdown",
   "metadata": {},
   "source": [
    "**Symmetric**"
   ]
  },
  {
   "cell_type": "code",
   "execution_count": 8,
   "metadata": {},
   "outputs": [
    {
     "name": "stdout",
     "output_type": "stream",
     "text": [
      "True\n",
      "False\n"
     ]
    }
   ],
   "source": [
    "def symmetric(str1):\n",
    "    if len(str1)%2 !=0:\n",
    "        return False\n",
    "    else:\n",
    "        return str1[:(len(str1)//2)] == str1[(len(str1)//2) :]\n",
    "\n",
    "print(symmetric(\"khokho\"))\n",
    "print(symmetric(\"hello\"))"
   ]
  },
  {
   "cell_type": "markdown",
   "metadata": {},
   "source": [
    "**Palindrome**\n",
    "\n",
    "ignore case space punctuations\n"
   ]
  },
  {
   "cell_type": "code",
   "execution_count": 12,
   "metadata": {},
   "outputs": [
    {
     "name": "stdout",
     "output_type": "stream",
     "text": [
      "True\n",
      "True\n",
      "True\n",
      "False\n"
     ]
    }
   ],
   "source": [
    "def palindrome(str1):\n",
    "    str1.replace(\" \",\"\")\n",
    "    return str1.lower()==str1[::-1].lower()\n",
    "\n",
    "print(palindrome(\"malayalam\"))\n",
    "print(palindrome(\"Malayalam\"))\n",
    "print(palindrome(\"Hello olleh\"))\n",
    "print(palindrome(\"khokho\"))"
   ]
  },
  {
   "cell_type": "markdown",
   "metadata": {},
   "source": [
    "**Anagram**\n",
    "\n",
    "sort and Compare"
   ]
  },
  {
   "cell_type": "code",
   "execution_count": 15,
   "metadata": {},
   "outputs": [
    {
     "name": "stdout",
     "output_type": "stream",
     "text": [
      "True\n",
      "False\n"
     ]
    }
   ],
   "source": [
    "def anagram(str1,str2):\n",
    "    return sorted(str1)==sorted(str2)\n",
    "\n",
    "print(anagram(\"slient\", \"listen\"))\n",
    "print(anagram(\"hello\",\"eloh\"))"
   ]
  },
  {
   "cell_type": "markdown",
   "metadata": {},
   "source": [
    "**Substring**\n",
    "\n",
    "in"
   ]
  },
  {
   "cell_type": "code",
   "execution_count": 16,
   "metadata": {},
   "outputs": [
    {
     "name": "stdout",
     "output_type": "stream",
     "text": [
      "True\n",
      "False\n"
     ]
    }
   ],
   "source": [
    "def substring(str1,str2):\n",
    "    return str2 in str1\n",
    "\n",
    "print(substring(\"abcde\",\"abc\"))\n",
    "print(substring(\"abcde\",\"acb\"))\n"
   ]
  },
  {
   "cell_type": "markdown",
   "metadata": {},
   "source": [
    "**Reversal**\n"
   ]
  },
  {
   "cell_type": "code",
   "execution_count": 17,
   "metadata": {},
   "outputs": [
    {
     "name": "stdout",
     "output_type": "stream",
     "text": [
      "olleh\n"
     ]
    }
   ],
   "source": [
    "def reversal(str1):\n",
    "    return str1[::-1]\n",
    "\n",
    "print(reversal(\"hello\"))"
   ]
  },
  {
   "cell_type": "markdown",
   "metadata": {},
   "source": [
    "**Concatenation**\n",
    "\n",
    "'+'"
   ]
  },
  {
   "cell_type": "code",
   "execution_count": 18,
   "metadata": {},
   "outputs": [
    {
     "name": "stdout",
     "output_type": "stream",
     "text": [
      "abcdef\n"
     ]
    }
   ],
   "source": [
    "def concatenation(str1,str2):\n",
    "    return str1+str2\n",
    "\n",
    "print(concatenation(\"abc\",\"def\"))\n"
   ]
  },
  {
   "cell_type": "markdown",
   "metadata": {},
   "source": [
    "**Lexicographic order**\n",
    "\n",
    "'><''"
   ]
  },
  {
   "cell_type": "code",
   "execution_count": 19,
   "metadata": {},
   "outputs": [
    {
     "name": "stdout",
     "output_type": "stream",
     "text": [
      "orange\n"
     ]
    }
   ],
   "source": [
    "def lexicographic_order(str1,str2):\n",
    "    if str1>str2: return str1\n",
    "    return str2\n",
    "\n",
    "print(lexicographic_order(\"apple\",\"orange\"))"
   ]
  },
  {
   "cell_type": "markdown",
   "metadata": {},
   "source": [
    "**Rotation**\n",
    "\n"
   ]
  },
  {
   "cell_type": "code",
   "execution_count": 21,
   "metadata": {},
   "outputs": [
    {
     "name": "stdout",
     "output_type": "stream",
     "text": [
      "True\n",
      "False\n"
     ]
    }
   ],
   "source": [
    "def rotation(str1,str2):\n",
    "    return str2 in (str1+str1)\n",
    "\n",
    "print(rotation(\"abcde\",\"bcdea\"))\n",
    "print(rotation(\"abcd\",\"bdca\"))\n"
   ]
  }
 ],
 "metadata": {
  "kernelspec": {
   "display_name": "Python 3",
   "language": "python",
   "name": "python3"
  },
  "language_info": {
   "codemirror_mode": {
    "name": "ipython",
    "version": 3
   },
   "file_extension": ".py",
   "mimetype": "text/x-python",
   "name": "python",
   "nbconvert_exporter": "python",
   "pygments_lexer": "ipython3",
   "version": "3.7.6"
  }
 },
 "nbformat": 4,
 "nbformat_minor": 2
}
