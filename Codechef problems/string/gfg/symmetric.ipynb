{
 "cells": [
  {
   "cell_type": "markdown",
   "metadata": {},
   "source": [
    " A string is said to be symmetrical if both the halves of the string are the same"
   ]
  },
  {
   "cell_type": "code",
   "execution_count": 38,
   "metadata": {},
   "outputs": [
    {
     "name": "stdout",
     "output_type": "stream",
     "text": [
      "symmetric\n"
     ]
    }
   ],
   "source": [
    "string=\"This is an example This is an example\"\n",
    "string=string.replace(\" \",\"\")\n",
    "# print(string)\n",
    "if len(string)%2 ==0:   \n",
    "    mid_index=int(len(string)/2)\n",
    "    if string[:mid_index] == string[mid_index:]:\n",
    "        print(\"symmetric\")\n",
    "    else:\n",
    "        print(\"no symmetric\")\n",
    "    \n",
    "else:\n",
    "    print(\"no symmetric\")\n",
    "    \n"
   ]
  }
 ],
 "metadata": {
  "kernelspec": {
   "display_name": "Python 3",
   "language": "python",
   "name": "python3"
  },
  "language_info": {
   "codemirror_mode": {
    "name": "ipython",
    "version": 3
   },
   "file_extension": ".py",
   "mimetype": "text/x-python",
   "name": "python",
   "nbconvert_exporter": "python",
   "pygments_lexer": "ipython3",
   "version": "3.7.6"
  }
 },
 "nbformat": 4,
 "nbformat_minor": 2
}
