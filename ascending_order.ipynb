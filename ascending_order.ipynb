{
 "cells": [
  {
   "cell_type": "code",
   "execution_count": 4,
   "metadata": {},
   "outputs": [
    {
     "name": "stdout",
     "output_type": "stream",
     "text": [
      "[3, 12, 4, 5, 10]\n"
     ]
    }
   ],
   "source": [
    "def ascending_order(arr):\n",
    "    left = 0\n",
    "    right = len(arr)-1\n",
    "    while left  < right :\n",
    "        temp = arr[left]\n",
    "        arr[left] = arr[right]\n",
    "        arr[right] = temp\n",
    "        left +=1\n",
    "        right -=1\n",
    "        \n",
    "    return arr\n",
    "\n",
    "arr=[10,5,4,12,3]\n",
    "print(ascending_order(arr))\n",
    "    "
   ]
  }
 ],
 "metadata": {
  "kernelspec": {
   "display_name": "Python 3",
   "language": "python",
   "name": "python3"
  },
  "language_info": {
   "codemirror_mode": {
    "name": "ipython",
    "version": 3
   },
   "file_extension": ".py",
   "mimetype": "text/x-python",
   "name": "python",
   "nbconvert_exporter": "python",
   "pygments_lexer": "ipython3",
   "version": "3.7.6"
  }
 },
 "nbformat": 4,
 "nbformat_minor": 2
}
