{
 "cells": [
  {
   "cell_type": "code",
   "execution_count": 5,
   "metadata": {},
   "outputs": [
    {
     "name": "stdout",
     "output_type": "stream",
     "text": [
      "fedcba\n"
     ]
    }
   ],
   "source": [
    "def reverse_string(string):\n",
    "    if len(string) <=1:\n",
    "        return string\n",
    "    else:\n",
    "        return reverse_string(string[1:]) + string[0]\n",
    "    \n",
    "print(reverse_string(\"abcdef\"))\n"
   ]
  },
  {
   "cell_type": "code",
   "execution_count": 11,
   "metadata": {},
   "outputs": [
    {
     "name": "stdout",
     "output_type": "stream",
     "text": [
      "49809321\n"
     ]
    }
   ],
   "source": [
    "def reverse_number(num):\n",
    "    \n",
    "    reverse_number=0\n",
    "    while num >0:\n",
    "        last_digit = num%10\n",
    "        reverse_number= reverse_number*10 + last_digit\n",
    "        num=num//10\n",
    "    return reverse_number\n",
    "\n",
    "print(reverse_number(12390894))\n",
    "        "
   ]
  },
  {
   "cell_type": "code",
   "execution_count": 16,
   "metadata": {},
   "outputs": [
    {
     "name": "stdout",
     "output_type": "stream",
     "text": [
      "dcba\n"
     ]
    }
   ],
   "source": [
    "def iterative(string):\n",
    "    reversed_string=\"\"\n",
    "    for char in string :\n",
    "        reversed_string = char + reversed_string\n",
    "    return reversed_string\n",
    "\n",
    "print(iterative('abcd'))\n",
    "        \n"
   ]
  }
 ],
 "metadata": {
  "kernelspec": {
   "display_name": "Python 3",
   "language": "python",
   "name": "python3"
  },
  "language_info": {
   "codemirror_mode": {
    "name": "ipython",
    "version": 3
   },
   "file_extension": ".py",
   "mimetype": "text/x-python",
   "name": "python",
   "nbconvert_exporter": "python",
   "pygments_lexer": "ipython3",
   "version": "3.7.6"
  }
 },
 "nbformat": 4,
 "nbformat_minor": 2
}
