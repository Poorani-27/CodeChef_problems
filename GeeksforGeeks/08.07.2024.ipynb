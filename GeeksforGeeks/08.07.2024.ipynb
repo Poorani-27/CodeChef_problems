{
 "cells": [
  {
   "cell_type": "code",
   "execution_count": 1,
   "metadata": {},
   "outputs": [
    {
     "name": "stdout",
     "output_type": "stream",
     "text": [
      "4\n"
     ]
    }
   ],
   "source": [
    "def find_hcf(a,b):\n",
    "    factors_of_a=[]\n",
    "    factors_of_b=[]\n",
    "    for i in range(1,a+1):\n",
    "        if a %i == 0:\n",
    "            factors_of_a.append(i)\n",
    "    for i in range(1,b+1):\n",
    "        if b%i == 0:\n",
    "            factors_of_b.append(i)\n",
    "    hcf=set(factors_of_a) & set(factors_of_b)\n",
    "    return max(hcf)\n",
    "    \n",
    "\n",
    "a=12\n",
    "b=16\n",
    "result = find_hcf(a,b)\n",
    "print(result)\n",
    "    "
   ]
  },
  {
   "cell_type": "code",
   "execution_count": null,
   "metadata": {},
   "outputs": [],
   "source": []
  },
  {
   "cell_type": "markdown",
   "metadata": {},
   "source": [
    "4. Median of Two Sorted Arrays\n",
    "Hard\n",
    "Topics\n",
    "Companies\n",
    "Given two sorted arrays nums1 and nums2 of size m and n respectively, return the median of the two sorted arrays.\n",
    "\n",
    "The overall run time complexity should be O(log (m+n)).\n",
    "\n",
    " \n",
    "\n",
    "Example 1:\n",
    "\n",
    "Input: nums1 = [1,3], nums2 = [2]\n",
    "Output: 2.00000\n",
    "Explanation: merged array = [1,2,3] and median is 2.\n",
    "Example 2:\n",
    "\n",
    "Input: nums1 = [1,2], nums2 = [3,4]\n",
    "Output: 2.50000\n",
    "Explanation: merged array = [1,2,3,4] and median is (2 + 3) / 2 = 2.5."
   ]
  },
  {
   "cell_type": "code",
   "execution_count": 10,
   "metadata": {},
   "outputs": [
    {
     "name": "stdout",
     "output_type": "stream",
     "text": [
      "[1, 2, 3, 4, 6]\n"
     ]
    }
   ],
   "source": [
    "def median(num1,num2):\n",
    "    merged_arr=num1+num2\n",
    "    length=0\n",
    "    for n in merged_arr:\n",
    "        if n :\n",
    "            length +=1\n",
    "    \n",
    "    for i in range(length-1):\n",
    "        for j in range(length-1-i):\n",
    "            if merged_arr[j] >  merged_arr[j+1]:\n",
    "                merged_arr[j],merged_arr[j+1] = merged_arr[j+1],merged_arr[j]\n",
    "    \n",
    "    # median_value = length // 2\n",
    "    # if length %2 != 0:\n",
    "    #     return merged_arr[median_value]\n",
    "    # else:\n",
    "    #     return (merged_arr[median_value-1] + merged_arr[median_value ]) / 2\n",
    "    \n",
    "    return merged_arr\n",
    "\n",
    "    \n",
    "    \n",
    "num1 = [1,3,6]\n",
    "num2 = [2,4]\n",
    "result=median(num1,num2)\n",
    "print(result)\n",
    "    "
   ]
  },
  {
   "cell_type": "code",
   "execution_count": 4,
   "metadata": {},
   "outputs": [
    {
     "name": "stdout",
     "output_type": "stream",
     "text": [
      "[1, 4, 3, 6, 24, 54, 5, 7, 1, 22, 55, 6, 26, 58, 96]\n"
     ]
    }
   ],
   "source": [
    "num1=[1,4,6,3,24,58,54]\n",
    "num2=[5,7,1,22,55,6,26,96]\n",
    "\n",
    "merged_arr=num1+num2\n",
    "for i in range(len(merged_arr)-1):\n",
    "        if merged_arr[i] > merged_arr[i+1]:\n",
    "            merged_arr[i],merged_arr[i+1] = merged_arr[i+1],merged_arr[i]\n",
    "print(merged_arr)"
   ]
  },
  {
   "cell_type": "code",
   "execution_count": 20,
   "metadata": {},
   "outputs": [
    {
     "name": "stdout",
     "output_type": "stream",
     "text": [
      "[0, 1, 1, 2, 3, 5, 8, 13, 21, 34, 55, 89]\n",
      "None\n"
     ]
    }
   ],
   "source": [
    "def fib(n):\n",
    "    a=0\n",
    "    b=1\n",
    "    series=[]\n",
    "    for i in range(n+2):\n",
    "        if i ==0 or i ==1:\n",
    "            series +=[i]\n",
    "        else:\n",
    "            a,b=b,a+b\n",
    "            series +=[b]\n",
    "    print(series)\n",
    "        \n",
    "print(fib(10))"
   ]
  }
 ],
 "metadata": {
  "kernelspec": {
   "display_name": "Python 3",
   "language": "python",
   "name": "python3"
  },
  "language_info": {
   "codemirror_mode": {
    "name": "ipython",
    "version": 3
   },
   "file_extension": ".py",
   "mimetype": "text/x-python",
   "name": "python",
   "nbconvert_exporter": "python",
   "pygments_lexer": "ipython3",
   "version": "3.7.6"
  }
 },
 "nbformat": 4,
 "nbformat_minor": 2
}
