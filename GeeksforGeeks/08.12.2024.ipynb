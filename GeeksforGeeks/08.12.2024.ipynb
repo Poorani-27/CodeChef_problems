{
 "cells": [
  {
   "cell_type": "code",
   "execution_count": 1,
   "metadata": {},
   "outputs": [
    {
     "name": "stdout",
     "output_type": "stream",
     "text": [
      "2.82842712474619\n",
      "1024\n",
      "2.8125\n",
      "20\n",
      "10.0\n",
      "610.51\n",
      "400.0\n",
      "(5, 10)\n",
      "(3, 2)\n"
     ]
    }
   ],
   "source": [
    "def add(a, b):\n",
    "    if b == 0:\n",
    "        return a\n",
    "    while b != 0:\n",
    "        carry = a & b\n",
    "        a = a ^ b\n",
    "        b = carry << 1\n",
    "    return a\n",
    "\n",
    "\n",
    "def sub(a,b):\n",
    "    if a < b :\n",
    "        return -(sub(b,a))\n",
    "    while b != 0 :\n",
    "        borrow = (~a) & b\n",
    "        a = a ^ b\n",
    "        b = borrow << 1\n",
    "    return a\n",
    "\n",
    "def multiply(a,b):\n",
    "    if a == 0 or b == 0 :\n",
    "        return 0\n",
    "    result = 0\n",
    "    while b != 0:\n",
    "        result +=a\n",
    "        a <<= 1\n",
    "        b >>= 1\n",
    "    return result\n",
    "\n",
    "\n",
    "def divide(dividend,divisor):\n",
    "    quotient = 0\n",
    "    remainder = dividend\n",
    "    while remainder >= divisor:\n",
    "        remainder -=divisor\n",
    "        quotient +=1\n",
    "\n",
    "    return quotient,remainder\n",
    "\n",
    "def avg_(a,b):\n",
    "    return (a+b)//2\n",
    "\n",
    "def sq(a):\n",
    "    return a ** 0.5\n",
    "\n",
    "def sqrt_root(a):\n",
    "    guess = a\n",
    "    tolerance=1e-10\n",
    "    while True:\n",
    "        new_guess = 0.5 * (guess+ a / guess)\n",
    "        if abs(new_guess - guess )  < tolerance:\n",
    "            return new_guess\n",
    "\n",
    "        guess = new_guess\n",
    "\n",
    "print(sqrt_root(8))\n",
    "\n",
    "\n",
    "def swap(a,b):\n",
    "    temp=a\n",
    "    a=b\n",
    "    b=temp\n",
    "    return (a,b)\n",
    "\n",
    "def swap2(a,b):\n",
    "    a=a+b\n",
    "    b=a-b\n",
    "    a=a-b\n",
    "    return a,b\n",
    "\n",
    "\n",
    "\n",
    "def simple_interest(p,n,r):\n",
    "    rate=r/100\n",
    "    interest= rate*p*n\n",
    "    return interest\n",
    "\n",
    "\n",
    "def compound_interset(p,r,n):\n",
    "    initial_prinicipal = p\n",
    "    for i in range(1,n+1):\n",
    "        interest_rate=(r*p)/100\n",
    "        p +=interest_rate\n",
    "\n",
    "    ci = p - initial_prinicipal\n",
    "    return ci\n",
    "\n",
    "\n",
    "def area_circle(r):\n",
    "    PI=3.14\n",
    "    return PI*r*r\n",
    "\n",
    "\n",
    "def area_triangle(b,h):\n",
    "    return (1/2) *b *h\n",
    "\n",
    "def area_rectangle(l,b):\n",
    "    return l*b\n",
    "\n",
    "def km_miles(n):\n",
    "    return n * (5/8)\n",
    "\n",
    "\n",
    "\n",
    "def kb_bytes(kb) :\n",
    "    result = kb * 1024\n",
    "    return result\n",
    "\n",
    "\n",
    "\n",
    "\n",
    "\n",
    "\n",
    "print(kb_bytes(1))\n",
    "print(km_miles(4.5))\n",
    "\n",
    "print(area_rectangle(5,4))\n",
    "\n",
    "print(area_triangle(4,5))\n",
    "\n",
    "\n",
    "result = compound_interset(1000,10,5)\n",
    "\n",
    "print(f\"{result:.2f}\")\n",
    "print(simple_interest(1000,20,2))\n",
    "\n",
    "\n",
    "\n",
    "print(swap2(10,5))\n",
    "\n",
    "\n",
    "\n",
    "\n",
    "print(swap(2,3))"
   ]
  },
  {
   "cell_type": "code",
   "execution_count": null,
   "metadata": {},
   "outputs": [],
   "source": [
    "def find_absolute_value(number):\n",
    "    # Check if the number is negative\n",
    "    if number < 0:\n",
    "        return -number  # Return the positive equivalent\n",
    "    else:\n",
    "        return number   # Return the number itself if it's positive\n",
    "\n",
    "# Example usage\n",
    "num = int(input(\"Enter a number: \"))\n",
    "absolute_value = find_absolute_value(num)\n",
    "print(f\"The absolute value of {num} is {absolute_value}.\")\n",
    "\n"
   ]
  },
  {
   "cell_type": "code",
   "execution_count": 1,
   "metadata": {},
   "outputs": [
    {
     "name": "stdout",
     "output_type": "stream",
     "text": [
      "1\n",
      "2\n",
      "3\n",
      "4\n",
      "5\n"
     ]
    }
   ],
   "source": [
    "def print_num(n):\n",
    "    if n > 0:\n",
    "\n",
    "        print_num(n-1)\n",
    "        print(n)\n",
    "\n",
    "\n",
    "print_num(5)"
   ]
  },
  {
   "cell_type": "code",
   "execution_count": 2,
   "metadata": {},
   "outputs": [
    {
     "name": "stdout",
     "output_type": "stream",
     "text": [
      "3\n"
     ]
    }
   ],
   "source": [
    "def diff(n1,n2):\n",
    "    if n1 > n2:\n",
    "        return n1-n2\n",
    "    elif n1 < n2:\n",
    "        return n2-n1\n",
    "\n",
    "\n",
    "\n",
    "print(diff(6,3))"
   ]
  },
  {
   "cell_type": "code",
   "execution_count": null,
   "metadata": {},
   "outputs": [],
   "source": [
    "num=4674346\n",
    "sum=0\n",
    "count=0\n",
    "t=num\n",
    "while t>0:\n",
    "    count +=1\n",
    "    last_digit = t %10\n",
    "    sum +=last_digit\n",
    "    t //= 10\n",
    "\n",
    "\n",
    "\n",
    "print(count)\n",
    "print(sum)"
   ]
  },
  {
   "cell_type": "code",
   "execution_count": 3,
   "metadata": {},
   "outputs": [
    {
     "name": "stdout",
     "output_type": "stream",
     "text": [
      "20\n"
     ]
    }
   ],
   "source": [
    "def largest(n1,n2,n3):\n",
    "    max =n1\n",
    "    if n1> max:\n",
    "        max=n1\n",
    "    if n2>max:\n",
    "        max=n2\n",
    "    if n3>max :\n",
    "        max=n3\n",
    "\n",
    "\n",
    "    print(max)\n",
    "\n",
    "\n",
    "largest(20,5,3)"
   ]
  },
  {
   "cell_type": "code",
   "execution_count": 4,
   "metadata": {},
   "outputs": [
    {
     "name": "stdout",
     "output_type": "stream",
     "text": [
      "21\n"
     ]
    }
   ],
   "source": [
    "def sum_natural(num):\n",
    "    sum=0\n",
    "    for i in range(num+1):\n",
    "        sum +=i\n",
    "    return sum\n",
    "\n",
    "print(sum_natural(6))"
   ]
  },
  {
   "cell_type": "code",
   "execution_count": 5,
   "metadata": {},
   "outputs": [
    {
     "name": "stdout",
     "output_type": "stream",
     "text": [
      "   November 2024\n",
      "Su Mo Tu We Th Fr Sa\n",
      "                1  2\n",
      " 3  4  5  6  7  8  9\n",
      "10 11 12 13 14 15 16\n",
      "17 18 19 20 21 22 23\n",
      "24 25 26 27 28 29 30\n",
      "\n"
     ]
    }
   ],
   "source": [
    "import calendar\n",
    "def print_calendra(year,month):\n",
    "    cal=calendar.TextCalendar(calendar.SUNDAY)\n",
    "    month_cal=cal.formatmonth(year,month)\n",
    "\n",
    "    print(month_cal)\n",
    "\n",
    "\n",
    "print_calendra(2024,11)"
   ]
  },
  {
   "cell_type": "code",
   "execution_count": 10,
   "metadata": {},
   "outputs": [
    {
     "name": "stdout",
     "output_type": "stream",
     "text": [
      "11\n"
     ]
    }
   ],
   "source": [
    "def binary_to_decimal(b):\n",
    "    decimal=0\n",
    "    \n",
    "    for i in range(len(b)):\n",
    "        bit=b[len(b)-1-i]\n",
    "        if bit == '1':\n",
    "            decimal += 2 ** i\n",
    "    return decimal\n",
    "\n",
    "print(binary_to_decimal('1011'))"
   ]
  },
  {
   "cell_type": "code",
   "execution_count": null,
   "metadata": {},
   "outputs": [],
   "source": [
    "def binary_decimal(n):\n",
    "    if n==0:\n",
    "        return 0\n",
    "    binary_digits=[]\n",
    "    while n > 0:\n",
    "        \n",
    "        \n"
   ]
  },
  {
   "cell_type": "code",
   "execution_count": 11,
   "metadata": {},
   "outputs": [
    {
     "name": "stdout",
     "output_type": "stream",
     "text": [
      "[10, 40, 50, 70, 90]\n"
     ]
    }
   ],
   "source": [
    "#sub list\n",
    "list1 = [10, 20, 30, 40, 50, 60, 70, 80, 90]\n",
    "list2 = [20, 30, 60, 80]\n",
    "#list1 – list2 = [10, 40, 50, 70, 90]\n",
    "\n",
    "result=[]\n",
    "for a in list1:\n",
    "    if a not in list2:\n",
    "        result +=[a]\n",
    "        \n",
    "print(result)\n"
   ]
  },
  {
   "cell_type": "code",
   "execution_count": 13,
   "metadata": {},
   "outputs": [
    {
     "name": "stdout",
     "output_type": "stream",
     "text": [
      "18.333333333333332\n"
     ]
    }
   ],
   "source": [
    "list1=[10,20,25]\n",
    "sum=0\n",
    "length=0 \n",
    "for l in list1:\n",
    "    sum +=l\n",
    "    length +=1\n",
    "    \n",
    "print (sum / length)"
   ]
  },
  {
   "cell_type": "code",
   "execution_count": 26,
   "metadata": {},
   "outputs": [
    {
     "name": "stdout",
     "output_type": "stream",
     "text": [
      "18\n",
      "0.3329999999999984\n",
      "18\n"
     ]
    }
   ],
   "source": [
    "n=18.333\n",
    "num=int(n)\n",
    "dec=n-num\n",
    "print(num)\n",
    "print(dec)\n",
    "if dec <=  0.5:\n",
    "    print(num)\n",
    "else:\n",
    "    print(num+1)\n"
   ]
  },
  {
   "cell_type": "code",
   "execution_count": 27,
   "metadata": {},
   "outputs": [
    {
     "name": "stdout",
     "output_type": "stream",
     "text": [
      "[2, 1, 3, 4, 5]\n"
     ]
    }
   ],
   "source": [
    "list1 =[1, 2, 3, 4, 5]\n",
    "list1[0] ,list1[1] = list1[1],list1[0]\n",
    "\n",
    "print(list1)"
   ]
  },
  {
   "cell_type": "code",
   "execution_count": 37,
   "metadata": {},
   "outputs": [
    {
     "name": "stdout",
     "output_type": "stream",
     "text": [
      "['a', 2, 'c', 4, 'e'] \n",
      " [1, 'b', 3, 'd', 5]\n"
     ]
    }
   ],
   "source": [
    "list1 = [1, 2, 3, 4, 5]\n",
    "list2= ['a','b','c','d','e']\n",
    "for i in range(len(list1)):\n",
    "    if i % 2 == 0 and i < len(list2):\n",
    "        temp=list1[i]\n",
    "        list1[i]=list2[i]\n",
    "        list2[i]=temp\n",
    "print(  list1,\"\\n\",list2)\n",
    "        \n",
    "        \n"
   ]
  },
  {
   "cell_type": "code",
   "execution_count": 39,
   "metadata": {},
   "outputs": [
    {
     "name": "stdout",
     "output_type": "stream",
     "text": [
      "assdsshj\n"
     ]
    }
   ],
   "source": [
    "string=\"AbcDefHJ\"\n",
    "new_string = \"\"\n",
    "for s in string:\n",
    "    if 'a'<= s <='z':\n",
    "        new_string +='s'\n",
    "    elif 'A' <= s <= 'Z':\n",
    "        new_string += chr(ord(s)+32)\n",
    "\n",
    "print(new_string)\n",
    "               "
   ]
  },
  {
   "cell_type": "code",
   "execution_count": 43,
   "metadata": {},
   "outputs": [
    {
     "name": "stdout",
     "output_type": "stream",
     "text": [
      "ABCDEFGH\n"
     ]
    }
   ],
   "source": [
    "string=\"abcdefgh\"\n",
    "new_string=\"\"\n",
    "for char in string:\n",
    "    if 'a'<= char <= 'z':\n",
    "        new_string += chr(ord(char)-32)\n",
    "        \n",
    "print(new_string)"
   ]
  },
  {
   "cell_type": "code",
   "execution_count": 59,
   "metadata": {},
   "outputs": [
    {
     "name": "stdout",
     "output_type": "stream",
     "text": [
      "aabbbcccc\n"
     ]
    }
   ],
   "source": [
    "input='a2b3c4'\n",
    "new_string=\"\"\n",
    "\n",
    "for i in range(len(input)):\n",
    "    if 'a' <= input[i] <='s':\n",
    "        new_string += input[i]\n",
    "    elif '0' <= input[i] <= '9':\n",
    "        num = int(input[i])\n",
    "        for _ in range(1,num):\n",
    "            new_string += input[i-1]\n",
    "            \n",
    "print(new_string)\n",
    "            "
   ]
  },
  {
   "cell_type": "code",
   "execution_count": 61,
   "metadata": {},
   "outputs": [
    {
     "name": "stdout",
     "output_type": "stream",
     "text": [
      "[4, 5, 6]\n"
     ]
    }
   ],
   "source": [
    "def common_elements(arr1,arr2):\n",
    "    \n",
    "    \n",
    "    def remove_duplicate(arr):\n",
    "        \n",
    "        seen=[]\n",
    "        unique=[]\n",
    "        for a in arr:\n",
    "            if a not in seen :\n",
    "                seen +=[a]\n",
    "                unique +=[a]\n",
    "        return unique\n",
    "    \n",
    "    arr1=remove_duplicate(arr1)\n",
    "    arr2=remove_duplicate(arr2)\n",
    "    \n",
    "    elements_in_common=[]\n",
    "    \n",
    "    for a in arr1:\n",
    "        if a in arr2 :\n",
    "            elements_in_common +=[a]\n",
    "            \n",
    "    return elements_in_common\n",
    "    \n",
    "\n",
    "\n",
    "\n",
    "arr1=[1,2,3,4,5,6]\n",
    "arr2=[4,5,6,7,8,9,12]\n",
    "\n",
    "\n",
    "print(common_elements(arr1,arr2))\n"
   ]
  },
  {
   "cell_type": "code",
   "execution_count": 1,
   "metadata": {},
   "outputs": [
    {
     "name": "stdout",
     "output_type": "stream",
     "text": [
      "100\n"
     ]
    }
   ],
   "source": [
    "s='d'\n",
    "print(ord(s))"
   ]
  },
  {
   "cell_type": "code",
   "execution_count": 9,
   "metadata": {},
   "outputs": [
    {
     "name": "stdout",
     "output_type": "stream",
     "text": [
      "251\n"
     ]
    }
   ],
   "source": [
    "s='1Qy'\n",
    "new_string=[]\n",
    "for char in s:\n",
    "    new_string +=[int(ord(char))]\n",
    "    \n",
    "\n",
    "print(sum(new_string))"
   ]
  },
  {
   "cell_type": "code",
   "execution_count": 8,
   "metadata": {},
   "outputs": [
    {
     "name": "stdout",
     "output_type": "stream",
     "text": [
      "81\n",
      "121\n",
      "49\n"
     ]
    }
   ],
   "source": [
    "print(ord('Q'))\n",
    "print(ord('y'))\n",
    "\n",
    "print(ord('1'))\n"
   ]
  },
  {
   "cell_type": "code",
   "execution_count": 10,
   "metadata": {},
   "outputs": [
    {
     "name": "stdout",
     "output_type": "stream",
     "text": [
      "1381\n"
     ]
    }
   ],
   "source": [
    "s = \"geeksforgeeks\"\n",
    "\n",
    "\n",
    "ascii_value=0\n",
    "for char in s:\n",
    "            ascii_value +=ord(char)\n",
    "print(ascii_value)"
   ]
  },
  {
   "cell_type": "code",
   "execution_count": 17,
   "metadata": {},
   "outputs": [
    {
     "name": "stdout",
     "output_type": "stream",
     "text": [
      "4321\n"
     ]
    }
   ],
   "source": [
    "N=1234\n",
    "reversed_num=0\n",
    "t=N\n",
    "while t > 0:\n",
    "    last_digit = t %10\n",
    "    reversed_num = reversed_num *10 + last_digit\n",
    "    t//=10\n",
    "print(reversed_num)"
   ]
  },
  {
   "cell_type": "code",
   "execution_count": 26,
   "metadata": {},
   "outputs": [
    {
     "name": "stdout",
     "output_type": "stream",
     "text": [
      "('441', '441')\n"
     ]
    }
   ],
   "source": [
    "def checkAdamOrNot(N):\n",
    "        reversed_num=0\n",
    "        t=N\n",
    "        while t > 0:\n",
    "            last_digit = t %10\n",
    "            reversed_num = reversed_num *10 + last_digit\n",
    "            t//=10\n",
    "            \n",
    "        N_sq=N**2\n",
    "        reversed_sq=reversed_num **2\n",
    "        return str(N_sq)[::-1], str(reversed_sq)\n",
    "        # return \"YES\" if N_sq == reversed_sq else \"NO\"\n",
    "    \n",
    "print(checkAdamOrNot(12))"
   ]
  },
  {
   "cell_type": "code",
   "execution_count": 44,
   "metadata": {},
   "outputs": [
    {
     "name": "stdout",
     "output_type": "stream",
     "text": [
      "8\n"
     ]
    }
   ],
   "source": [
    "n=9.8\n",
    "n=str(n).rstrip('0').split('.')\n",
    "decimal_part = n[-1]\n",
    "print(decimal_part)"
   ]
  },
  {
   "cell_type": "code",
   "execution_count": 47,
   "metadata": {},
   "outputs": [
    {
     "name": "stdout",
     "output_type": "stream",
     "text": [
      "9000000000000057.0\n"
     ]
    }
   ],
   "source": [
    "s=123.9\n",
    "integer=int(s)\n",
    "decimal=s-integer\n",
    "decimal = decimal *10 **len(str(decimal)[2:])\n",
    "print(decimal)"
   ]
  },
  {
   "cell_type": "code",
   "execution_count": 50,
   "metadata": {},
   "outputs": [
    {
     "name": "stdout",
     "output_type": "stream",
     "text": [
      "98\n"
     ]
    }
   ],
   "source": [
    "s=98.6\n",
    "integer=int(s)\n",
    "print(integer)"
   ]
  },
  {
   "cell_type": "code",
   "execution_count": 12,
   "metadata": {},
   "outputs": [
    {
     "name": "stdout",
     "output_type": "stream",
     "text": [
      "2.386000936368161\n"
     ]
    }
   ],
   "source": [
    "def floorSqrt(x):\n",
    "        if x==0 or x==1:\n",
    "            return 1\n",
    "        def sq(x):    \n",
    "            guess=x\n",
    "            tolerance=1e-10\n",
    "        \n",
    "            while True:\n",
    "                new_guess = 0.5 *((guess+x)/guess) \n",
    "                if abs(new_guess-guess) < tolerance:\n",
    "                    return new_guess\n",
    "                \n",
    "                guess=new_guess\n",
    "\n",
    "        result = sq(x)\n",
    "        \n",
    "        integer=int(result)\n",
    "        decimal_part=result-integer\n",
    "        if decimal_part>=0.5:\n",
    "            return (integer+1)\n",
    "        else:\n",
    "            return integer\n",
    "        \n",
    "print(floorSqrt(4))"
   ]
  },
  {
   "cell_type": "code",
   "execution_count": 17,
   "metadata": {},
   "outputs": [
    {
     "name": "stdout",
     "output_type": "stream",
     "text": [
      "5\n"
     ]
    }
   ],
   "source": [
    "def floorSqrt(x):\n",
    "    # Edge cases\n",
    "    if x == 0 or x == 1:\n",
    "        return x\n",
    "\n",
    "    # Binary search to find the floor of sqrt(x)\n",
    "    start = 1\n",
    "    end = x\n",
    "    result = 0\n",
    "\n",
    "    while start <= end:\n",
    "        mid = (start + end) // 2\n",
    "\n",
    "        # If x is a perfect square\n",
    "        if mid * mid == x:\n",
    "            return mid\n",
    "\n",
    "        # If mid*mid is less than x, discard left half\n",
    "        if mid * mid < x:\n",
    "            start = mid + 1\n",
    "            result = mid\n",
    "        else:\n",
    "            # If mid*mid is greater than x, discard right half\n",
    "            end = mid - 1\n",
    "\n",
    "    return result\n",
    "\n",
    "print(floorSqrt(25))  # Output: 3\n"
   ]
  },
  {
   "cell_type": "code",
   "execution_count": 20,
   "metadata": {},
   "outputs": [
    {
     "name": "stdout",
     "output_type": "stream",
     "text": [
      "3\n",
      "3.872983346207418\n",
      "5\n"
     ]
    }
   ],
   "source": [
    "def customSqrt(x):\n",
    "    # Handle edge cases\n",
    "    if x == 0 or x == 1:\n",
    "        return x\n",
    "\n",
    "    # Initial guess\n",
    "    guess = x / 2.0\n",
    "\n",
    "    # Tolerance level to stop the approximation\n",
    "    tolerance = 1e-10\n",
    "\n",
    "    while True:\n",
    "        # Newton-Raphson formula: guess = (guess + x / guess) / 2\n",
    "        new_guess = (guess + x / guess) / 2\n",
    "\n",
    "        # Stop if the difference is within the tolerance level\n",
    "        if abs(new_guess - guess) < tolerance:\n",
    "            break\n",
    "\n",
    "        guess = new_guess\n",
    "\n",
    "    # Check if the result is a perfect square\n",
    "    if int(guess) ** 2 == x:\n",
    "        return int(guess)\n",
    "    else:\n",
    "        return guess\n",
    "\n",
    "# Examples\n",
    "print(customSqrt(9))  # Output: 3 (integer)\n",
    "print(customSqrt(15)) \n",
    "print(customSqrt(25))  # Output: 2.23606797749979 (float)\n",
    "\n",
    "# Output: 2.23606797749979 (float)\n"
   ]
  },
  {
   "cell_type": "code",
   "execution_count": 27,
   "metadata": {},
   "outputs": [
    {
     "name": "stdout",
     "output_type": "stream",
     "text": [
      "2.8284271247493797\n",
      "3\n"
     ]
    }
   ],
   "source": [
    "def floorSqrt(x):\n",
    "        if x==0 or x==1:\n",
    "            return 1\n",
    "          \n",
    "        guess=x/2.0\n",
    "        tolerance=1e-10\n",
    "        \n",
    "        while True:\n",
    "            new_guess = (guess+x/guess) /2\n",
    "            if abs(new_guess-guess) < tolerance:\n",
    "                break\n",
    "                \n",
    "            guess=new_guess\n",
    "                \n",
    "        if int(guess) ** 2 ==x:\n",
    "            return int(guess)\n",
    "        else:\n",
    "            \n",
    "            return guess\n",
    "        \n",
    "        \n",
    "print(floorSqrt(8))\n",
    "print(floorSqrt(9))\n"
   ]
  },
  {
   "cell_type": "code",
   "execution_count": 28,
   "metadata": {},
   "outputs": [
    {
     "data": {
      "text/plain": [
       "5"
      ]
     },
     "execution_count": 28,
     "metadata": {},
     "output_type": "execute_result"
    }
   ],
   "source": [
    "10//2"
   ]
  },
  {
   "cell_type": "code",
   "execution_count": 29,
   "metadata": {},
   "outputs": [
    {
     "data": {
      "text/plain": [
       "0"
      ]
     },
     "execution_count": 29,
     "metadata": {},
     "output_type": "execute_result"
    }
   ],
   "source": [
    "5//10"
   ]
  },
  {
   "cell_type": "code",
   "execution_count": 30,
   "metadata": {},
   "outputs": [
    {
     "data": {
      "text/plain": [
       "2"
      ]
     },
     "execution_count": 30,
     "metadata": {},
     "output_type": "execute_result"
    }
   ],
   "source": [
    "25 // 10"
   ]
  }
 ],
 "metadata": {
  "kernelspec": {
   "display_name": "Python 3",
   "language": "python",
   "name": "python3"
  },
  "language_info": {
   "codemirror_mode": {
    "name": "ipython",
    "version": 3
   },
   "file_extension": ".py",
   "mimetype": "text/x-python",
   "name": "python",
   "nbconvert_exporter": "python",
   "pygments_lexer": "ipython3",
   "version": "3.7.6"
  }
 },
 "nbformat": 4,
 "nbformat_minor": 2
}
