{
 "cells": [
  {
   "cell_type": "code",
   "execution_count": 6,
   "metadata": {},
   "outputs": [
    {
     "name": "stdout",
     "output_type": "stream",
     "text": [
      "{1: 1, 2: 4, 3: 4, 4: 6, 5: 1, 6: 1}\n",
      "1 1\n",
      "2 4\n",
      "3 4\n",
      "4 6\n",
      "5 1\n",
      "6 1\n",
      "dict_values([1, 4, 4, 6, 1, 1])\n",
      "dict_keys([1, 2, 3, 4, 5, 6])\n"
     ]
    }
   ],
   "source": [
    "arr=[1,2,3,4,4,4,4,3,3,2,2,4,3,2,5,6,4]\n",
    "frequency={}\n",
    "for a in arr:\n",
    "    if a in frequency :\n",
    "        frequency[a]+=1\n",
    "    else :\n",
    "        frequency[a] =1\n",
    "\n",
    "print(frequency)\n",
    "\n",
    "for key,value in frequency.items():\n",
    "    print(key,value)\n",
    "\n",
    "print(frequency.values())\n",
    "print(frequency.keys())"
   ]
  },
  {
   "cell_type": "code",
   "execution_count": 13,
   "metadata": {},
   "outputs": [
    {
     "name": "stdout",
     "output_type": "stream",
     "text": [
      "[10, 35, 36, 41, 51, 30]\n"
     ]
    }
   ],
   "source": [
    "def even_count(n,arr):\n",
    "    frequency={}\n",
    "    for a in arr:\n",
    "        if a in frequency:\n",
    "            frequency[a] +=1\n",
    "        else:\n",
    "            frequency[a] =1\n",
    "    series=[]\n",
    "    for key, value in frequency.items():\n",
    "        if value %2 == 0: series +=[key]\n",
    "    \n",
    "    return series if series else [-1]\n",
    "\n",
    "n=42\n",
    "arr=[9 ,35, 41, 18, 38, 13, 1, 62, 21, 36, 48, 35, 7 ,8, 51, 35, 36, 40, 19, 10, 52, 60, 28, 41, 35, 34, 6, 63, 51, 30, 55, 30, 10, 43, 5, 27, 29, 26, 4, 39, 61 ,12]\n",
    "result =even_count(n,arr)\n",
    "for i in range(len(result)):\n",
    "    for j in  range(i+1,len(result)-1):\n",
    "        if result[i] > result[j] :\n",
    "            result[i],result[j]=result[j],result[i]\n",
    "            \n",
    "print(result)"
   ]
  },
  {
   "cell_type": "code",
   "execution_count": 3,
   "metadata": {},
   "outputs": [
    {
     "name": "stdout",
     "output_type": "stream",
     "text": [
      "5\n"
     ]
    }
   ],
   "source": [
    "def frequency(a):\n",
    "    frq={}\n",
    "    for e in a:\n",
    "        if e in frq:\n",
    "            frq[e] +=1\n",
    "        else:\n",
    "            frq[e] =1\n",
    "    return frq\n",
    "\n",
    "\n",
    "\n",
    "A= {4, 5,8,1, 6,6,6, 7}\n",
    "B = {7, 4,8,6,6, 1}\n",
    "\n",
    "frequency_a = frequency(A)\n",
    "frequency_b = frequency(B)\n",
    "\n",
    "for key in frequency_a:\n",
    "     if key not in frequency_b or frequency_a[key] != frequency_b[key]:\n",
    "          print(key)\n",
    "    \n",
    "\n",
    "\n",
    "\n",
    "\n",
    "    "
   ]
  },
  {
   "cell_type": "code",
   "execution_count": 11,
   "metadata": {},
   "outputs": [
    {
     "name": "stdout",
     "output_type": "stream",
     "text": [
      "[91, 42, 13, 2, 22, 11, 4]\n"
     ]
    }
   ],
   "source": [
    "k = 54 \n",
    "arr = [7, 98, 56, 43, 45, 23, 12, 8]\n",
    "\n",
    "nums=[]\n",
    "for i in range(len(arr)-1):\n",
    "    nums.append(abs(arr[i]-arr[i+1]))\n",
    "print(nums)\n"
   ]
  },
  {
   "cell_type": "code",
   "execution_count": 15,
   "metadata": {},
   "outputs": [
    {
     "name": "stdout",
     "output_type": "stream",
     "text": [
      "['43', '45', '23', '12']\n"
     ]
    }
   ],
   "source": [
    "k = 54 \n",
    "arr = [7, 98, 56, 43, 45, 23, 12, 8]\n",
    "\n",
    "nums=[]\n",
    " \n",
    "for i in range(len(arr)-1):\n",
    "    if arr[i] < k:\n",
    "        nums.append(arr[i])\n",
    "\n",
    "new_arr=[]\n",
    "for n in nums:\n",
    "    n_str = str(n)  \n",
    "    for i in range(len(n_str) - 1):\n",
    "        \n",
    "        diff = int(n_str[i]) - int(n_str[i + 1])\n",
    "        if abs(diff) == 1:\n",
    "            new_arr.append(n_str[i]+n_str[i+1])\n",
    "                \n",
    "            \n",
    "    \n",
    "print(new_arr)"
   ]
  },
  {
   "cell_type": "code",
   "execution_count": 18,
   "metadata": {},
   "outputs": [
    {
     "name": "stdout",
     "output_type": "stream",
     "text": [
      "[]\n"
     ]
    }
   ],
   "source": [
    "a=[i for i in range(0)]\n",
    "print(a)"
   ]
  },
  {
   "cell_type": "code",
   "execution_count": 1,
   "metadata": {},
   "outputs": [
    {
     "name": "stdout",
     "output_type": "stream",
     "text": [
      "[1]\n"
     ]
    }
   ],
   "source": [
    "\n",
    "arr=[1,2,3,4,3,2,3,12,2,1]\n",
    "unqiue_id=[]\n",
    "for i in range(len(arr)):\n",
    "    already_seen = False\n",
    "    for j in range(len(unqiue_id)):\n",
    "        already_seen = True\n",
    "        break\n",
    "    if not already_seen :\n",
    "        unqiue_id.append(arr[i])\n",
    "print(unqiue_id)"
   ]
  },
  {
   "cell_type": "code",
   "execution_count": 8,
   "metadata": {},
   "outputs": [
    {
     "name": "stdout",
     "output_type": "stream",
     "text": [
      "[1, 2, 3, 4, 5]\n"
     ]
    }
   ],
   "source": [
    "\n",
    "arr=[1,1,1,1,1,1,2,2,2,2,3,3,3,3,3,4,4,4,4,4,5,5,5,5]\n",
    "unique = []\n",
    "seen=[]\n",
    "\n",
    "for i in range(len(arr)):\n",
    "    if arr[i] not in seen :\n",
    "        seen +=[arr[i]]\n",
    "        unique +=[arr[i]]\n",
    "    \n",
    "print(unique)"
   ]
  },
  {
   "cell_type": "code",
   "execution_count": 16,
   "metadata": {},
   "outputs": [
    {
     "name": "stdout",
     "output_type": "stream",
     "text": [
      "['o', 'o', 'o', 'i']\n"
     ]
    }
   ],
   "source": [
    "def find_vowels(string):\n",
    "    vowels=['a','e','i','o','u']\n",
    "    vowels_present =[]\n",
    "    for s in string:\n",
    "        if s in vowels:\n",
    "            vowels_present +=[s]\n",
    "    return vowels_present\n",
    "\n",
    "string=\"good morning\"\n",
    "result=find_vowels(string)\n",
    "print(result)"
   ]
  },
  {
   "cell_type": "code",
   "execution_count": 14,
   "metadata": {},
   "outputs": [
    {
     "name": "stdout",
     "output_type": "stream",
     "text": [
      "abcde\n",
      "edcba\n"
     ]
    }
   ],
   "source": [
    "def reverse_string(string):\n",
    "    \n",
    "    string=list(string)\n",
    "    \n",
    "    left=0\n",
    "    right =len(string)-1\n",
    "    \n",
    "    while left<right:\n",
    "        temp=string[left]\n",
    "        string[left]=string[right]\n",
    "        string[right]=temp\n",
    "        left +=1\n",
    "        right -=1\n",
    "        \n",
    "    return \"\".join(map(str,string))\n",
    "\n",
    "string=\"abcde\"\n",
    "result=reverse_string(string)\n",
    "print(string)\n",
    "print(result)\n",
    "    "
   ]
  },
  {
   "cell_type": "code",
   "execution_count": 15,
   "metadata": {},
   "outputs": [
    {
     "name": "stdout",
     "output_type": "stream",
     "text": [
      "edcba\n"
     ]
    }
   ],
   "source": [
    "def reversed_string(string):\n",
    "    if len(string) == 0:\n",
    "        return string\n",
    "    else:\n",
    "        return reverse_string(string[1:]) + string[0]\n",
    "string='abcde'\n",
    "result=reverse_string(string)\n",
    "print(result)"
   ]
  },
  {
   "cell_type": "code",
   "execution_count": 24,
   "metadata": {},
   "outputs": [
    {
     "name": "stdout",
     "output_type": "stream",
     "text": [
      "abocode\n"
     ]
    }
   ],
   "source": [
    "def consecutive_vowels(string):\n",
    "    vowels='aeiou'\n",
    "    result =''\n",
    "    pervious_char=''\n",
    "    for s in string :\n",
    "        if s in vowels :\n",
    "            if s == pervious_char and s in  pervious_char:\n",
    "                continue\n",
    "        result +=s\n",
    "        pervious_char=s\n",
    "    return result\n",
    "\n",
    "string='aabocodee'\n",
    "ans=consecutive_vowels(string)\n",
    "print(ans)"
   ]
  },
  {
   "cell_type": "code",
   "execution_count": 34,
   "metadata": {},
   "outputs": [
    {
     "name": "stdout",
     "output_type": "stream",
     "text": [
      "True\n",
      "True\n",
      "False\n"
     ]
    }
   ],
   "source": [
    "def is_palindrome(string):\n",
    "    string=string.lower()\n",
    "\n",
    "    alphabets=\"abcdefghijklmnopqrstuvwxyz\"\n",
    "    upper_case=\"ABCDEFGHIJKLMNOPQRSTUVWXYZ\"\n",
    "    new_string=\"\"\n",
    "    for s in string:\n",
    "        if s in alphabets or s in upper_case:\n",
    "            new_string += s\n",
    "    \n",
    "    reversed_string=list(new_string)\n",
    "    \n",
    "    left=0\n",
    "    \n",
    "    right=(len(reversed_string)-1)\n",
    "    \n",
    "    while left < right :\n",
    "        temp = reversed_string[left]\n",
    "        reversed_string[left]=reversed_string[right]\n",
    "        reversed_string[right]=temp\n",
    "        \n",
    "        left +=1\n",
    "        right -=1\n",
    "    reverse_string = \"\"   \n",
    "    \n",
    "     \n",
    "    for a in reversed_string:\n",
    "        reverse_string +=a\n",
    "        \n",
    "    return new_string==reverse_string\n",
    "\n",
    "s1=\"Mr.owl ate,my metal worm!\"\n",
    "s2=\"Eva,can I See bees in a cave?\"\n",
    "s3=\"Hello world!\"\n",
    "print(is_palindrome(s1))\n",
    "print(is_palindrome(s2))\n",
    "print(is_palindrome(s3))\n",
    "\n",
    "            \n",
    "    "
   ]
  }
 ],
 "metadata": {
  "kernelspec": {
   "display_name": "Python 3",
   "language": "python",
   "name": "python3"
  },
  "language_info": {
   "codemirror_mode": {
    "name": "ipython",
    "version": 3
   },
   "file_extension": ".py",
   "mimetype": "text/x-python",
   "name": "python",
   "nbconvert_exporter": "python",
   "pygments_lexer": "ipython3",
   "version": "3.7.6"
  }
 },
 "nbformat": 4,
 "nbformat_minor": 2
}
