{
 "cells": [
  {
   "cell_type": "code",
   "execution_count": 6,
   "metadata": {},
   "outputs": [
    {
     "name": "stdout",
     "output_type": "stream",
     "text": [
      "{1: 1, 2: 4, 3: 4, 4: 6, 5: 1, 6: 1}\n",
      "1 1\n",
      "2 4\n",
      "3 4\n",
      "4 6\n",
      "5 1\n",
      "6 1\n",
      "dict_values([1, 4, 4, 6, 1, 1])\n",
      "dict_keys([1, 2, 3, 4, 5, 6])\n"
     ]
    }
   ],
   "source": [
    "arr=[1,2,3,4,4,4,4,3,3,2,2,4,3,2,5,6,4]\n",
    "frequency={}\n",
    "for a in arr:\n",
    "    if a in frequency :\n",
    "        frequency[a]+=1\n",
    "    else :\n",
    "        frequency[a] =1\n",
    "\n",
    "print(frequency)\n",
    "\n",
    "for key,value in frequency.items():\n",
    "    print(key,value)\n",
    "\n",
    "print(frequency.values())\n",
    "print(frequency.keys())"
   ]
  },
  {
   "cell_type": "code",
   "execution_count": 13,
   "metadata": {},
   "outputs": [
    {
     "name": "stdout",
     "output_type": "stream",
     "text": [
      "[10, 35, 36, 41, 51, 30]\n"
     ]
    }
   ],
   "source": [
    "def even_count(n,arr):\n",
    "    frequency={}\n",
    "    for a in arr:\n",
    "        if a in frequency:\n",
    "            frequency[a] +=1\n",
    "        else:\n",
    "            frequency[a] =1\n",
    "    series=[]\n",
    "    for key, value in frequency.items():\n",
    "        if value %2 == 0: series +=[key]\n",
    "    \n",
    "    return series if series else [-1]\n",
    "\n",
    "n=42\n",
    "arr=[9 ,35, 41, 18, 38, 13, 1, 62, 21, 36, 48, 35, 7 ,8, 51, 35, 36, 40, 19, 10, 52, 60, 28, 41, 35, 34, 6, 63, 51, 30, 55, 30, 10, 43, 5, 27, 29, 26, 4, 39, 61 ,12]\n",
    "result =even_count(n,arr)\n",
    "for i in range(len(result)):\n",
    "    for j in  range(i+1,len(result)-1):\n",
    "        if result[i] > result[j] :\n",
    "            result[i],result[j]=result[j],result[i]\n",
    "            \n",
    "print(result)"
   ]
  },
  {
   "cell_type": "code",
   "execution_count": 3,
   "metadata": {},
   "outputs": [
    {
     "name": "stdout",
     "output_type": "stream",
     "text": [
      "5\n"
     ]
    }
   ],
   "source": [
    "def frequency(a):\n",
    "    frq={}\n",
    "    for e in a:\n",
    "        if e in frq:\n",
    "            frq[e] +=1\n",
    "        else:\n",
    "            frq[e] =1\n",
    "    return frq\n",
    "\n",
    "\n",
    "\n",
    "A= {4, 5,8,1, 6,6,6, 7}\n",
    "B = {7, 4,8,6,6, 1}\n",
    "\n",
    "frequency_a = frequency(A)\n",
    "frequency_b = frequency(B)\n",
    "\n",
    "for key in frequency_a:\n",
    "     if key not in frequency_b or frequency_a[key] != frequency_b[key]:\n",
    "          print(key)\n",
    "    \n",
    "\n",
    "\n",
    "\n",
    "\n",
    "    "
   ]
  }
 ],
 "metadata": {
  "kernelspec": {
   "display_name": "Python 3",
   "language": "python",
   "name": "python3"
  },
  "language_info": {
   "codemirror_mode": {
    "name": "ipython",
    "version": 3
   },
   "file_extension": ".py",
   "mimetype": "text/x-python",
   "name": "python",
   "nbconvert_exporter": "python",
   "pygments_lexer": "ipython3",
   "version": "3.7.6"
  }
 },
 "nbformat": 4,
 "nbformat_minor": 2
}
