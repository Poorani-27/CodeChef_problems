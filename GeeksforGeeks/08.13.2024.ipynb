{
 "cells": [
  {
   "cell_type": "code",
   "execution_count": 4,
   "metadata": {},
   "outputs": [
    {
     "name": "stdout",
     "output_type": "stream",
     "text": [
      "25 is an automorphic number\n"
     ]
    }
   ],
   "source": [
    "#automorphic number or circular number \n",
    "''' \n",
    "5 is an automorphic number because 5*5 = 25 the square of the number ends with the same digit of the number\n",
    "\n",
    "'''\n",
    "\n",
    "#approach \n",
    "'''\n",
    "1.Calulate the square of the number\n",
    "2.check whether the last digits if the square value match the number \n",
    "\n",
    "''' \n",
    "\n",
    "def is_automorphic(num):\n",
    "    square=num * num #sqaure of the number \n",
    "    \n",
    "    temp_n=num\n",
    "    temp_square=square\n",
    "    \n",
    "    while temp_n >0:\n",
    "        \n",
    "        last_digit_temp_n= temp_n % 10\n",
    "        last_digit_temp_square = temp_square % 10\n",
    "        \n",
    "        #check the digit are equal or not\n",
    "        \n",
    "        if last_digit_temp_n != last_digit_temp_square:\n",
    "            return False #if not match return false\n",
    "        \n",
    "        #remove the last digit\n",
    "        \n",
    "        temp_n //=10\n",
    "        temp_square //=10\n",
    "        \n",
    "    return True #if the digit matches\n",
    "\n",
    "num=25\n",
    "result=is_automorphic(num)\n",
    "\n",
    "print(f\"{num} is an automorphic number\" if result else f\"{num} is not an automorphic number\")\n",
    "        \n",
    "        \n",
    "        \n",
    "    "
   ]
  },
  {
   "cell_type": "code",
   "execution_count": 18,
   "metadata": {},
   "outputs": [
    {
     "name": "stdout",
     "output_type": "stream",
     "text": [
      "34 -1 29\n"
     ]
    }
   ],
   "source": [
    "#calculate age in years months and days\n",
    "\n",
    "\n",
    "def calculate_age():\n",
    "    current_day=13\n",
    "    current_month=8\n",
    "    current_year=2024\n",
    "    \n",
    "    birth_day=15\n",
    "    birth_month=8\n",
    "    birth_year=1990\n",
    "    \n",
    "    days_in_month=[31,28,31,30,31,30,31,31,30,31,30,31]\n",
    "    \n",
    "    def is_leap_year(year):\n",
    "        return (year % 4 ==0 and year % 100 != 0) or (year % 400 ==0)\n",
    "    \n",
    "    \n",
    "    if is_leap_year(current_year): days_in_month[1] = 29\n",
    "    if is_leap_year(birth_year) : days_in_month[1]=29\n",
    "    \n",
    "    \n",
    "    years=current_year-birth_year\n",
    "    \n",
    "    if current_month<birth_month or(current_month==birth_month and current_day==birth_day):\n",
    "        years -=1\n",
    "        \n",
    "    if (current_month<birth_month)or(current_month==birth_month and current_day==birth_day):\n",
    "        months=(current_month+12) - birth_month\n",
    "        \n",
    "    else:\n",
    "        months=current_month-birth_month\n",
    "        \n",
    "    \n",
    "        \n",
    "    \n",
    "    if current_day<birth_day:\n",
    "            \n",
    "            months -=1\n",
    "            previous_month=(current_month-1)%12\n",
    "            \n",
    "    \n",
    "    \n",
    "            days=(current_day + days_in_month[previous_month]) - birth_day\n",
    "        \n",
    "    else:\n",
    "        days=current_day-birth_day\n",
    "        \n",
    "        \n",
    "        \n",
    "    print(years,months,days)\n",
    "    \n",
    "    \n",
    "    \n",
    "calculate_age()"
   ]
  },
  {
   "cell_type": "code",
   "execution_count": 19,
   "metadata": {},
   "outputs": [
    {
     "name": "stdout",
     "output_type": "stream",
     "text": [
      "33 11 29\n"
     ]
    }
   ],
   "source": [
    "def calculate_age():\n",
    "    current_day = 13\n",
    "    current_month = 8\n",
    "    current_year = 2024\n",
    "    \n",
    "    birth_day = 15\n",
    "    birth_month = 8\n",
    "    birth_year = 1990\n",
    "    \n",
    "    # Days in each month (not considering leap years initially)\n",
    "    days_in_month = [31, 28, 31, 30, 31, 30, 31, 31, 30, 31, 30, 31]\n",
    "    \n",
    "    # Function to check if a year is a leap year\n",
    "    def is_leap_year(year):\n",
    "        return (year % 4 == 0 and year % 100 != 0) or (year % 400 == 0)\n",
    "    \n",
    "    # Adjust February days for leap years\n",
    "    if is_leap_year(current_year):\n",
    "        days_in_month[1] = 29\n",
    "    if is_leap_year(birth_year):\n",
    "        days_in_month[1] = 29\n",
    "\n",
    "    # Calculate initial difference in years\n",
    "    years = current_year - birth_year\n",
    "    \n",
    "    # Adjust for incomplete year if the current date is before the birthday\n",
    "    if (current_month < birth_month) or (current_month == birth_month and current_day < birth_day):\n",
    "        years -= 1\n",
    "    \n",
    "    # Calculate months\n",
    "    if (current_month < birth_month) or (current_month == birth_month and current_day < birth_day):\n",
    "        months = (current_month + 12) - birth_month\n",
    "    else:\n",
    "        months = current_month - birth_month\n",
    "    \n",
    "    # Adjust for days in the month calculation\n",
    "    if current_day < birth_day:\n",
    "        # Borrow days from the previous month\n",
    "        months -= 1\n",
    "        previous_month = (current_month - 1) % 12\n",
    "        days = (current_day + days_in_month[previous_month]) - birth_day\n",
    "    else:\n",
    "        days = current_day - birth_day\n",
    "    \n",
    "    # Print the result\n",
    "    print(years, months, days)\n",
    "\n",
    "calculate_age()\n",
    "\n"
   ]
  },
  {
   "cell_type": "code",
   "execution_count": 32,
   "metadata": {},
   "outputs": [
    {
     "name": "stdout",
     "output_type": "stream",
     "text": [
      "8/ 6\n"
     ]
    }
   ],
   "source": [
    "'''\n",
    "ip 2 1 6 4 \n",
    "op ad/bc\n",
    "\n",
    "'''\n",
    "\n",
    "def calculate_result(a,b,c,d):\n",
    "    numerator=a*d\n",
    "    denominator = b*c\n",
    "    \n",
    "    print(f\"{numerator} / {denominator}\")\n",
    "    \n",
    "    \n",
    "calculate_result(2,1,6,4)\n",
    "    "
   ]
  },
  {
   "cell_type": "code",
   "execution_count": 36,
   "metadata": {},
   "outputs": [
    {
     "name": "stdout",
     "output_type": "stream",
     "text": [
      "1\n"
     ]
    }
   ],
   "source": [
    "#smallest number with repetiton\n",
    "\n",
    "def find_smallest(arr):\n",
    "    frequency = {}\n",
    "    for a in arr:\n",
    "        if a in frequency:\n",
    "            frequency[a] +=1\n",
    "        else:\n",
    "            frequency[a]=1\n",
    "            \n",
    "\n",
    "    \n",
    "    repeating_elements =[]\n",
    "    for key,value in frequency.items():\n",
    "        if value > 1 :\n",
    "            repeating_elements +=[key]\n",
    "    if len(repeating_elements) > 0 :\n",
    "        min_element =  repeating_elements[0]      \n",
    "        for element in repeating_elements:\n",
    "            if element < min_element:\n",
    "                min_element=element\n",
    "                \n",
    "    print(min_element)\n",
    "    \n",
    "    \n",
    "find_smallest([1,2,3,2,2,3,3,4,3,4,3,1,1,3,6,5])\n",
    "        "
   ]
  },
  {
   "cell_type": "code",
   "execution_count": 49,
   "metadata": {},
   "outputs": [
    {
     "name": "stdout",
     "output_type": "stream",
     "text": [
      "(12, [1, 2, 3, 4, 5, 6, 7, 8, 9, 10, 12, 18])\n"
     ]
    }
   ],
   "source": [
    "def find_number(num):\n",
    "    sum =0\n",
    "    temp_n=num\n",
    "    while temp_n >0:\n",
    "        last_digit = temp_n % 10\n",
    "        sum += last_digit\n",
    "        temp_n //= 10\n",
    "        \n",
    "    if num % sum == 0:\n",
    "        return True\n",
    "    else:\n",
    "        return False\n",
    "    \n",
    "def for_20(n):\n",
    "    count=0\n",
    "    numbers=[]\n",
    "    for i in range(1,n-1):\n",
    "        if find_number(i):\n",
    "            count +=1\n",
    "            numbers +=[i]\n",
    "    return count,  numbers\n",
    "\n",
    "\n",
    "\n",
    "print(for_20(20))\n",
    "            \n",
    "        \n",
    "        \n"
   ]
  },
  {
   "cell_type": "code",
   "execution_count": 48,
   "metadata": {},
   "outputs": [
    {
     "name": "stdout",
     "output_type": "stream",
     "text": [
      "aa bbb cccc @@@@@.\n"
     ]
    }
   ],
   "source": [
    "'''\n",
    "ip a2b3c4\n",
    "\n",
    "op aabbbccc'''\n",
    "\n",
    "def repeat_letters(string):\n",
    "    modified_string = \"\"\n",
    "    for i in range(len(string)):\n",
    "        if '1' <= string[i] <= '9':\n",
    "            for _ in range(int(string[i])-1):\n",
    "                modified_string += string[i-1]\n",
    "                \n",
    "        else:\n",
    "            modified_string +=string[i]\n",
    "            \n",
    "    print(modified_string)\n",
    "    \n",
    "\n",
    "repeat_letters(\"a2 b3 c4 @5\")"
   ]
  },
  {
   "cell_type": "code",
   "execution_count": 50,
   "metadata": {},
   "outputs": [
    {
     "name": "stdout",
     "output_type": "stream",
     "text": [
      "[1, 2, 3, 9, 8, 0]\n"
     ]
    }
   ],
   "source": [
    "'''given two array find common elements without duplicates\n",
    "'''\n",
    "\n",
    "\n",
    "def find_common(arr1,arr2):\n",
    "    \n",
    "    def without_duplicates(arr):\n",
    "        unique=[]\n",
    "        seen=[]\n",
    "        for a in arr:\n",
    "            if a not in seen:\n",
    "                seen +=[a]\n",
    "                unique +=[a]\n",
    "                \n",
    "        return unique\n",
    "    \n",
    "    arr1= without_duplicates(arr1)\n",
    "    arr2=without_duplicates(arr2)\n",
    "    \n",
    "    common_elements=[]\n",
    "    \n",
    "    for a in arr1:\n",
    "        if a not in arr2:\n",
    "            common_elements +=[a]\n",
    "            \n",
    "    for a in arr2:\n",
    "        if a not in arr1:\n",
    "            common_elements +=[a]\n",
    "            \n",
    "    print(common_elements)\n",
    "    \n",
    "    \n",
    "    \n",
    "arr1=[1,2,3,4,5,6,1,2,3,4,5]\n",
    "arr2=[4,4,5,6,4,9,8,0]\n",
    "\n",
    "find_common(arr1,arr2)\n"
   ]
  },
  {
   "cell_type": "code",
   "execution_count": 55,
   "metadata": {},
   "outputs": [
    {
     "name": "stdout",
     "output_type": "stream",
     "text": [
      "eabcd\n"
     ]
    }
   ],
   "source": [
    "#string rotation\n",
    "\n",
    "'''rotate a letter in a word from last to '''\n",
    "\n",
    "def rotate_letter(string):\n",
    "    last_char=string[-1]\n",
    "    modifies_string=\"\"\n",
    "    for i in range(0,len(string)-1):\n",
    "        modifies_string +=string[i]\n",
    "        \n",
    "    print(last_char+modifies_string)\n",
    "    \n",
    "    \n",
    "rotate_letter(\"abcde\")"
   ]
  },
  {
   "cell_type": "code",
   "execution_count": 59,
   "metadata": {},
   "outputs": [
    {
     "data": {
      "text/plain": [
       "3"
      ]
     },
     "execution_count": 59,
     "metadata": {},
     "output_type": "execute_result"
    }
   ],
   "source": [
    "def find_gcd(num1,num2):\n",
    "    \n",
    "    def find_factors(num):\n",
    "        \n",
    "        factors_num=[]\n",
    "        for i in range(1,num+1):\n",
    "            if num %i == 0:\n",
    "                factors_num +=[i]\n",
    "                \n",
    "        return factors_num\n",
    "    \n",
    "    num1=find_factors(num1)\n",
    "    num2=find_factors(num2)\n",
    "    \n",
    "    common_divisor=[]\n",
    "    for n in num1:\n",
    "        if n in num2:\n",
    "            common_divisor +=[n]\n",
    "            \n",
    "    \n",
    "    gcd=common_divisor[0]\n",
    "    for cd in common_divisor:\n",
    "        if cd > gcd:\n",
    "            gcd= cd\n",
    "            \n",
    "    return (gcd)\n",
    "    \n",
    "find_gcd(15,27)\n",
    "    \n"
   ]
  },
  {
   "cell_type": "code",
   "execution_count": 66,
   "metadata": {},
   "outputs": [
    {
     "name": "stdout",
     "output_type": "stream",
     "text": [
      "3\n"
     ]
    }
   ],
   "source": [
    "def find_gcd2(num1,num2):\n",
    "    while num2 > 0:\n",
    "        num1,num2= num2,num1%num2\n",
    "    return num1\n",
    "    \n",
    "print(find_gcd2(15,27))"
   ]
  },
  {
   "cell_type": "code",
   "execution_count": 67,
   "metadata": {},
   "outputs": [
    {
     "name": "stdout",
     "output_type": "stream",
     "text": [
      "675\n"
     ]
    }
   ],
   "source": [
    "def find_lcm(num1,num2):\n",
    "    common_multiple= num1 if num1> num2 else num2\n",
    "    \n",
    "    while True:\n",
    "        if common_multiple % num1 == 0 and common_multiple % num2 == 0 :\n",
    "            return common_multiple\n",
    "        common_multiple +=1\n",
    "        \n",
    "    \n",
    "print(find_lcm(27,25))\n"
   ]
  },
  {
   "cell_type": "code",
   "execution_count": 68,
   "metadata": {},
   "outputs": [
    {
     "name": "stdout",
     "output_type": "stream",
     "text": [
      "[1, 1, 2, 3, 5]\n"
     ]
    }
   ],
   "source": [
    "def fib(n):\n",
    "    series=[]\n",
    "    a=1\n",
    "    b=1\n",
    "    for i in  range(n):\n",
    "        \n",
    "        if i==0 or i==1 :\n",
    "            series +=[a]\n",
    "        \n",
    "        else:\n",
    "            a,b=b,a+b\n",
    "            series +=[b]\n",
    "    return series\n",
    "\n",
    "\n",
    "print(fib(5))"
   ]
  },
  {
   "cell_type": "code",
   "execution_count": 83,
   "metadata": {},
   "outputs": [
    {
     "name": "stdout",
     "output_type": "stream",
     "text": [
      "1 0\n"
     ]
    }
   ],
   "source": [
    "'''return the index of the repeating element if their is more than half the length of the array'''\n",
    "\n",
    "\n",
    "def find_index(arr):\n",
    "    \n",
    "    half_length=len(arr)//2\n",
    "    \n",
    "    frequency={}\n",
    "    \n",
    "    for a in arr:\n",
    "        if a in frequency:\n",
    "            frequency[a] +=1\n",
    "        else:\n",
    "            frequency[a] =1\n",
    "            \n",
    "    repeating_elements=[]\n",
    "    \n",
    "    for key, value in frequency.items():\n",
    "        if value > half_length :\n",
    "            repeating_elements +=[key]\n",
    "            \n",
    "            \n",
    "    for elements in repeating_elements:\n",
    "        print(elements, arr.index(elements))\n",
    "        \n",
    "\n",
    "find_index([1,1,1,1,1,1,2,3,4])\n",
    "        "
   ]
  },
  {
   "cell_type": "code",
   "execution_count": 85,
   "metadata": {},
   "outputs": [
    {
     "name": "stdout",
     "output_type": "stream",
     "text": [
      "1 2 4 5 10 20 "
     ]
    }
   ],
   "source": [
    "def find_divisors(n):\n",
    "    divisors=[]\n",
    "    for i in range(1,n+1):\n",
    "        if n %i == 0 :\n",
    "            divisors +=[i]\n",
    "            \n",
    "    for divisor in divisors:\n",
    "        print(divisor,end=\" \")\n",
    "        \n",
    "find_divisors(20)"
   ]
  },
  {
   "cell_type": "code",
   "execution_count": 88,
   "metadata": {},
   "outputs": [
    {
     "name": "stdout",
     "output_type": "stream",
     "text": [
      "1 minutes\n",
      "2 minutes\n",
      "3 minutes\n",
      "4 minutes\n",
      "interval\n",
      "6 minutes\n",
      "7 minutes\n",
      "8 minutes\n",
      "9 minutes\n",
      "interval\n",
      "11 minutes\n",
      "12 minutes\n",
      "13 minutes\n",
      "14 minutes\n",
      "interval\n",
      "16 minutes\n",
      "17 minutes\n",
      "18 minutes\n",
      "19 minutes\n",
      "interval\n",
      "21 minutes\n",
      "22 minutes\n",
      "23 minutes\n",
      "24 minutes\n",
      "interval\n",
      "26 minutes\n",
      "27 minutes\n",
      "28 minutes\n",
      "29 minutes\n",
      "interval\n",
      "31 minutes\n",
      "32 minutes\n",
      "33 minutes\n",
      "34 minutes\n",
      "interval\n",
      "36 minutes\n",
      "37 minutes\n",
      "38 minutes\n",
      "39 minutes\n",
      "interval\n",
      "41 minutes\n",
      "42 minutes\n",
      "43 minutes\n",
      "44 minutes\n",
      "interval\n",
      "46 minutes\n",
      "47 minutes\n",
      "48 minutes\n",
      "49 minutes\n",
      "interval\n"
     ]
    }
   ],
   "source": [
    "def print_interval(n):\n",
    "    for i in range(1,n+1):\n",
    "        if i % 5 == 0:\n",
    "            print(\"interval\")\n",
    "            \n",
    "        else:\n",
    "            print(f\"{i} minutes\")\n",
    "            \n",
    "            \n",
    "print_interval(50)"
   ]
  },
  {
   "cell_type": "code",
   "execution_count": 100,
   "metadata": {},
   "outputs": [
    {
     "name": "stdout",
     "output_type": "stream",
     "text": [
      "True\n"
     ]
    }
   ],
   "source": [
    "def jumbled_num(num):\n",
    "    n_of_num=[]\n",
    "    temp_n = num\n",
    "    \n",
    "    while temp_n>0:\n",
    "        last_digit=temp_n % 10\n",
    "        n_of_num =[last_digit]+n_of_num\n",
    "        temp_n //= 10\n",
    "        \n",
    "    for i in range(len(n_of_num)-1):\n",
    "        if n_of_num[i+1] - n_of_num[i] !=1:\n",
    "            return False\n",
    "        \n",
    "    return True\n",
    "\n",
    "print(jumbled_num(1234))        "
   ]
  },
  {
   "cell_type": "code",
   "execution_count": 108,
   "metadata": {},
   "outputs": [
    {
     "name": "stdout",
     "output_type": "stream",
     "text": [
      "odd avg 3 , even avg 4\n"
     ]
    }
   ],
   "source": [
    "def odd_even_avg(arr):\n",
    "    even_sum=0\n",
    "    even_count=0\n",
    "    \n",
    "    odd_sum=0\n",
    "    odd_count = 0\n",
    "    \n",
    "    for a in arr:\n",
    "        if a %2 ==0:\n",
    "            even_sum +=a\n",
    "            even_count +=1\n",
    "        else:\n",
    "            odd_sum +=a\n",
    "            odd_count +=1\n",
    "            \n",
    "    avg_odd = odd_sum // odd_count\n",
    "    \n",
    "    even_avg = even_sum // even_count\n",
    "    \n",
    "    return f\"odd avg {avg_odd} , ++even avg {even_avg}\"\n",
    "\n",
    "print(odd_even_avg([1,2,3,4,5,6]))"
   ]
  },
  {
   "cell_type": "code",
   "execution_count": 2,
   "metadata": {},
   "outputs": [
    {
     "name": "stdout",
     "output_type": "stream",
     "text": [
      "Compound Interest for year 1 = 4000.00\n",
      "Compound Interest for year 2 = 4800.00\n",
      "Compound Interest for year 3 = 5760.00\n",
      "Total Amount after 3 years = 34560.00\n"
     ]
    }
   ],
   "source": [
    "def compound_interest(p, n, r):\n",
    "    initial_principal = p  # Store the initial principal amount\n",
    "    \n",
    "    for i in range(1, n + 1):\n",
    "        ci = p * r / 100  # Calculate the interest for the current year\n",
    "        print(f\"Compound Interest for year {i} = {ci:.2f}\")\n",
    "        p += ci  # Add the interest to the principal for compounding\n",
    "    \n",
    "    amount = p  # The total amount is the principal after n years of compounding\n",
    "    \n",
    "    print(f\"Total Amount after {n} years = {amount:.2f}\")\n",
    "\n",
    "# Test the function\n",
    "compound_interest(20000, 3, 20)\n"
   ]
  },
  {
   "cell_type": "code",
   "execution_count": 6,
   "metadata": {},
   "outputs": [
    {
     "name": "stdout",
     "output_type": "stream",
     "text": [
      "[5, 4, 3, 2, 1]\n"
     ]
    }
   ],
   "source": [
    "def reversed_arr(arr):\n",
    "    left=0\n",
    "    right=len(arr)-1\n",
    "    while left <= right:\n",
    "        temp=arr[left]\n",
    "        arr[left]=arr[right]\n",
    "        arr[right] = temp \n",
    "        \n",
    "        left +=1\n",
    "        right -=1\n",
    "        \n",
    "    return arr\n",
    "        \n",
    "\n",
    "print(reversed_arr([1,2,3,4,5]))"
   ]
  },
  {
   "cell_type": "code",
   "execution_count": 28,
   "metadata": {},
   "outputs": [
    {
     "name": "stdout",
     "output_type": "stream",
     "text": [
      "[[1, 2, 3, 4, 5], [2, 3, 4, 5], [3, 4, 5], [4, 5], [5]]\n"
     ]
    }
   ],
   "source": [
    "def sum_of_subarray(arr):\n",
    "    array=[]\n",
    "    for i in range(len(arr)):\n",
    "        sub_array=[]\n",
    "        for j in range(i,len(arr)):\n",
    "            sub_array +=[arr[j]]\n",
    "            \n",
    "        array +=[sub_array]\n",
    "    print(array)\n",
    "            \n",
    "    \n",
    "sum_of_subarray([1,2,3,4,5])            "
   ]
  },
  {
   "cell_type": "code",
   "execution_count": 47,
   "metadata": {},
   "outputs": [
    {
     "name": "stdout",
     "output_type": "stream",
     "text": [
      "[[1], [1, 2], [1, 2, 3], [2], [2, 3], [3]]\n"
     ]
    }
   ],
   "source": [
    "def find_sub_array(arr):\n",
    "    start=0\n",
    "    end=len(arr)-1\n",
    "    sub_array=[]\n",
    "    for start in range(len(arr)):\n",
    "        for end in range(start+1,len(arr)+1):\n",
    "            array=[]\n",
    "            for i in range(start,end):\n",
    "                array +=[arr[i]]\n",
    "            sub_array +=[array]\n",
    "            \n",
    "    return sub_array\n",
    "\n",
    "arr=[1,2,3]\n",
    "print(find_sub_array(arr))\n",
    "                "
   ]
  },
  {
   "cell_type": "code",
   "execution_count": 50,
   "metadata": {},
   "outputs": [
    {
     "name": "stdout",
     "output_type": "stream",
     "text": [
      "[[1], [1, 2], [1, 2, 3], [2], [2, 3], [3]]\n"
     ]
    }
   ],
   "source": [
    "def find_sub_arr(arr):\n",
    "    sub_array =[]\n",
    "    \n",
    "    for start in range(len(arr)):\n",
    "        for end in range(start+1,len(arr)+1):\n",
    "            sub_array += [arr[start:end]]\n",
    "            \n",
    "    return sub_array\n",
    "\n",
    "print(find_sub_arr([1,2,3]))"
   ]
  },
  {
   "cell_type": "code",
   "execution_count": 52,
   "metadata": {},
   "outputs": [
    {
     "name": "stdout",
     "output_type": "stream",
     "text": [
      "[['a'], ['a', 'b'], ['a', 'b', 'c'], ['a', 'b', 'c', 'd'], ['a', 'b', 'c', 'd', 'e'], ['b'], ['b', 'c'], ['b', 'c', 'd'], ['b', 'c', 'd', 'e'], ['c'], ['c', 'd'], ['c', 'd', 'e'], ['d'], ['d', 'e'], ['e']]\n",
      "15\n"
     ]
    }
   ],
   "source": [
    "def find_sub_array1(arr):\n",
    "    sub_arr=[]\n",
    "    sum=0\n",
    "    for i in range(len(arr)):\n",
    "        current_sum=0\n",
    "        for j in range(i+1,len(arr)+1):\n",
    "            sub_arr +=[arr[i:j]]\n",
    "            current_sum +=1\n",
    "            \n",
    "        sum +=current_sum\n",
    "            \n",
    "    print(sub_arr)\n",
    "    print(sum)\n",
    "    \n",
    "arr=['a','b','c','d','e']\n",
    "find_sub_array1(arr)"
   ]
  },
  {
   "cell_type": "code",
   "execution_count": 57,
   "metadata": {},
   "outputs": [
    {
     "name": "stdout",
     "output_type": "stream",
     "text": [
      "2\n"
     ]
    }
   ],
   "source": [
    "def find_sum(arr,k):\n",
    "    count=0\n",
    "    for i in range(len(arr)):\n",
    "        current_sum = 0 \n",
    "        for j in range(i,len(arr)):\n",
    "            current_sum +=arr[j]\n",
    "        \n",
    "            if current_sum == k:\n",
    "                count +=1\n",
    "            \n",
    "    print(count)\n",
    "                \n",
    "                \n",
    "find_sum([1,1,1],2)\n",
    "            \n",
    "                \n",
    "            "
   ]
  },
  {
   "cell_type": "code",
   "execution_count": 58,
   "metadata": {},
   "outputs": [
    {
     "name": "stdout",
     "output_type": "stream",
     "text": [
      "[5, 2, 1, 2]\n"
     ]
    }
   ],
   "source": [
    "def combinationSum2(candidates, target):\n",
    "        target_arr=[]\n",
    "        for i in range(len(candidates)):\n",
    "            sub_arr=[]\n",
    "            current_sum =0\n",
    "            for j in range(i,len(candidates)):\n",
    "                \n",
    "                sub_arr += [candidates[j]]\n",
    "                current_sum +=candidates[j]\n",
    "\n",
    "                if current_sum == target:\n",
    "                    target_arr += sub_arr\n",
    "\n",
    "        return target_arr\n",
    "    \n",
    "candidates = [2,5,2,1,2]\n",
    "target = 5\n",
    "\n",
    "print(combinationSum2(candidates,target))"
   ]
  },
  {
   "cell_type": "code",
   "execution_count": 63,
   "metadata": {},
   "outputs": [
    {
     "name": "stdout",
     "output_type": "stream",
     "text": [
      "n\n",
      "i\n",
      "n\n"
     ]
    }
   ],
   "source": [
    "string=\"good morning hello\"\n",
    "target ='ni'\n",
    "\n",
    "for char in string:\n",
    "    for c in char :\n",
    "        for element in target:\n",
    "            if element in c:\n",
    "                print(char)\n",
    "                \n"
   ]
  },
  {
   "cell_type": "code",
   "execution_count": 64,
   "metadata": {},
   "outputs": [
    {
     "name": "stdout",
     "output_type": "stream",
     "text": [
      "morning\n"
     ]
    }
   ],
   "source": [
    "string = \"good morning hello\"\n",
    "target = 'ni'\n",
    "\n",
    "# Initialize variables\n",
    "word = \"\"\n",
    "found = False\n",
    "\n",
    "# Iterate through the string character by character\n",
    "for char in string:\n",
    "    if char == ' ':\n",
    "        # Process the current word if it's not empty\n",
    "        if word:\n",
    "            # Check if every character in target is present in the current word\n",
    "            target_found = True\n",
    "            for t_char in target:\n",
    "                if t_char not in word:\n",
    "                    target_found = False\n",
    "                    break\n",
    "            if target_found:\n",
    "                print(word)\n",
    "        # Reset for the next word\n",
    "        word = \"\"\n",
    "    else:\n",
    "        # Build the current word\n",
    "        word += char\n",
    "\n",
    "# Check the last word in case the string does not end with a space\n",
    "if word:\n",
    "    target_found = True\n",
    "    for t_char in target:\n",
    "        if t_char not in word:\n",
    "            target_found = False\n",
    "            break\n",
    "    if target_found:\n",
    "        print(word)\n"
   ]
  },
  {
   "cell_type": "code",
   "execution_count": 68,
   "metadata": {},
   "outputs": [
    {
     "name": "stdout",
     "output_type": "stream",
     "text": [
      "good\n"
     ]
    }
   ],
   "source": [
    "string=\"good morning\"\n",
    "target='od'\n",
    "word=''\n",
    "found=False\n",
    "\n",
    "for char in string:\n",
    "    if char==' ':\n",
    "        if word:\n",
    "            for t_char in target :\n",
    "                if t_char not in word:\n",
    "                    target_found = False\n",
    "                    break\n",
    "            if target_found:\n",
    "                print(word)\n",
    "        \n",
    "        word=''\n",
    "    else:\n",
    "        word +=char\n",
    "        \n",
    "if word:\n",
    "    target_found= True\n",
    "    for t_char in target:\n",
    "        if t_char not in word:\n",
    "            target_found=False\n",
    "            break\n",
    "    if target_found :\n",
    "        print(word)"
   ]
  },
  {
   "cell_type": "code",
   "execution_count": 75,
   "metadata": {},
   "outputs": [
    {
     "name": "stdout",
     "output_type": "stream",
     "text": [
      "mumbai number\n"
     ]
    }
   ],
   "source": [
    "def landline(num):\n",
    "    if len(num) != 11:\n",
    "        return 'invalid'\n",
    "    \n",
    "    if num[:3] == '011':\n",
    "        return 'delhi number'\n",
    "    if num[:3] == '022':\n",
    "        return 'mumbai number'\n",
    "    if num[:3] == '033':\n",
    "        return 'kolkata number'\n",
    "    if num[:3] == '044':\n",
    "        return 'chennai number'\n",
    "            \n",
    "    \n",
    "print(landline('02223456789'))\n",
    "        "
   ]
  },
  {
   "cell_type": "code",
   "execution_count": 77,
   "metadata": {},
   "outputs": [
    {
     "ename": "TypeError",
     "evalue": "can only concatenate str (not \"int\") to str",
     "output_type": "error",
     "traceback": [
      "\u001b[1;31m---------------------------------------------------------------------------\u001b[0m",
      "\u001b[1;31mTypeError\u001b[0m                                 Traceback (most recent call last)",
      "\u001b[1;32m~\\AppData\\Local\\Temp\\ipykernel_13044\\1459145287.py\u001b[0m in \u001b[0;36m<module>\u001b[1;34m\u001b[0m\n\u001b[0;32m     13\u001b[0m \u001b[1;33m\u001b[0m\u001b[0m\n\u001b[0;32m     14\u001b[0m \u001b[1;33m\u001b[0m\u001b[0m\n\u001b[1;32m---> 15\u001b[1;33m \u001b[0mfind_possible\u001b[0m\u001b[1;33m(\u001b[0m\u001b[1;33m(\u001b[0m\u001b[1;33m[\u001b[0m\u001b[1;36m1\u001b[0m\u001b[1;33m,\u001b[0m\u001b[1;36m2\u001b[0m\u001b[1;33m,\u001b[0m\u001b[1;36m3\u001b[0m\u001b[1;33m,\u001b[0m\u001b[1;36m5\u001b[0m\u001b[1;33m]\u001b[0m\u001b[1;33m)\u001b[0m\u001b[1;33m)\u001b[0m\u001b[1;33m\u001b[0m\u001b[1;33m\u001b[0m\u001b[0m\n\u001b[0m\u001b[0;32m     16\u001b[0m \u001b[1;33m\u001b[0m\u001b[0m\n",
      "\u001b[1;32m~\\AppData\\Local\\Temp\\ipykernel_13044\\1459145287.py\u001b[0m in \u001b[0;36mfind_possible\u001b[1;34m(arr)\u001b[0m\n\u001b[0;32m      4\u001b[0m         \u001b[0mnum\u001b[0m\u001b[1;33m=\u001b[0m\u001b[1;34m''\u001b[0m\u001b[1;33m\u001b[0m\u001b[1;33m\u001b[0m\u001b[0m\n\u001b[0;32m      5\u001b[0m         \u001b[1;32mfor\u001b[0m \u001b[0mj\u001b[0m \u001b[1;32min\u001b[0m \u001b[0mrange\u001b[0m\u001b[1;33m(\u001b[0m\u001b[0mlen\u001b[0m\u001b[1;33m(\u001b[0m\u001b[0marr\u001b[0m\u001b[1;33m)\u001b[0m\u001b[1;33m)\u001b[0m\u001b[1;33m:\u001b[0m\u001b[1;33m\u001b[0m\u001b[1;33m\u001b[0m\u001b[0m\n\u001b[1;32m----> 6\u001b[1;33m             \u001b[0mnum\u001b[0m \u001b[1;33m+=\u001b[0m\u001b[0marr\u001b[0m\u001b[1;33m[\u001b[0m\u001b[0mj\u001b[0m\u001b[1;33m]\u001b[0m\u001b[1;33m\u001b[0m\u001b[1;33m\u001b[0m\u001b[0m\n\u001b[0m\u001b[0;32m      7\u001b[0m \u001b[1;33m\u001b[0m\u001b[0m\n\u001b[0;32m      8\u001b[0m             \u001b[1;32mif\u001b[0m \u001b[0mnum\u001b[0m \u001b[1;33m>\u001b[0m \u001b[0mmax_num\u001b[0m\u001b[1;33m:\u001b[0m\u001b[1;33m\u001b[0m\u001b[1;33m\u001b[0m\u001b[0m\n",
      "\u001b[1;31mTypeError\u001b[0m: can only concatenate str (not \"int\") to str"
     ]
    }
   ],
   "source": [
    "def find_possible(arr):\n",
    "    max_num=-1\n",
    "    arr1=[ ]\n",
    "    for a in arr:\n",
    "        arr1 +=str(a)\n",
    "        \n",
    "    "
   ]
  }
 ],
 "metadata": {
  "kernelspec": {
   "display_name": "Python 3",
   "language": "python",
   "name": "python3"
  },
  "language_info": {
   "codemirror_mode": {
    "name": "ipython",
    "version": 3
   },
   "file_extension": ".py",
   "mimetype": "text/x-python",
   "name": "python",
   "nbconvert_exporter": "python",
   "pygments_lexer": "ipython3",
   "version": "3.7.6"
  }
 },
 "nbformat": 4,
 "nbformat_minor": 2
}
