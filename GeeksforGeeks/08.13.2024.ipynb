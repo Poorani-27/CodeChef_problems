{
 "cells": [
  {
   "cell_type": "code",
   "execution_count": 78,
   "metadata": {},
   "outputs": [
    {
     "name": "stdout",
     "output_type": "stream",
     "text": [
      "25 is an automorphic number\n"
     ]
    }
   ],
   "source": [
    "#automorphic number or circular number \n",
    "''' \n",
    "5 is an automorphic number because 5*5 = 25 the square of the number ends with the same digit of the number\n",
    "\n",
    "'''\n",
    "\n",
    "#approach \n",
    "'''\n",
    "1.Calulate the square of the number\n",
    "2.check whether the last digits if the square value match the number \n",
    "\n",
    "''' \n",
    "\n",
    "def is_automorphic(num):\n",
    "    square=num * num #sqaure of the number \n",
    "    \n",
    "    temp_n=num\n",
    "    temp_square=square\n",
    "    \n",
    "    while temp_n >0:\n",
    "        \n",
    "        last_digit_temp_n= temp_n % 10\n",
    "        last_digit_temp_square = temp_square % 10\n",
    "        \n",
    "        #check the digit are equal or not\n",
    "        \n",
    "        if last_digit_temp_n != last_digit_temp_square:\n",
    "            return False #if not match return false\n",
    "        \n",
    "        #remove the last digit\n",
    "        \n",
    "        temp_n //=10\n",
    "        temp_square //=10\n",
    "        \n",
    "    return True #if the digit matches\n",
    "\n",
    "num=25\n",
    "result=is_automorphic(num)\n",
    "\n",
    "print(f\"{num} is an automorphic number\" if result else f\"{num} is not an automorphic number\")\n",
    "        \n",
    "        \n",
    "        \n",
    "    "
   ]
  },
  {
   "cell_type": "code",
   "execution_count": 79,
   "metadata": {},
   "outputs": [
    {
     "name": "stdout",
     "output_type": "stream",
     "text": [
      "34 -1 29\n"
     ]
    }
   ],
   "source": [
    "#calculate age in years months and days\n",
    "\n",
    "\n",
    "def calculate_age():\n",
    "    current_day=13\n",
    "    current_month=8\n",
    "    current_year=2024\n",
    "    \n",
    "    birth_day=15\n",
    "    birth_month=8\n",
    "    birth_year=1990\n",
    "    \n",
    "    days_in_month=[31,28,31,30,31,30,31,31,30,31,30,31]\n",
    "    \n",
    "    def is_leap_year(year):\n",
    "        return (year % 4 ==0 and year % 100 != 0) or (year % 400 ==0)\n",
    "    \n",
    "    \n",
    "    if is_leap_year(current_year): days_in_month[1] = 29\n",
    "    if is_leap_year(birth_year) : days_in_month[1]=29\n",
    "    \n",
    "    \n",
    "    years=current_year-birth_year\n",
    "    \n",
    "    if current_month<birth_month or(current_month==birth_month and current_day==birth_day):\n",
    "        years -=1\n",
    "        \n",
    "    if (current_month<birth_month)or(current_month==birth_month and current_day==birth_day):\n",
    "        months=(current_month+12) - birth_month\n",
    "        \n",
    "    else:\n",
    "        months=current_month-birth_month\n",
    "        \n",
    "    \n",
    "        \n",
    "    \n",
    "    if current_day<birth_day:\n",
    "            \n",
    "            months -=1\n",
    "            previous_month=(current_month-1)%12\n",
    "            \n",
    "    \n",
    "    \n",
    "            days=(current_day + days_in_month[previous_month]) - birth_day\n",
    "        \n",
    "    else:\n",
    "        days=current_day-birth_day\n",
    "        \n",
    "        \n",
    "        \n",
    "    print(years,months,days)\n",
    "    \n",
    "    \n",
    "    \n",
    "calculate_age()"
   ]
  },
  {
   "cell_type": "code",
   "execution_count": 80,
   "metadata": {},
   "outputs": [
    {
     "name": "stdout",
     "output_type": "stream",
     "text": [
      "33 11 29\n"
     ]
    }
   ],
   "source": [
    "def calculate_age():\n",
    "    current_day = 13\n",
    "    current_month = 8\n",
    "    current_year = 2024\n",
    "    \n",
    "    birth_day = 15\n",
    "    birth_month = 8\n",
    "    birth_year = 1990\n",
    "    \n",
    "    # Days in each month (not considering leap years initially)\n",
    "    days_in_month = [31, 28, 31, 30, 31, 30, 31, 31, 30, 31, 30, 31]\n",
    "    \n",
    "    # Function to check if a year is a leap year\n",
    "    def is_leap_year(year):\n",
    "        return (year % 4 == 0 and year % 100 != 0) or (year % 400 == 0)\n",
    "    \n",
    "    # Adjust February days for leap years\n",
    "    if is_leap_year(current_year):\n",
    "        days_in_month[1] = 29\n",
    "    if is_leap_year(birth_year):\n",
    "        days_in_month[1] = 29\n",
    "\n",
    "    # Calculate initial difference in years\n",
    "    years = current_year - birth_year\n",
    "    \n",
    "    # Adjust for incomplete year if the current date is before the birthday\n",
    "    if (current_month < birth_month) or (current_month == birth_month and current_day < birth_day):\n",
    "        years -= 1\n",
    "    \n",
    "    # Calculate months\n",
    "    if (current_month < birth_month) or (current_month == birth_month and current_day < birth_day):\n",
    "        months = (current_month + 12) - birth_month\n",
    "    else:\n",
    "        months = current_month - birth_month\n",
    "    \n",
    "    # Adjust for days in the month calculation\n",
    "    if current_day < birth_day:\n",
    "        # Borrow days from the previous month\n",
    "        months -= 1\n",
    "        previous_month = (current_month - 1) % 12\n",
    "        days = (current_day + days_in_month[previous_month]) - birth_day\n",
    "    else:\n",
    "        days = current_day - birth_day\n",
    "    \n",
    "    # Print the result\n",
    "    print(years, months, days)\n",
    "\n",
    "calculate_age()\n",
    "\n"
   ]
  },
  {
   "cell_type": "code",
   "execution_count": 81,
   "metadata": {},
   "outputs": [
    {
     "name": "stdout",
     "output_type": "stream",
     "text": [
      "8 / 6\n"
     ]
    }
   ],
   "source": [
    "'''\n",
    "ip 2 1 6 4 \n",
    "op ad/bc\n",
    "\n",
    "'''\n",
    "\n",
    "def calculate_result(a,b,c,d):\n",
    "    numerator=a*d\n",
    "    denominator = b*c\n",
    "    \n",
    "    print(f\"{numerator} / {denominator}\")\n",
    "    \n",
    "    \n",
    "calculate_result(2,1,6,4)\n",
    "    "
   ]
  },
  {
   "cell_type": "code",
   "execution_count": 82,
   "metadata": {},
   "outputs": [
    {
     "name": "stdout",
     "output_type": "stream",
     "text": [
      "1\n"
     ]
    }
   ],
   "source": [
    "#smallest number with repetiton\n",
    "\n",
    "def find_smallest(arr):\n",
    "    frequency = {}\n",
    "    for a in arr:\n",
    "        if a in frequency:\n",
    "            frequency[a] +=1\n",
    "        else:\n",
    "            frequency[a]=1\n",
    "            \n",
    "\n",
    "    \n",
    "    repeating_elements =[]\n",
    "    for key,value in frequency.items():\n",
    "        if value > 1 :\n",
    "            repeating_elements +=[key]\n",
    "    if len(repeating_elements) > 0 :\n",
    "        min_element =  repeating_elements[0]      \n",
    "        for element in repeating_elements:\n",
    "            if element < min_element:\n",
    "                min_element=element\n",
    "                \n",
    "    print(min_element)\n",
    "    \n",
    "    \n",
    "find_smallest([1,2,3,2,2,3,3,4,3,4,3,1,1,3,6,5])\n",
    "        "
   ]
  },
  {
   "cell_type": "code",
   "execution_count": 83,
   "metadata": {},
   "outputs": [
    {
     "name": "stdout",
     "output_type": "stream",
     "text": [
      "(12, [1, 2, 3, 4, 5, 6, 7, 8, 9, 10, 12, 18])\n"
     ]
    }
   ],
   "source": [
    "def find_number(num):\n",
    "    sum =0\n",
    "    temp_n=num\n",
    "    while temp_n >0:\n",
    "        last_digit = temp_n % 10\n",
    "        sum += last_digit\n",
    "        temp_n //= 10\n",
    "        \n",
    "    if num % sum == 0:\n",
    "        return True\n",
    "    else:\n",
    "        return False\n",
    "    \n",
    "def for_20(n):\n",
    "    count=0\n",
    "    numbers=[]\n",
    "    for i in range(1,n-1):\n",
    "        if find_number(i):\n",
    "            count +=1\n",
    "            numbers +=[i]\n",
    "    return count,  numbers\n",
    "\n",
    "\n",
    "\n",
    "print(for_20(20))\n",
    "            \n",
    "        \n",
    "        \n"
   ]
  },
  {
   "cell_type": "code",
   "execution_count": 84,
   "metadata": {},
   "outputs": [
    {
     "name": "stdout",
     "output_type": "stream",
     "text": [
      "aa bbb cccc @@@@@\n"
     ]
    }
   ],
   "source": [
    "'''\n",
    "ip a2b3c4\n",
    "\n",
    "op aabbbccc'''\n",
    "\n",
    "def repeat_letters(string):\n",
    "    modified_string = \"\"\n",
    "    for i in range(len(string)):\n",
    "        if '1' <= string[i] <= '9':\n",
    "            for _ in range(int(string[i])-1):\n",
    "                modified_string += string[i-1]\n",
    "                \n",
    "        else:\n",
    "            modified_string +=string[i]\n",
    "            \n",
    "    print(modified_string)\n",
    "    \n",
    "\n",
    "repeat_letters(\"a2 b3 c4 @5\")"
   ]
  },
  {
   "cell_type": "code",
   "execution_count": 85,
   "metadata": {},
   "outputs": [
    {
     "name": "stdout",
     "output_type": "stream",
     "text": [
      "[1, 2, 3, 9, 8, 0]\n"
     ]
    }
   ],
   "source": [
    "'''given two array find common elements without duplicates\n",
    "'''\n",
    "\n",
    "\n",
    "def find_common(arr1,arr2):\n",
    "    \n",
    "    def without_duplicates(arr):\n",
    "        unique=[]\n",
    "        seen=[]\n",
    "        for a in arr:\n",
    "            if a not in seen:\n",
    "                seen +=[a]\n",
    "                unique +=[a]\n",
    "                \n",
    "        return unique\n",
    "    \n",
    "    arr1= without_duplicates(arr1)\n",
    "    arr2=without_duplicates(arr2)\n",
    "    \n",
    "    common_elements=[]\n",
    "    \n",
    "    for a in arr1:\n",
    "        if a not in arr2:\n",
    "            common_elements +=[a]\n",
    "            \n",
    "    for a in arr2:\n",
    "        if a not in arr1:\n",
    "            common_elements +=[a]\n",
    "            \n",
    "    print(common_elements)\n",
    "    \n",
    "    \n",
    "    \n",
    "arr1=[1,2,3,4,5,6,1,2,3,4,5]\n",
    "arr2=[4,4,5,6,4,9,8,0]\n",
    "\n",
    "find_common(arr1,arr2)\n"
   ]
  },
  {
   "cell_type": "code",
   "execution_count": 86,
   "metadata": {},
   "outputs": [
    {
     "name": "stdout",
     "output_type": "stream",
     "text": [
      "eabcd\n"
     ]
    }
   ],
   "source": [
    "#string rotation\n",
    "\n",
    "'''rotate a letter in a word from last to '''\n",
    "\n",
    "def rotate_letter(string):\n",
    "    last_char=string[-1]\n",
    "    modifies_string=\"\"\n",
    "    for i in range(0,len(string)-1):\n",
    "        modifies_string +=string[i]\n",
    "        \n",
    "    print(last_char+modifies_string)\n",
    "    \n",
    "    \n",
    "rotate_letter(\"abcde\")"
   ]
  },
  {
   "cell_type": "code",
   "execution_count": 87,
   "metadata": {},
   "outputs": [
    {
     "data": {
      "text/plain": [
       "3"
      ]
     },
     "execution_count": 87,
     "metadata": {},
     "output_type": "execute_result"
    }
   ],
   "source": [
    "def find_gcd(num1,num2):\n",
    "    \n",
    "    def find_factors(num):\n",
    "        \n",
    "        factors_num=[]\n",
    "        for i in range(1,num+1):\n",
    "            if num %i == 0:\n",
    "                factors_num +=[i]\n",
    "                \n",
    "        return factors_num\n",
    "    \n",
    "    num1=find_factors(num1)\n",
    "    num2=find_factors(num2)\n",
    "    \n",
    "    common_divisor=[]\n",
    "    for n in num1:\n",
    "        if n in num2:\n",
    "            common_divisor +=[n]\n",
    "            \n",
    "    \n",
    "    gcd=common_divisor[0]\n",
    "    for cd in common_divisor:\n",
    "        if cd > gcd:\n",
    "            gcd= cd\n",
    "            \n",
    "    return (gcd)\n",
    "    \n",
    "find_gcd(15,27)\n",
    "    \n"
   ]
  },
  {
   "cell_type": "code",
   "execution_count": 88,
   "metadata": {},
   "outputs": [
    {
     "name": "stdout",
     "output_type": "stream",
     "text": [
      "3\n"
     ]
    }
   ],
   "source": [
    "def find_gcd2(num1,num2):\n",
    "    while num2 > 0:\n",
    "        num1,num2= num2,num1%num2\n",
    "    return num1\n",
    "    \n",
    "print(find_gcd2(15,27))"
   ]
  },
  {
   "cell_type": "code",
   "execution_count": 89,
   "metadata": {},
   "outputs": [
    {
     "name": "stdout",
     "output_type": "stream",
     "text": [
      "675\n"
     ]
    }
   ],
   "source": [
    "def find_lcm(num1,num2):\n",
    "    common_multiple= num1 if num1> num2 else num2\n",
    "    \n",
    "    while True:\n",
    "        if common_multiple % num1 == 0 and common_multiple % num2 == 0 :\n",
    "            return common_multiple\n",
    "        common_multiple +=1\n",
    "        \n",
    "    \n",
    "print(find_lcm(27,25))\n"
   ]
  },
  {
   "cell_type": "code",
   "execution_count": 90,
   "metadata": {},
   "outputs": [
    {
     "name": "stdout",
     "output_type": "stream",
     "text": [
      "[1, 1, 2, 3, 5]\n"
     ]
    }
   ],
   "source": [
    "def fib(n):\n",
    "    series=[]\n",
    "    a=1\n",
    "    b=1\n",
    "    for i in  range(n):\n",
    "        \n",
    "        if i==0 or i==1 :\n",
    "            series +=[a]\n",
    "        \n",
    "        else:\n",
    "            a,b=b,a+b\n",
    "            series +=[b]\n",
    "    return series\n",
    "\n",
    "\n",
    "print(fib(5))"
   ]
  },
  {
   "cell_type": "code",
   "execution_count": 91,
   "metadata": {},
   "outputs": [
    {
     "name": "stdout",
     "output_type": "stream",
     "text": [
      "1 0\n"
     ]
    }
   ],
   "source": [
    "'''return the index of the repeating element if their is more than half the length of the array'''\n",
    "\n",
    "\n",
    "def find_index(arr):\n",
    "    \n",
    "    half_length=len(arr)//2\n",
    "    \n",
    "    frequency={}\n",
    "    \n",
    "    for a in arr:\n",
    "        if a in frequency:\n",
    "            frequency[a] +=1\n",
    "        else:\n",
    "            frequency[a] =1\n",
    "            \n",
    "    repeating_elements=[]\n",
    "    \n",
    "    for key, value in frequency.items():\n",
    "        if value > half_length :\n",
    "            repeating_elements +=[key]\n",
    "            \n",
    "            \n",
    "    for elements in repeating_elements:\n",
    "        print(elements, arr.index(elements))\n",
    "        \n",
    "\n",
    "find_index([1,1,1,1,1,1,2,3,4])\n",
    "        "
   ]
  },
  {
   "cell_type": "code",
   "execution_count": 92,
   "metadata": {},
   "outputs": [
    {
     "name": "stdout",
     "output_type": "stream",
     "text": [
      "1 2 4 5 10 20 "
     ]
    }
   ],
   "source": [
    "def find_divisors(n):\n",
    "    divisors=[]\n",
    "    for i in range(1,n+1):\n",
    "        if n %i == 0 :\n",
    "            divisors +=[i]\n",
    "            \n",
    "    for divisor in divisors:\n",
    "        print(divisor,end=\" \")\n",
    "        \n",
    "find_divisors(20)"
   ]
  },
  {
   "cell_type": "code",
   "execution_count": 93,
   "metadata": {},
   "outputs": [
    {
     "name": "stdout",
     "output_type": "stream",
     "text": [
      "1 minutes\n",
      "2 minutes\n",
      "3 minutes\n",
      "4 minutes\n",
      "interval\n",
      "6 minutes\n",
      "7 minutes\n",
      "8 minutes\n",
      "9 minutes\n",
      "interval\n",
      "11 minutes\n",
      "12 minutes\n",
      "13 minutes\n",
      "14 minutes\n",
      "interval\n",
      "16 minutes\n",
      "17 minutes\n",
      "18 minutes\n",
      "19 minutes\n",
      "interval\n",
      "21 minutes\n",
      "22 minutes\n",
      "23 minutes\n",
      "24 minutes\n",
      "interval\n",
      "26 minutes\n",
      "27 minutes\n",
      "28 minutes\n",
      "29 minutes\n",
      "interval\n",
      "31 minutes\n",
      "32 minutes\n",
      "33 minutes\n",
      "34 minutes\n",
      "interval\n",
      "36 minutes\n",
      "37 minutes\n",
      "38 minutes\n",
      "39 minutes\n",
      "interval\n",
      "41 minutes\n",
      "42 minutes\n",
      "43 minutes\n",
      "44 minutes\n",
      "interval\n",
      "46 minutes\n",
      "47 minutes\n",
      "48 minutes\n",
      "49 minutes\n",
      "interval\n"
     ]
    }
   ],
   "source": [
    "def print_interval(n):\n",
    "    for i in range(1,n+1):\n",
    "        if i % 5 == 0:\n",
    "            print(\"interval\")\n",
    "            \n",
    "        else:\n",
    "            print(f\"{i} minutes\")\n",
    "            \n",
    "            \n",
    "print_interval(50)"
   ]
  },
  {
   "cell_type": "code",
   "execution_count": 94,
   "metadata": {},
   "outputs": [
    {
     "name": "stdout",
     "output_type": "stream",
     "text": [
      "True\n"
     ]
    }
   ],
   "source": [
    "def jumbled_num(num):\n",
    "    n_of_num=[]\n",
    "    temp_n = num\n",
    "    \n",
    "    while temp_n>0:\n",
    "        last_digit=temp_n % 10\n",
    "        n_of_num =[last_digit]+n_of_num\n",
    "        temp_n //= 10\n",
    "        \n",
    "    for i in range(len(n_of_num)-1):\n",
    "        if n_of_num[i+1] - n_of_num[i] !=1:\n",
    "            return False\n",
    "        \n",
    "    return True\n",
    "\n",
    "print(jumbled_num(1234))        "
   ]
  },
  {
   "cell_type": "code",
   "execution_count": 95,
   "metadata": {},
   "outputs": [
    {
     "name": "stdout",
     "output_type": "stream",
     "text": [
      "odd avg 3 , ++even avg 4\n"
     ]
    }
   ],
   "source": [
    "def odd_even_avg(arr):\n",
    "    even_sum=0\n",
    "    even_count=0\n",
    "    \n",
    "    odd_sum=0\n",
    "    odd_count = 0\n",
    "    \n",
    "    for a in arr:\n",
    "        if a %2 ==0:\n",
    "            even_sum +=a\n",
    "            even_count +=1\n",
    "        else:\n",
    "            odd_sum +=a\n",
    "            odd_count +=1\n",
    "            \n",
    "    avg_odd = odd_sum // odd_count\n",
    "    \n",
    "    even_avg = even_sum // even_count\n",
    "    \n",
    "    return f\"odd avg {avg_odd} , ++even avg {even_avg}\"\n",
    "\n",
    "print(odd_even_avg([1,2,3,4,5,6]))"
   ]
  },
  {
   "cell_type": "code",
   "execution_count": 96,
   "metadata": {},
   "outputs": [
    {
     "name": "stdout",
     "output_type": "stream",
     "text": [
      "Compound Interest for year 1 = 4000.00\n",
      "Compound Interest for year 2 = 4800.00\n",
      "Compound Interest for year 3 = 5760.00\n",
      "Total Amount after 3 years = 34560.00\n"
     ]
    }
   ],
   "source": [
    "def compound_interest(p, n, r):\n",
    "    initial_principal = p  # Store the initial principal amount\n",
    "    \n",
    "    for i in range(1, n + 1):\n",
    "        ci = p * r / 100  # Calculate the interest for the current year\n",
    "        print(f\"Compound Interest for year {i} = {ci:.2f}\")\n",
    "        p += ci  # Add the interest to the principal for compounding\n",
    "    \n",
    "    amount = p  # The total amount is the principal after n years of compounding\n",
    "    \n",
    "    print(f\"Total Amount after {n} years = {amount:.2f}\")\n",
    "\n",
    "# Test the function\n",
    "compound_interest(20000, 3, 20)\n"
   ]
  },
  {
   "cell_type": "code",
   "execution_count": 97,
   "metadata": {},
   "outputs": [
    {
     "name": "stdout",
     "output_type": "stream",
     "text": [
      "[5, 4, 3, 2, 1]\n"
     ]
    }
   ],
   "source": [
    "def reversed_arr(arr):\n",
    "    left=0\n",
    "    right=len(arr)-1\n",
    "    while left <= right:\n",
    "        temp=arr[left]\n",
    "        arr[left]=arr[right]\n",
    "        arr[right] = temp \n",
    "        \n",
    "        left +=1\n",
    "        right -=1\n",
    "        \n",
    "    return arr\n",
    "        \n",
    "\n",
    "print(reversed_arr([1,2,3,4,5]))"
   ]
  },
  {
   "cell_type": "code",
   "execution_count": 98,
   "metadata": {},
   "outputs": [
    {
     "name": "stdout",
     "output_type": "stream",
     "text": [
      "[[1, 2, 3, 4, 5], [2, 3, 4, 5], [3, 4, 5], [4, 5], [5]]\n"
     ]
    }
   ],
   "source": [
    "def sum_of_subarray(arr):\n",
    "    array=[]\n",
    "    for i in range(len(arr)):\n",
    "        sub_array=[]\n",
    "        for j in range(i,len(arr)):\n",
    "            sub_array +=[arr[j]]\n",
    "            \n",
    "        array +=[sub_array]\n",
    "    print(array)\n",
    "            \n",
    "    \n",
    "sum_of_subarray([1,2,3,4,5])            "
   ]
  },
  {
   "cell_type": "code",
   "execution_count": 99,
   "metadata": {},
   "outputs": [
    {
     "name": "stdout",
     "output_type": "stream",
     "text": [
      "[[1], [1, 2], [1, 2, 3], [2], [2, 3], [3]]\n"
     ]
    }
   ],
   "source": [
    "def find_sub_array(arr):\n",
    "    start=0\n",
    "    end=len(arr)-1\n",
    "    sub_array=[]\n",
    "    for start in range(len(arr)):\n",
    "        for end in range(start+1,len(arr)+1):\n",
    "            array=[]\n",
    "            for i in range(start,end):\n",
    "                array +=[arr[i]]\n",
    "            sub_array +=[array]\n",
    "            \n",
    "    return sub_array\n",
    "\n",
    "arr=[1,2,3]\n",
    "print(find_sub_array(arr))\n",
    "                "
   ]
  },
  {
   "cell_type": "code",
   "execution_count": 100,
   "metadata": {},
   "outputs": [
    {
     "name": "stdout",
     "output_type": "stream",
     "text": [
      "[[1], [1, 2], [1, 2, 3], [2], [2, 3], [3]]\n"
     ]
    }
   ],
   "source": [
    "def find_sub_arr(arr):\n",
    "    sub_array =[]\n",
    "    \n",
    "    for start in range(len(arr)):\n",
    "        for end in range(start+1,len(arr)+1):\n",
    "            sub_array += [arr[start:end]]\n",
    "            \n",
    "    return sub_array\n",
    "\n",
    "print(find_sub_arr([1,2,3]))"
   ]
  },
  {
   "cell_type": "code",
   "execution_count": 101,
   "metadata": {},
   "outputs": [
    {
     "name": "stdout",
     "output_type": "stream",
     "text": [
      "[['a'], ['a', 'b'], ['a', 'b', 'c'], ['a', 'b', 'c', 'd'], ['a', 'b', 'c', 'd', 'e'], ['b'], ['b', 'c'], ['b', 'c', 'd'], ['b', 'c', 'd', 'e'], ['c'], ['c', 'd'], ['c', 'd', 'e'], ['d'], ['d', 'e'], ['e']]\n",
      "15\n"
     ]
    }
   ],
   "source": [
    "def find_sub_array1(arr):\n",
    "    sub_arr=[]\n",
    "    sum=0\n",
    "    for i in range(len(arr)):\n",
    "        current_sum=0\n",
    "        for j in range(i+1,len(arr)+1):\n",
    "            sub_arr +=[arr[i:j]]\n",
    "            current_sum +=1\n",
    "            \n",
    "        sum +=current_sum\n",
    "            \n",
    "    print(sub_arr)\n",
    "    print(sum)\n",
    "    \n",
    "arr=['a','b','c','d','e']\n",
    "find_sub_array1(arr)"
   ]
  },
  {
   "cell_type": "code",
   "execution_count": 102,
   "metadata": {},
   "outputs": [
    {
     "name": "stdout",
     "output_type": "stream",
     "text": [
      "2\n"
     ]
    }
   ],
   "source": [
    "def find_sum(arr,k):\n",
    "    count=0\n",
    "    for i in range(len(arr)):\n",
    "        current_sum = 0 \n",
    "        for j in range(i,len(arr)):\n",
    "            current_sum +=arr[j]\n",
    "        \n",
    "            if current_sum == k:\n",
    "                count +=1\n",
    "            \n",
    "    print(count)\n",
    "                \n",
    "                \n",
    "find_sum([1,1,1],2)\n",
    "            \n",
    "                \n",
    "            "
   ]
  },
  {
   "cell_type": "code",
   "execution_count": 103,
   "metadata": {},
   "outputs": [
    {
     "name": "stdout",
     "output_type": "stream",
     "text": [
      "[5, 2, 1, 2]\n"
     ]
    }
   ],
   "source": [
    "def combinationSum2(candidates, target):\n",
    "        target_arr=[]\n",
    "        for i in range(len(candidates)):\n",
    "            sub_arr=[]\n",
    "            current_sum =0\n",
    "            for j in range(i,len(candidates)):\n",
    "                \n",
    "                sub_arr += [candidates[j]]\n",
    "                current_sum +=candidates[j]\n",
    "\n",
    "                if current_sum == target:\n",
    "                    target_arr += sub_arr\n",
    "\n",
    "        return target_arr\n",
    "    \n",
    "candidates = [2,5,2,1,2]\n",
    "target = 5\n",
    "\n",
    "print(combinationSum2(candidates,target))"
   ]
  },
  {
   "cell_type": "code",
   "execution_count": 104,
   "metadata": {},
   "outputs": [
    {
     "name": "stdout",
     "output_type": "stream",
     "text": [
      "n\n",
      "i\n",
      "n\n"
     ]
    }
   ],
   "source": [
    "string=\"good morning hello\"\n",
    "target ='ni'\n",
    "\n",
    "for char in string:\n",
    "    for c in char :\n",
    "        for element in target:\n",
    "            if element in c:\n",
    "                print(char)\n",
    "                \n"
   ]
  },
  {
   "cell_type": "code",
   "execution_count": 43,
   "metadata": {},
   "outputs": [
    {
     "name": "stdout",
     "output_type": "stream",
     "text": [
      "hello\n"
     ]
    }
   ],
   "source": [
    "string = \"good morning hello\"\n",
    "target = 'e'\n",
    "\n",
    "# Initialize variables\n",
    "word = \"\"\n",
    "found = False\n",
    "\n",
    "# Iterate through the string character by character\n",
    "for char in string:\n",
    "    if char == ' ':\n",
    "        # Process the current word if it's not empty\n",
    "        if word:\n",
    "            # Check if every character in target is present in the current word\n",
    "            target_found = True\n",
    "            for t_char in target:\n",
    "                if t_char not in word:\n",
    "                    target_found = False\n",
    "                    break\n",
    "            if target_found:\n",
    "                print(word)\n",
    "        # Reset for the next word\n",
    "        word = \"\"\n",
    "    else:\n",
    "        # Build the current word\n",
    "        word += char\n",
    "\n",
    "# Check the last word in case the string does not end with a space\n",
    "if word:\n",
    "    target_found = True\n",
    "    for t_char in target:\n",
    "        if t_char not in word:\n",
    "            target_found = False\n",
    "            break\n",
    "    if target_found:\n",
    "        print(word)\n"
   ]
  },
  {
   "cell_type": "code",
   "execution_count": 106,
   "metadata": {},
   "outputs": [],
   "source": [
    "string=\"good morning\"\n",
    "target='od'\n",
    "word=''\n",
    "found=False\n",
    "\n",
    "for char in string:\n",
    "    if char==' ':\n",
    "        if word:\n",
    "            for t_char in target :\n",
    "                if t_char not in word:\n",
    "                    target_found = False\n",
    "                    break\n",
    "            if target_found:\n",
    "                print(word)\n",
    "        \n",
    "        word=''\n",
    "    else:\n",
    "        word +=char\n",
    "        \n",
    "if word:\n",
    "    target_found= True\n",
    "    for t_char in target:\n",
    "        if t_char not in word:\n",
    "            target_found=False\n",
    "            break\n",
    "    if target_found :\n",
    "        print(word)"
   ]
  },
  {
   "cell_type": "code",
   "execution_count": 107,
   "metadata": {},
   "outputs": [
    {
     "name": "stdout",
     "output_type": "stream",
     "text": [
      "mumbai number\n"
     ]
    }
   ],
   "source": [
    "def landline(num):\n",
    "    if len(num) != 11:\n",
    "        return 'invalid'\n",
    "    \n",
    "    if num[:3] == '011':\n",
    "        return 'delhi number'\n",
    "    if num[:3] == '022':\n",
    "        return 'mumbai number'\n",
    "    if num[:3] == '033':\n",
    "        return 'kolkata number'\n",
    "    if num[:3] == '044':\n",
    "        return 'chennai number'\n",
    "            \n",
    "    \n",
    "print(landline('02223456789'))\n",
    "        "
   ]
  },
  {
   "cell_type": "code",
   "execution_count": 111,
   "metadata": {},
   "outputs": [
    {
     "name": "stdout",
     "output_type": "stream",
     "text": [
      "\n",
      "0 \n",
      "0 1 \n",
      "0 1 0 \n",
      "0 1 0 1 \n",
      "0 1 0 1 0 \n",
      "0 1 0 1 0 1 \n",
      "0 1 0 1 0 1 0 \n",
      "0 1 0 1 0 1 0 1 \n",
      "0 1 0 1 0 1 0 1 0 \n",
      "0 1 0 1 0 1 0 1 0 1 \n",
      "0 1 0 1 0 1 0 1 0 1 0 \n",
      "0 1 0 1 0 1 0 1 0 1 0 1 \n"
     ]
    }
   ],
   "source": [
    "def binary(n):\n",
    "    for i in range(n+1):\n",
    "        for j in range(i):\n",
    "            if j %2 == 0 :\n",
    "                print(\"0\",end=\" \")\n",
    "            else :\n",
    "                print('1',end=' ')\n",
    "        print('')\n",
    "        \n",
    "binary(12)"
   ]
  },
  {
   "cell_type": "code",
   "execution_count": 117,
   "metadata": {},
   "outputs": [
    {
     "name": "stdout",
     "output_type": "stream",
     "text": [
      "[1, 4, 9, 16, 25, 36, 49, 64, 81, 100]\n"
     ]
    }
   ],
   "source": [
    "start=9\n",
    "end=100\n",
    "\n",
    "square_root=[]\n",
    "\n",
    "i=1\n",
    "while i*i <= end :\n",
    "    square_root +=[i*i]\n",
    "    i+=1\n",
    "    \n",
    "print(square_root)\n",
    "    "
   ]
  },
  {
   "cell_type": "code",
   "execution_count": 121,
   "metadata": {},
   "outputs": [
    {
     "name": "stdout",
     "output_type": "stream",
     "text": [
      "0 2\n"
     ]
    }
   ],
   "source": [
    "arr=[2,11,7,15]\n",
    "target=9\n",
    "\n",
    "for i in range(len(arr)):\n",
    "    for j in range(i,len(arr)):\n",
    "        if arr[i]+arr[j] == target:\n",
    "            print(i,j)\n",
    "            \n",
    "        \n",
    "        \n"
   ]
  },
  {
   "cell_type": "code",
   "execution_count": 126,
   "metadata": {},
   "outputs": [
    {
     "name": "stdout",
     "output_type": "stream",
     "text": [
      "100000\n"
     ]
    }
   ],
   "source": [
    "salary=1000000\n",
    "tax=0\n",
    "if salary > 1000000 :\n",
    "    tax +=(salary-1000000)*30//100\n",
    "    salary = 1000000\n",
    "    \n",
    "if 500000 < salary <=1000000:\n",
    "    tax +=(salary-500000) * 20//100\n",
    "    salary = 500000\n",
    "    \n",
    "if 500000 < salary <= 250000:\n",
    "    tax +=(salary-250000)*10//100\n",
    "    salary=250000\n",
    "    \n",
    "print(tax)"
   ]
  },
  {
   "cell_type": "code",
   "execution_count": 128,
   "metadata": {},
   "outputs": [
    {
     "name": "stdout",
     "output_type": "stream",
     "text": [
      "False\n"
     ]
    }
   ],
   "source": [
    "n=19\n",
    "perfect_sq=[]\n",
    "i=1\n",
    "while i*i <=n+1:\n",
    "    perfect_sq +=[i*i]\n",
    "    i +=1\n",
    "    \n",
    "print(n in perfect_sq)"
   ]
  },
  {
   "cell_type": "code",
   "execution_count": 138,
   "metadata": {},
   "outputs": [
    {
     "name": "stdout",
     "output_type": "stream",
     "text": [
      "[4, 3, 2, 1]\n"
     ]
    }
   ],
   "source": [
    "arr=[1,2,3,4]\n",
    "\n",
    "left=0\n",
    "right=len(arr)-1\n",
    "\n",
    "while left <= right:\n",
    "    temp=arr[left]\n",
    "    arr[left]=arr[right]\n",
    "    arr[right] = temp \n",
    "    left +=1\n",
    "    right -=1\n",
    "    \n",
    "print(arr)"
   ]
  },
  {
   "cell_type": "code",
   "execution_count": 147,
   "metadata": {},
   "outputs": [
    {
     "name": "stdout",
     "output_type": "stream",
     "text": [
      "ync\n"
     ]
    }
   ],
   "source": [
    "string = 'syncfusion'\n",
    "start, end = 's', 'f'\n",
    "start_index = None\n",
    "end_index = None\n",
    "\n",
    "for i in range(len(string)):\n",
    "    if string[i] == start:\n",
    "        start_index = i\n",
    "        break  # Stop once the start is found\n",
    "for i in range(len(string)):\n",
    "    if string[i] == end:\n",
    "        end_index = i\n",
    "        break  # Stop once the end is found\n",
    "\n",
    "if start_index is not None and end_index is not None and start_index < end_index:\n",
    "    print(string[start_index + 1 : end_index])\n",
    "else:\n",
    "    print(\"Invalid indices or characters not found.\")\n"
   ]
  },
  {
   "cell_type": "code",
   "execution_count": 156,
   "metadata": {},
   "outputs": [
    {
     "name": "stdout",
     "output_type": "stream",
     "text": [
      "False\n"
     ]
    }
   ],
   "source": [
    "n=12\n",
    "sq=n*n\n",
    "arr=[]\n",
    "temp_n=sq\n",
    "while temp_n > 0:\n",
    "    digit=temp_n %10\n",
    "    arr =[digit] + arr\n",
    "    temp_n //= 10\n",
    "\n",
    "sum=0\n",
    "for a in arr :\n",
    "    sum +=a\n",
    "\n",
    "print(sum == n)\n",
    "    "
   ]
  },
  {
   "cell_type": "code",
   "execution_count": 42,
   "metadata": {},
   "outputs": [
    {
     "name": "stdout",
     "output_type": "stream",
     "text": [
      "morning\n",
      "hello\n"
     ]
    }
   ],
   "source": [
    "string = \"good morning hello\"\n",
    "target = 'e'\n",
    "\n",
    "# Initialize variables\n",
    "word = \"\"\n",
    "found = False\n",
    "\n",
    "# Iterate through the string character by character\n",
    "for char in string:\n",
    "    if char == ' ':\n",
    "        # Process the current word if it's not empty\n",
    "        if word:\n",
    "            # Check if every character in target is present in the current word\n",
    "            target_found = True\n",
    "            for t_char in target:\n",
    "                if t_char not in word:\n",
    "                    target_found = False\n",
    "                    break\n",
    "            if target_found:\n",
    "                print(word)\n",
    "        # Reset for the next word\n",
    "        word = \"\"\n",
    "    else:\n",
    "        # Build the current word\n",
    "        word += char\n",
    "\n",
    "# Check the last word in case the string does not end with a space\n",
    "if word:\n",
    "    target_found = True\n",
    "    for t_char in target:\n",
    "        if t_char not in word:\n",
    "            target_found = False\n",
    "            break\n",
    "    if target_found:\n",
    "        print(word)\n"
   ]
  },
  {
   "cell_type": "code",
   "execution_count": 24,
   "metadata": {},
   "outputs": [],
   "source": [
    "string=\"good morning\"\n",
    "target='od'\n",
    "word=''\n",
    "target_found=False\n",
    "\n",
    "for char in string:\n",
    "    if char==' ':\n",
    "        if word:\n",
    "            for t_char in target :\n",
    "                if t_char not in word:\n",
    "                    target_found = False\n",
    "                    break\n",
    "            if target_found:\n",
    "                print(word)\n",
    "        \n",
    "        word=''\n",
    "    else:\n",
    "        word +=char\n",
    "        \n",
    "if word:\n",
    "    target_found= True\n",
    "    for t_char in target:\n",
    "        if t_char not in word:\n",
    "            target_found=False\n",
    "            break\n",
    "    if target_found :\n",
    "        print(word)"
   ]
  },
  {
   "cell_type": "code",
   "execution_count": 55,
   "metadata": {},
   "outputs": [
    {
     "name": "stdout",
     "output_type": "stream",
     "text": [
      "good\n",
      "morning\n",
      "hello\n"
     ]
    }
   ],
   "source": [
    "string='good morning hello'\n",
    "target='oo'\n",
    "\n",
    "word=''\n",
    "found=False\n",
    "\n",
    "for char in string :\n",
    "    if char == ' ':\n",
    "        if word:\n",
    "            found=True\n",
    "            for t_char in target :\n",
    "                if t_char not in word :\n",
    "                    found = False\n",
    "                    break\n",
    "            if found :\n",
    "                print(word)\n",
    "                    \n",
    "        word=''\n",
    "    else:\n",
    "        word +=char  \n",
    "        \n",
    "if word:\n",
    "    found = True\n",
    "    for t_char in target:\n",
    "        if t_char not in word:\n",
    "            found = False\n",
    "            break\n",
    "    if found:\n",
    "        print(word)\n",
    "        "
   ]
  },
  {
   "cell_type": "code",
   "execution_count": 56,
   "metadata": {},
   "outputs": [
    {
     "name": "stdout",
     "output_type": "stream",
     "text": [
      "good\n",
      "morning\n",
      "hello\n"
     ]
    }
   ],
   "source": [
    "string = 'good morning hello'\n",
    "target = 'oo'\n",
    "\n",
    "word = ''\n",
    "found = False\n",
    "\n",
    "for char in string:\n",
    "    if char == ' ':\n",
    "        if word:\n",
    "            found = True\n",
    "            for t_char in target:\n",
    "                if t_char not in word:\n",
    "                    found = False\n",
    "                    break\n",
    "            if found:\n",
    "                print(word)\n",
    "        word = ''\n",
    "    else:\n",
    "        word += char\n",
    "\n",
    "# Check the last word\n",
    "if word:\n",
    "    found = True\n",
    "    for t_char in target:\n",
    "        if t_char not in word:\n",
    "            found = False\n",
    "            break\n",
    "    if found:\n",
    "        print(word)\n"
   ]
  },
  {
   "cell_type": "code",
   "execution_count": 59,
   "metadata": {},
   "outputs": [
    {
     "name": "stdout",
     "output_type": "stream",
     "text": [
      "morning\n"
     ]
    }
   ],
   "source": [
    "string = 'good morning hello'\n",
    "target = 'ni'\n",
    "\n",
    "def contains_all_target_chars(word, target):\n",
    "    # Create a dictionary to count occurrences of each character in `target`\n",
    "    target_count = {}\n",
    "    for char in target:\n",
    "        if char in target_count:\n",
    "            target_count[char] += 1\n",
    "        else:\n",
    "            target_count[char] = 1\n",
    "\n",
    "    # Create a dictionary to count occurrences of each character in `word`\n",
    "    word_count = {}\n",
    "    for char in word:\n",
    "        if char in word_count:\n",
    "            word_count[char] += 1\n",
    "        else:\n",
    "            word_count[char] = 1\n",
    "\n",
    "    # Check if `word` contains all characters in `target` with the required frequency\n",
    "    for char in target_count:\n",
    "        if word_count.get(char, 0) < target_count[char]:\n",
    "            return False\n",
    "\n",
    "    return True\n",
    "\n",
    "word = ''\n",
    "for char in string:\n",
    "    if char == ' ':\n",
    "        if word and contains_all_target_chars(word, target):\n",
    "            print(word)\n",
    "        word = ''\n",
    "    else:\n",
    "        word += char\n",
    "\n",
    "# Check the last word\n",
    "if word and contains_all_target_chars(word, target):\n",
    "    print(word)\n"
   ]
  },
  {
   "cell_type": "code",
   "execution_count": 66,
   "metadata": {},
   "outputs": [
    {
     "name": "stdout",
     "output_type": "stream",
     "text": [
      "1\n"
     ]
    }
   ],
   "source": [
    "s=2\n",
    "r=5\n",
    "count=0\n",
    "for i in range(s,r):\n",
    "    divisors = []\n",
    "    for j in range(1,r+1):\n",
    "        if i %j == 0 :\n",
    "            divisors +=[j]\n",
    "    if len(divisors) == 3:\n",
    "        count +=1\n",
    "        \n",
    "print(count)"
   ]
  },
  {
   "cell_type": "code",
   "execution_count": 79,
   "metadata": {},
   "outputs": [
    {
     "name": "stdout",
     "output_type": "stream",
     "text": [
      "-1\n"
     ]
    }
   ],
   "source": [
    "handshake = 194\n",
    "\n",
    "n = 1\n",
    "result = -1\n",
    "while True:\n",
    "    calculated_handshake = (n * (n - 1)) // 2\n",
    "    if calculated_handshake == handshake:\n",
    "        result = n\n",
    "        break\n",
    "    elif calculated_handshake > handshake:\n",
    "        break\n",
    "    n += 1\n",
    "\n",
    "print(result)  # The result will be -1 as no valid `n` satisfies the equation\n"
   ]
  },
  {
   "cell_type": "code",
   "execution_count": 83,
   "metadata": {},
   "outputs": [
    {
     "name": "stdout",
     "output_type": "stream",
     "text": [
      "54321\n"
     ]
    }
   ],
   "source": [
    "arr=[1,2,3,4,5]\n",
    "\n",
    "def generate_combinations(arr,start,end,result):\n",
    "    if start == end :\n",
    "        number = int(''.join(map (str,arr)))\n",
    "        result +=[number]\n",
    "    else:\n",
    "        for i in range(start,end+1):\n",
    "            arr[start] , arr[i] = arr[i],arr[start]\n",
    "            generate_combinations(arr,start+1,end,result)\n",
    "            arr[start], arr[i] = arr[i], arr[start]\n",
    "\n",
    "result =[]\n",
    "generate_combinations(arr,0,len(arr)-1,result)\n",
    "\n",
    "max_num=result[0]\n",
    "for n in result:\n",
    "    if n > max_num:\n",
    "        max_num = n\n",
    "        \n",
    "print(max_num)\n"
   ]
  },
  {
   "cell_type": "code",
   "execution_count": 87,
   "metadata": {},
   "outputs": [
    {
     "name": "stdout",
     "output_type": "stream",
     "text": [
      "['abcde', 'abced', 'abdce', 'abdec', 'abedc', 'abecd', 'acbde', 'acbed', 'acdbe', 'acdeb', 'acedb', 'acebd', 'adcbe', 'adceb', 'adbce', 'adbec', 'adebc', 'adecb', 'aecdb', 'aecbd', 'aedcb', 'aedbc', 'aebdc', 'aebcd', 'bacde', 'baced', 'badce', 'badec', 'baedc', 'baecd', 'bcade', 'bcaed', 'bcdae', 'bcdea', 'bceda', 'bcead', 'bdcae', 'bdcea', 'bdace', 'bdaec', 'bdeac', 'bdeca', 'becda', 'becad', 'bedca', 'bedac', 'beadc', 'beacd', 'cbade', 'cbaed', 'cbdae', 'cbdea', 'cbeda', 'cbead', 'cabde', 'cabed', 'cadbe', 'cadeb', 'caedb', 'caebd', 'cdabe', 'cdaeb', 'cdbae', 'cdbea', 'cdeba', 'cdeab', 'ceadb', 'ceabd', 'cedab', 'cedba', 'cebda', 'cebad', 'dbcae', 'dbcea', 'dbace', 'dbaec', 'dbeac', 'dbeca', 'dcbae', 'dcbea', 'dcabe', 'dcaeb', 'dceab', 'dceba', 'dacbe', 'daceb', 'dabce', 'dabec', 'daebc', 'daecb', 'decab', 'decba', 'deacb', 'deabc', 'debac', 'debca', 'ebcda', 'ebcad', 'ebdca', 'ebdac', 'ebadc', 'ebacd', 'ecbda', 'ecbad', 'ecdba', 'ecdab', 'ecadb', 'ecabd', 'edcba', 'edcab', 'edbca', 'edbac', 'edabc', 'edacb', 'eacdb', 'eacbd', 'eadcb', 'eadbc', 'eabdc', 'eabcd']\n",
      "120\n"
     ]
    }
   ],
   "source": [
    "arr=['a','b','c','d','e']\n",
    "\n",
    "def generate_combinations(arr,start,end,result):\n",
    "    if start == end :\n",
    "        number = ''.join(map (str,arr))\n",
    "        result +=[number]\n",
    "    else:\n",
    "        for i in range(start,end+1):\n",
    "            arr[start] , arr[i] = arr[i],arr[start]\n",
    "            generate_combinations(arr,start+1,end,result)\n",
    "            arr[start], arr[i] = arr[i], arr[start]\n",
    "\n",
    "result =[]\n",
    "generate_combinations(arr,0,len(arr)-1,result)\n",
    "\n",
    "print(result)\n",
    "print(len(result))\n"
   ]
  },
  {
   "cell_type": "code",
   "execution_count": 92,
   "metadata": {},
   "outputs": [
    {
     "name": "stdout",
     "output_type": "stream",
     "text": [
      "98\n"
     ]
    }
   ],
   "source": [
    "print(ord('b'))"
   ]
  },
  {
   "cell_type": "code",
   "execution_count": 103,
   "metadata": {},
   "outputs": [
    {
     "name": "stdout",
     "output_type": "stream",
     "text": [
      "['A', 'C']\n"
     ]
    }
   ],
   "source": [
    "result =[]\n",
    "\n",
    "n=29\n",
    "\n",
    "while n > 0 :\n",
    "    n -=1\n",
    "    digit = n % 26\n",
    "    result =[chr(digit+ord('A'))] + result\n",
    "    n //=26\n",
    "    \n",
    "print(result)"
   ]
  },
  {
   "cell_type": "code",
   "execution_count": 120,
   "metadata": {},
   "outputs": [
    {
     "name": "stdout",
     "output_type": "stream",
     "text": [
      "2668652480536\n"
     ]
    }
   ],
   "source": [
    "def excel_column_to_number(column_label):\n",
    "    result = 0\n",
    "    for char in column_label:\n",
    "        \n",
    "            \n",
    "        result = result * 26 + (ord(char) - ord('A') + 1)\n",
    "        \n",
    "    return result\n",
    "column_label = \"N H B hsj\"\n",
    "print(excel_column_to_number(column_label))\n"
   ]
  },
  {
   "cell_type": "code",
   "execution_count": 125,
   "metadata": {},
   "outputs": [
    {
     "name": "stdout",
     "output_type": "stream",
     "text": [
      "['A']\n"
     ]
    }
   ],
   "source": [
    "result=[]\n",
    "\n",
    "n=30\n",
    "\n",
    "while n > 0:\n",
    "    n -=1\n",
    "    digit = n%26\n",
    "    result = [chr(digit+ord('A'))]\n",
    "    n //=26\n",
    "    \n",
    "print(result)"
   ]
  },
  {
   "cell_type": "code",
   "execution_count": 128,
   "metadata": {},
   "outputs": [
    {
     "name": "stdout",
     "output_type": "stream",
     "text": [
      "1\n"
     ]
    }
   ],
   "source": [
    "result=0\n",
    "\n",
    "string=\"A\"\n",
    "\n",
    "for char in string:\n",
    "    result = result * 26 + (ord(char)-ord('A')+1)\n",
    "    \n",
    "print(result)"
   ]
  },
  {
   "cell_type": "code",
   "execution_count": 131,
   "metadata": {},
   "outputs": [
    {
     "name": "stdout",
     "output_type": "stream",
     "text": [
      "[3, 4, 5, 1, 2]\n"
     ]
    }
   ],
   "source": [
    "#rotate array\n",
    "\n",
    "arr=[1,2,3,4,5]\n",
    "k=3\n",
    "k=k%n\n",
    "n=len(arr)\n",
    "temp=[0]*n\n",
    "\n",
    "for i in range(n):\n",
    "    new_position = (i+k)%n\n",
    "    temp[new_position] = arr[i]\n",
    "    \n",
    "for i in range(n):\n",
    "    arr[i] = temp[i]\n",
    "    \n",
    "print(arr)"
   ]
  },
  {
   "cell_type": "code",
   "execution_count": 134,
   "metadata": {},
   "outputs": [
    {
     "name": "stdout",
     "output_type": "stream",
     "text": [
      "A\n"
     ]
    }
   ],
   "source": [
    "print(chr(ord('a')-32))"
   ]
  },
  {
   "cell_type": "code",
   "execution_count": 140,
   "metadata": {},
   "outputs": [
    {
     "name": "stdout",
     "output_type": "stream",
     "text": [
      "[]\n"
     ]
    }
   ],
   "source": [
    "def reverse_word(word):\n",
    "    word=list(word)\n",
    "    left=0\n",
    "    right=len(word)-1\n",
    "    while left <= right:\n",
    "        temp = word[left]\n",
    "        word[left] = word [right]\n",
    "        word[right]= word[left]\n",
    "        \n",
    "        left +=1\n",
    "        right -=1\n",
    "        \n",
    "def extract_words(string):\n",
    "    words=[]\n",
    "    word=''\n",
    "    for char in string:\n",
    "        if char == ' ':\n",
    "            if word:\n",
    "                words.append(word)\n",
    "                word=''\n",
    "        else:\n",
    "            word +=char\n",
    "    \n",
    "    if word :\n",
    "        words.append(word)\n",
    "    return words\n",
    "\n",
    "string=\"aba acc amma\"\n",
    "\n",
    "result=extract_words(string)\n",
    "\n",
    "arr=[]\n",
    "for n in result :\n",
    "    if n == reverse_word(n):\n",
    "        arr.append(n)\n",
    "        \n",
    "\n",
    "print(arr)"
   ]
  },
  {
   "cell_type": "code",
   "execution_count": 151,
   "metadata": {},
   "outputs": [
    {
     "name": "stdout",
     "output_type": "stream",
     "text": [
      "the \n"
     ]
    }
   ],
   "source": [
    "string=\"the quick brown fox\"\n",
    "n=7\n",
    "\n",
    "if len(string) == n :\n",
    "    print(string)\n",
    "    \n",
    "#extract\n",
    "\n",
    "truncated_string = \"\"\n",
    "for i in range(n):\n",
    "    truncated_string +=string[i]\n",
    "    \n",
    "if string[n] != ' ' and string[n-1] != \" \" :\n",
    "    while n > 0 and string[n-1] != \" \":\n",
    "        n -=1\n",
    "        \n",
    "\n",
    "truncated_string=''\n",
    "for i in range(n):\n",
    "    truncated_string +=string[i]\n",
    "    \n",
    "    \n",
    "print(truncated_string)"
   ]
  },
  {
   "cell_type": "code",
   "execution_count": 166,
   "metadata": {},
   "outputs": [],
   "source": [
    "string = \"the quick brown fox\"\n",
    "k = 173\n",
    "\n",
    "\n",
    "# Edge case: if k is larger than the length of the string, just return the whole string\n",
    "if k >= len(string):\n",
    "    truncated_string = string\n",
    "else:\n",
    "    # Find the last space before or at the k-th character\n",
    "    space_index = -1\n",
    "    for i in range(k):\n",
    "        if string[i] == ' ':\n",
    "            space_index = i\n",
    "\n",
    "\n",
    "    # Find the index of the next space after the k-th character\n",
    "    next_space_index = len(string)\n",
    "    for i in range(k, len(string)):\n",
    "        if string[i] == ' ':\n",
    "            next_space_index = i\n",
    "            break\n",
    "\n",
    "    # Create the truncated string including the complete word\n",
    "    if space_index == -1:  # No space found before k, include the entire string up to k\n",
    "        truncated_string = string[:k]\n",
    "    else:\n",
    "        # Include the next space after the k-th character if it's within the word\n",
    "        truncated_string = string[:next_space_index]\n",
    "\n",
    "print(truncated_string)\n"
   ]
  },
  {
   "cell_type": "code",
   "execution_count": 173,
   "metadata": {},
   "outputs": [
    {
     "name": "stdout",
     "output_type": "stream",
     "text": [
      "ten dollars two rupees\n"
     ]
    }
   ],
   "source": [
    "def number_to_words(number):\n",
    "    # Dictionary to convert numbers to words\n",
    "    ones = [\"\", \"one\", \"two\", \"three\", \"four\", \"five\", \"six\", \"seven\", \"eight\", \"nine\"]\n",
    "    teens = [\"ten\", \"eleven\", \"twelve\", \"thirteen\", \"fourteen\", \"fifteen\", \"sixteen\", \"seventeen\", \"eighteen\", \"nineteen\"]\n",
    "    tens = [\"\", \"\", \"twenty\", \"thirty\", \"forty\", \"fifty\", \"sixty\", \"seventy\", \"eighty\", \"ninety\"]\n",
    "    \n",
    "    if number < 10:\n",
    "        return ones[number]\n",
    "    elif number < 20:\n",
    "        return teens[number - 10]\n",
    "    elif number < 100:\n",
    "        return tens[number // 10] + (\" \" + ones[number % 10] if number % 10 != 0 else \"\")\n",
    "    elif number == 100:\n",
    "        return \"one hundred\"\n",
    "    else:\n",
    "        return \"number out of range\"\n",
    "\n",
    "def convert_rupees_to_dollars(rupees, rate):\n",
    "    # Calculate dollars and remaining rupees\n",
    "    dollars = rupees // rate\n",
    "    remaining_rupees = rupees % rate\n",
    "    \n",
    "    # Convert to words\n",
    "    dollar_words = number_to_words(dollars) + \" dollar\" + (\"s\" if dollars != 1 else \"\")\n",
    "    rupee_words = number_to_words(remaining_rupees) + \" rupee\" + (\"s\" if remaining_rupees != 1 else \"\")\n",
    "    \n",
    "    # Format output\n",
    "    return f\"{dollar_words} {rupee_words}\"\n",
    "\n",
    "# Example usage\n",
    "rupees = 602\n",
    "exchange_rate = 60\n",
    "result = convert_rupees_to_dollars(rupees, exchange_rate)\n",
    "print(result)\n"
   ]
  },
  {
   "cell_type": "code",
   "execution_count": 175,
   "metadata": {},
   "outputs": [
    {
     "name": "stdout",
     "output_type": "stream",
     "text": [
      "10\n",
      "2\n"
     ]
    }
   ],
   "source": [
    "rps=602\n",
    "dollar=rps//60\n",
    "print(dollar)\n",
    "remaining=rps%10 \n",
    "print(remaining)"
   ]
  },
  {
   "cell_type": "code",
   "execution_count": 182,
   "metadata": {},
   "outputs": [
    {
     "name": "stdout",
     "output_type": "stream",
     "text": [
      "True\n"
     ]
    }
   ],
   "source": [
    "num=153\n",
    "\n",
    "temp_num=num\n",
    "count=0\n",
    "element=[]\n",
    "\n",
    "while temp_num > 0:\n",
    "    last_digit = temp_num % 10\n",
    "    count +=1\n",
    "    element = [last_digit] + element\n",
    "    \n",
    "    temp_num //= 10 \n",
    "    \n",
    "    \n",
    "sum=0 \n",
    "for e in element :\n",
    "    sum += e **count\n",
    "\n",
    "print(sum==num)    "
   ]
  },
  {
   "cell_type": "code",
   "execution_count": 186,
   "metadata": {},
   "outputs": [
    {
     "name": "stdout",
     "output_type": "stream",
     "text": [
      "[3, 4, 5, 1, 2]\n"
     ]
    }
   ],
   "source": [
    "#rotate array\n",
    "\n",
    "arr=[1,2,3,4,5]\n",
    "k=3\n",
    "k=k%n\n",
    "n=len(arr)\n",
    "temp=[0]*n\n",
    "\n",
    "for i in range(n):\n",
    "    new_position = (i+k)%n\n",
    "    temp[new_position] = arr[i]\n",
    "    \n",
    "for i in range(n):\n",
    "    arr[i] = temp[i]\n",
    "    \n",
    "print(arr)"
   ]
  },
  {
   "cell_type": "code",
   "execution_count": 188,
   "metadata": {},
   "outputs": [
    {
     "name": "stdout",
     "output_type": "stream",
     "text": [
      "onsyncfusi\n"
     ]
    }
   ],
   "source": [
    "def rotate_string(s, k):\n",
    "    n = len(s)\n",
    "    temp_str = [''] * n  # Initialize an empty list to store the rotated string\n",
    "    \n",
    "    for i in range(n):\n",
    "        # Calculate the new position for each character\n",
    "        new_position = (i + k) % n\n",
    "        temp_str[new_position] = s[i]\n",
    "    \n",
    "    return ''.join(temp_str)\n",
    "\n",
    "# Example usage\n",
    "string = \"syncfusion\"\n",
    "k = 2\n",
    "result = rotate_string(string, k)\n",
    "print(result)\n"
   ]
  },
  {
   "cell_type": "code",
   "execution_count": 189,
   "metadata": {},
   "outputs": [
    {
     "name": "stdout",
     "output_type": "stream",
     "text": [
      "Salary per day: 95.24\n"
     ]
    }
   ],
   "source": [
    "def calculate_salary_per_day(total_salary, months):\n",
    "    # Assuming 30 days in a month\n",
    "    days_per_month = 30\n",
    "    total_days = months * days_per_month\n",
    "    \n",
    "    # Calculate salary per day\n",
    "    salary_per_day = total_salary / total_days\n",
    "    \n",
    "    return salary_per_day\n",
    "\n",
    "# Example usage\n",
    "total_salary = 20000\n",
    "months = 7\n",
    "salary_per_day = calculate_salary_per_day(total_salary, months)\n",
    "print(f\"Salary per day: {salary_per_day:.2f}\")\n"
   ]
  },
  {
   "cell_type": "code",
   "execution_count": 190,
   "metadata": {},
   "outputs": [
    {
     "name": "stdout",
     "output_type": "stream",
     "text": [
      "Inflated value: 36971.31\n"
     ]
    }
   ],
   "source": [
    "def calculate_inflated_value(principal, inflation_rate, years):\n",
    "    # Convert inflation rate from percentage to decimal\n",
    "    rate_decimal = inflation_rate / 100\n",
    "    \n",
    "    # Calculate inflated value using the compound interest formula\n",
    "    inflated_value = principal * (1 + rate_decimal) ** years\n",
    "    \n",
    "    return inflated_value\n",
    "\n",
    "# Example usage\n",
    "principal = 102005\n",
    "inflation_rate = 7\n",
    "years = 2009 - 2024  # Number of years from 2009 to 2024\n",
    "\n",
    "inflated_value = calculate_inflated_value(principal, inflation_rate, years)\n",
    "print(f\"Inflated value: {inflated_value:.2f}\")\n"
   ]
  },
  {
   "cell_type": "code",
   "execution_count": 191,
   "metadata": {},
   "outputs": [
    {
     "name": "stdout",
     "output_type": "stream",
     "text": [
      "3125 minutes is equal to 2 days, 4 hours, and 5 minutes.\n"
     ]
    }
   ],
   "source": [
    "def convert_minutes(minutes):\n",
    "    # Constants\n",
    "    MINUTES_IN_HOUR = 60\n",
    "    MINUTES_IN_DAY = 24 * MINUTES_IN_HOUR\n",
    "    \n",
    "    # Calculate days\n",
    "    days = minutes // MINUTES_IN_DAY\n",
    "    \n",
    "    # Calculate remaining minutes after days\n",
    "    remaining_minutes = minutes % MINUTES_IN_DAY\n",
    "    \n",
    "    # Calculate hours\n",
    "    hours = remaining_minutes // MINUTES_IN_HOUR\n",
    "    \n",
    "    # Calculate remaining minutes after hours\n",
    "    remaining_minutes = remaining_minutes % MINUTES_IN_HOUR\n",
    "    \n",
    "    return days, hours, remaining_minutes\n",
    "\n",
    "# Example usage\n",
    "input_minutes = 3125  # You can change this to any number of minutes\n",
    "days, hours, minutes = convert_minutes(input_minutes)\n",
    "print(f\"{input_minutes} minutes is equal to {days} days, {hours} hours, and {minutes} minutes.\")\n"
   ]
  },
  {
   "cell_type": "code",
   "execution_count": null,
   "metadata": {},
   "outputs": [],
   "source": [
    "def is_trimorphic(number):\n",
    "    # Compute the cube of the number\n",
    "    cube = number ** 3\n",
    "    \n",
    "    # Convert the number and its cube to strings for easy comparison\n",
    "    str_number = str(number)\n",
    "    str_cube = str(cube)\n",
    "    \n",
    "    # Check if the last digits of the cube match the original number\n",
    "    return str_cube.endswith(str_number)\n",
    "\n",
    "# Example usage\n",
    "number = 4  # You can change this to test other numbers\n",
    "if is_trimorphic(number):\n",
    "    print(f\"{number} is a trimorphic number.\")\n",
    "else:\n",
    "    print(f\"{number} is not a trimorphic number.\")\n"
   ]
  },
  {
   "cell_type": "code",
   "execution_count": 192,
   "metadata": {},
   "outputs": [
    {
     "name": "stdout",
     "output_type": "stream",
     "text": [
      "Monthly salary: ₹15166.67\n"
     ]
    }
   ],
   "source": [
    "def calculate_monthly_salary(daily_wage, days_per_week):\n",
    "    # Calculate weekly salary\n",
    "    weekly_salary = daily_wage * days_per_week\n",
    "    \n",
    "    # Calculate average number of weeks in a month\n",
    "    weeks_per_month = 52 / 12  # There are 52 weeks in a year and 12 months\n",
    "    \n",
    "    # Calculate monthly salary\n",
    "    monthly_salary = weekly_salary * weeks_per_month\n",
    "    \n",
    "    return monthly_salary\n",
    "\n",
    "# Example usage\n",
    "daily_wage = 500\n",
    "days_per_week = 7\n",
    "monthly_salary = calculate_monthly_salary(daily_wage, days_per_week)\n",
    "print(f\"Monthly salary: ₹{monthly_salary:.2f}\")\n"
   ]
  },
  {
   "cell_type": "code",
   "execution_count": 193,
   "metadata": {},
   "outputs": [
    {
     "name": "stdout",
     "output_type": "stream",
     "text": [
      "January: ₹15500\n",
      "February: ₹14000\n",
      "March: ₹15500\n",
      "April: ₹15000\n",
      "May: ₹15500\n",
      "June: ₹15000\n",
      "July: ₹15500\n",
      "August: ₹15500\n",
      "September: ₹15000\n",
      "October: ₹15500\n",
      "November: ₹15000\n",
      "December: ₹15500\n"
     ]
    }
   ],
   "source": [
    "def calculate_monthly_salary_per_month(daily_wage):\n",
    "    # Number of days in each month for a non-leap year\n",
    "    days_in_months = {\n",
    "        \"January\": 31,\n",
    "        \"February\": 28,\n",
    "        \"March\": 31,\n",
    "        \"April\": 30,\n",
    "        \"May\": 31,\n",
    "        \"June\": 30,\n",
    "        \"July\": 31,\n",
    "        \"August\": 31,\n",
    "        \"September\": 30,\n",
    "        \"October\": 31,\n",
    "        \"November\": 30,\n",
    "        \"December\": 31\n",
    "    }\n",
    "    \n",
    "    # Calculate and print the monthly salary for each month\n",
    "    monthly_salaries = {}\n",
    "    for month, days in days_in_months.items():\n",
    "        monthly_salary = daily_wage * days\n",
    "        monthly_salaries[month] = monthly_salary\n",
    "    \n",
    "    return monthly_salaries\n",
    "\n",
    "# Example usage\n",
    "daily_wage = 500\n",
    "monthly_salaries = calculate_monthly_salary_per_month(daily_wage)\n",
    "\n",
    "# Print the results\n",
    "for month, salary in monthly_salaries.items():\n",
    "    print(f\"{month}: ₹{salary}\")\n",
    "\n"
   ]
  }
 ],
 "metadata": {
  "kernelspec": {
   "display_name": "Python 3",
   "language": "python",
   "name": "python3"
  },
  "language_info": {
   "codemirror_mode": {
    "name": "ipython",
    "version": 3
   },
   "file_extension": ".py",
   "mimetype": "text/x-python",
   "name": "python",
   "nbconvert_exporter": "python",
   "pygments_lexer": "ipython3",
   "version": "3.7.6"
  }
 },
 "nbformat": 4,
 "nbformat_minor": 2
}
