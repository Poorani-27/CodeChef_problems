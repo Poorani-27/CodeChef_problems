{
 "cells": [
  {
   "cell_type": "code",
   "execution_count": 10,
   "metadata": {},
   "outputs": [],
   "source": [
    "def add(a,b):\n",
    "\tif b == 0:\n",
    "\t\treturn a\n",
    "\twhile b != 0 :\n",
    "\t\tcarry = a&b\n",
    "\t\ta = a^b\n",
    "\t\tb = carry << 1\n",
    "\treturn a\n",
    "\n",
    "\n",
    "\n",
    "def sub(a,b):\n",
    "\tif b == 0:\n",
    "\t\treturn a\n",
    "\tif b > a:\n",
    "\t\treturn -(sub(b,a))\n",
    "\twhile b != 0:\n",
    "\t\tborrow = a & b \n",
    "\t\ta = a ^ b\n",
    "\t\tb = borrow << 1\n",
    "\treturn a\n",
    "\n",
    "def multiply(a,b):\n",
    "\tif b==0:\n",
    "\t\treturn 0\n",
    "\tresult = 0\n",
    "\twhile b > 0 :\n",
    "\t\tif b&1 : \n",
    "\t\t\tresult +=a\n",
    "\t\ta <<= 1\n",
    "\t\tb >>= 1\n",
    "\treturn result\n",
    " \n",
    "\n",
    "def div(a,b):\n",
    "\tif b==0:\n",
    "\t\treturn 'valure error'\n",
    "\tremainder = a\n",
    "\tquotient = 0\n",
    "\twhile remainder >=b  :\n",
    "\t\tremainder -= b\n",
    "\t\tquotient +=1\n",
    "  \n",
    "\treturn quotient, remainder\n",
    "\n",
    "\n",
    "def square_root(a):\n",
    "\ttolerance = (1e-10)\n",
    "\tif a <0:\n",
    "\t\treturn 'square root cannot be computed for negative number'\n",
    "\tguess=a\n",
    "\twhile True :\n",
    "\t\tnew_guess = 0.5 *(guess + a / guess)\n",
    "\t\tif abs(new_guess - guess) < tolerance:\n",
    "\t\t\treturn new_guess\n",
    "\t\tguess = new_guess\n",
    "\n",
    "\n",
    "def even_odd(num):\n",
    "\tif num & 1 == 0:\n",
    "\t\treturn 'Even'\n",
    "\telse:\n",
    "\t\treturn 'odd'\n",
    "\n",
    "def simple_interest(principal,rate,year):\n",
    "\t\tinterest = rate / 100\n",
    "\t\tsi=principal*interest*year\n",
    "\t\treturn si\n",
    "\n",
    "\n",
    "def compound_interest(principal, rate, year):\n",
    "\t\tinitial_principal = principal\n",
    "\t\tfor i in range (year):\n",
    "\t\t\tinterest = rate*principal//100\n",
    "\t\t\tprincipal +=interest \n",
    "\t\tamount = principal - initial_principal\n",
    "\t\treturn amount\n"
   ]
  },
  {
   "cell_type": "code",
   "execution_count": 15,
   "metadata": {},
   "outputs": [
    {
     "name": "stdout",
     "output_type": "stream",
     "text": [
      "2\n"
     ]
    }
   ],
   "source": [
    "def round(num):\n",
    "    integral_part=int(num)\n",
    "    decimal_part=num-integral_part\n",
    "    if decimal_part >=0.5:\n",
    "        return integral_part+1\n",
    "    else:\n",
    "        return integral_part\n",
    "    \n",
    "    \n",
    "print(round(2.18))"
   ]
  },
  {
   "cell_type": "code",
   "execution_count": 13,
   "metadata": {},
   "outputs": [
    {
     "name": "stdout",
     "output_type": "stream",
     "text": [
      "3\n",
      "-3\n",
      "3\n",
      "(0, 2)\n",
      "odd\n",
      "800.0\n",
      "880\n",
      "2.0\n"
     ]
    }
   ],
   "source": [
    "print(add(1,2))\n",
    "print(sub(1,2))\n",
    "print(multiply(1,3))\n",
    "print(div(2,4))\n",
    "print(even_odd(3))\n",
    "print(simple_interest(2000,20,2))\n",
    "print(compound_interest(2000,20,2))\n",
    "print(square_root(4))"
   ]
  },
  {
   "cell_type": "code",
   "execution_count": 17,
   "metadata": {},
   "outputs": [
    {
     "name": "stdout",
     "output_type": "stream",
     "text": [
      "2\n"
     ]
    }
   ],
   "source": [
    "def floorSqrt(n):\n",
    "        def round_off(n):\n",
    "            integral_part = int(n)\n",
    "            decimal_part= n-integral_part\n",
    "            if decimal_part >= 0.5:\n",
    "                return integral_part +1\n",
    "            else:\n",
    "                return integral_part\n",
    "    #Your code here\n",
    "        tolerance=1e-10\n",
    "        guess=n\n",
    "        while True:\n",
    "            new_guess=0.5*(guess+n)/guess\n",
    "            if abs(new_guess-guess) < tolerance:\n",
    "                return round_off(new_guess)\n",
    "            guess=new_guess\n",
    "            \n",
    "print(floorSqrt(9))"
   ]
  }
 ],
 "metadata": {
  "kernelspec": {
   "display_name": "Python 3",
   "language": "python",
   "name": "python3"
  },
  "language_info": {
   "codemirror_mode": {
    "name": "ipython",
    "version": 3
   },
   "file_extension": ".py",
   "mimetype": "text/x-python",
   "name": "python",
   "nbconvert_exporter": "python",
   "pygments_lexer": "ipython3",
   "version": "3.7.6"
  }
 },
 "nbformat": 4,
 "nbformat_minor": 2
}
