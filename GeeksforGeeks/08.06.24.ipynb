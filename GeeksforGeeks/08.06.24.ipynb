{
 "cells": [
  {
   "cell_type": "code",
   "execution_count": 5,
   "metadata": {},
   "outputs": [
    {
     "name": "stdout",
     "output_type": "stream",
     "text": [
      "[1, 7, 2, 6, 3, 5]\n"
     ]
    }
   ],
   "source": [
    "n=7\n",
    "arr=[1,2,3,4,5,6,7]\n",
    "mid=n//2\n",
    "min_arr=arr[:mid]\n",
    "max_arr=reversed(arr[mid:])\n",
    "res=[]\n",
    "for a,b in zip(min_arr,max_arr):\n",
    "    res.append(a)\n",
    "    res.append(b)\n",
    "print(res)\n",
    "    "
   ]
  },
  {
   "cell_type": "markdown",
   "metadata": {},
   "source": []
  },
  {
   "cell_type": "code",
   "execution_count": 4,
   "metadata": {},
   "outputs": [
    {
     "name": "stdout",
     "output_type": "stream",
     "text": [
      "1 min\n",
      "2 min\n",
      "3 min\n",
      "4 min\n",
      "Interval\n",
      "6 min\n",
      "7 min\n",
      "8 min\n",
      "9 min\n",
      "Interval\n",
      "11 min\n",
      "12 min\n",
      "13 min\n",
      "14 min\n",
      "Interval\n",
      "16 min\n",
      "17 min\n",
      "18 min\n",
      "19 min\n",
      "Interval\n",
      "21 min\n",
      "22 min\n",
      "23 min\n",
      "24 min\n",
      "Interval\n",
      "26 min\n",
      "27 min\n",
      "28 min\n",
      "29 min\n",
      "Interval\n",
      "31 min\n",
      "32 min\n",
      "33 min\n",
      "34 min\n",
      "Interval\n",
      "36 min\n",
      "37 min\n",
      "38 min\n",
      "39 min\n",
      "Interval\n",
      "41 min\n",
      "42 min\n",
      "43 min\n",
      "44 min\n",
      "Interval\n",
      "46 min\n",
      "47 min\n",
      "48 min\n",
      "49 min\n",
      "Interval\n",
      "51 min\n",
      "52 min\n",
      "53 min\n",
      "54 min\n",
      "Interval\n",
      "56 min\n",
      "57 min\n",
      "58 min\n",
      "59 min\n",
      "Interval\n"
     ]
    }
   ],
   "source": [
    "for i in range(1,61):\n",
    "    if i % 5 == 0:\n",
    "        print(\"Interval\")\n",
    "    else:\n",
    "        print(i, \"min\")"
   ]
  },
  {
   "cell_type": "code",
   "execution_count": 15,
   "metadata": {},
   "outputs": [
    {
     "name": "stdout",
     "output_type": "stream",
     "text": [
      "you entered  -60. please enter a positive term\n",
      "you entered  -90. please enter a positive term\n",
      "you entered  0. please enter a positive term\n",
      "Divisors of 30 are :  1 2 3 5 6 10 15 30 "
     ]
    }
   ],
   "source": [
    "\n",
    "while True:\n",
    "    n = int(input(\"Enter a number yo find its divisors : \"))\n",
    "    \n",
    "    if n <=0:\n",
    "        print(f\"you entered  {n}. please enter a positive term\")\n",
    "    else:\n",
    "        break\n",
    "\n",
    "    \n",
    "divisors = []\n",
    "for i in range(1,n+1):\n",
    "    if n % i == 0:\n",
    "        divisors.append(i)\n",
    "print(f\"Divisors of {n} are : \",end=\" \")\n",
    "for d in divisors:\n",
    "    print(d,end=\" \")"
   ]
  },
  {
   "cell_type": "code",
   "execution_count": 17,
   "metadata": {},
   "outputs": [
    {
     "ename": "TypeError",
     "evalue": "'int' object is not subscriptable",
     "output_type": "error",
     "traceback": [
      "\u001b[1;31m---------------------------------------------------------------------------\u001b[0m",
      "\u001b[1;31mTypeError\u001b[0m                                 Traceback (most recent call last)",
      "\u001b[1;32m~\\AppData\\Local\\Temp\\ipykernel_13688\\2769654637.py\u001b[0m in \u001b[0;36m<module>\u001b[1;34m\u001b[0m\n\u001b[0;32m      6\u001b[0m     \u001b[0mt\u001b[0m\u001b[1;33m=\u001b[0m\u001b[0mt\u001b[0m\u001b[1;33m//\u001b[0m\u001b[1;36m10\u001b[0m\u001b[1;33m\u001b[0m\u001b[1;33m\u001b[0m\u001b[0m\n\u001b[0;32m      7\u001b[0m \u001b[1;32mfor\u001b[0m \u001b[0mi\u001b[0m \u001b[1;32min\u001b[0m \u001b[0mrange\u001b[0m\u001b[1;33m(\u001b[0m\u001b[1;36m1\u001b[0m\u001b[1;33m,\u001b[0m\u001b[0mn\u001b[0m\u001b[1;33m-\u001b[0m\u001b[1;36m1\u001b[0m\u001b[1;33m)\u001b[0m\u001b[1;33m:\u001b[0m\u001b[1;33m\u001b[0m\u001b[1;33m\u001b[0m\u001b[0m\n\u001b[1;32m----> 8\u001b[1;33m     \u001b[0mprint\u001b[0m\u001b[1;33m(\u001b[0m\u001b[0mn\u001b[0m\u001b[1;33m[\u001b[0m\u001b[0mi\u001b[0m\u001b[1;33m]\u001b[0m\u001b[1;33m)\u001b[0m\u001b[1;33m\u001b[0m\u001b[1;33m\u001b[0m\u001b[0m\n\u001b[0m\u001b[0;32m      9\u001b[0m \u001b[1;33m\u001b[0m\u001b[0m\n\u001b[0;32m     10\u001b[0m \u001b[1;33m\u001b[0m\u001b[0m\n",
      "\u001b[1;31mTypeError\u001b[0m: 'int' object is not subscriptable"
     ]
    }
   ],
   "source": [
    "n=int(input(\"Enter a number : \"))\n",
    "t=n\n",
    "length=0\n",
    "while t >0:\n",
    "    length +=1\n",
    "    t=t//10\n",
    "for i in range(1,n-1):\n",
    "    print(n[i])\n",
    "    \n",
    "        \n",
    "    \n",
    "    "
   ]
  },
  {
   "cell_type": "code",
   "execution_count": 20,
   "metadata": {},
   "outputs": [
    {
     "name": "stdout",
     "output_type": "stream",
     "text": [
      "Fibonacci series up to 8 terms: [0, 1, 1, 2, 3, 5, 8, 13]\n"
     ]
    }
   ],
   "source": [
    "def fibonacci_series(num_terms):\n",
    "    # This list will hold the Fibonacci series\n",
    "    series = []\n",
    "    \n",
    "    # The first two numbers in the Fibonacci series are always 0 and 1\n",
    "    first_term = 0\n",
    "    second_term = 1\n",
    "    \n",
    "    # We loop through the number of terms we want in the series\n",
    "    for _ in range(num_terms):\n",
    "        # Append the current term to the series list\n",
    "        series.append(first_term)\n",
    "        \n",
    "        # Calculate the next term by adding the first and second terms\n",
    "        next_term = first_term + second_term\n",
    "        \n",
    "        # Update the first and second terms for the next iteration\n",
    "        first_term = second_term\n",
    "        second_term = next_term\n",
    "    \n",
    "    # Return the complete Fibonacci series\n",
    "    return series\n",
    "\n",
    "# Ask the user how many terms they want in the Fibonacci series\n",
    "num_terms = int(input(\"Enter the number of terms you want in the Fibonacci series: \"))\n",
    "\n",
    "# Get the Fibonacci series\n",
    "fib_series = fibonacci_series(num_terms)\n",
    "\n",
    "# Print the Fibonacci series\n",
    "print(f\"Fibonacci series up to {num_terms} terms: {fib_series}\")\n"
   ]
  },
  {
   "cell_type": "code",
   "execution_count": 3,
   "metadata": {},
   "outputs": [
    {
     "name": "stdout",
     "output_type": "stream",
     "text": [
      "Fibonacci Series\n",
      " Fibonacci series for the number 8 :  1 1 2 3 5 8 13 21 "
     ]
    }
   ],
   "source": [
    "print(\"Fibonacci Series\")\n",
    "n = int(input(\"Enter a number : \"))\n",
    "series = []\n",
    "a = 1\n",
    "b = 1\n",
    "for i in range(n):\n",
    "    series.append(a)\n",
    "    c = a+b\n",
    "    a, b = b, c\n",
    "print(f\" Fibonacci series for the number {n} : \",end=\" \")\n",
    "for ele in series:\n",
    "    print(ele,end=\" \")"
   ]
  }
 ],
 "metadata": {
  "kernelspec": {
   "display_name": "Python 3",
   "language": "python",
   "name": "python3"
  },
  "language_info": {
   "codemirror_mode": {
    "name": "ipython",
    "version": 3
   },
   "file_extension": ".py",
   "mimetype": "text/x-python",
   "name": "python",
   "nbconvert_exporter": "python",
   "pygments_lexer": "ipython3",
   "version": "3.7.6"
  }
 },
 "nbformat": 4,
 "nbformat_minor": 2
}
