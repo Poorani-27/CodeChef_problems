{
 "cells": [
  {
   "cell_type": "code",
   "execution_count": 7,
   "metadata": {},
   "outputs": [
    {
     "name": "stdout",
     "output_type": "stream",
     "text": [
      "1\n"
     ]
    }
   ],
   "source": [
    "arr=[1,2,3,2,2,2,2,3,3,2,1,1,2,1,1,1,1,1,1,111,1,1,1,11,1,1,1,1,1,12,2,2,2]\n",
    "counter=0\n",
    "for i in range(len(arr)):\n",
    "    cun_fre=arr.count(i)\n",
    "    if cun_fre > counter:\n",
    "        counter=cun_fre\n",
    "        num = i\n",
    "print(num)"
   ]
  },
  {
   "cell_type": "code",
   "execution_count": 16,
   "metadata": {},
   "outputs": [
    {
     "name": "stdout",
     "output_type": "stream",
     "text": [
      "17\n",
      "1\n"
     ]
    }
   ],
   "source": [
    "arr=[1,2,3,2,2,2,2,3,3,2,1,1,2,1,1,1,1,1,1,111,1,1,1,11,1,1,1,1,1,12,2,2,2]\n",
    "ans=max(set(arr),key=arr.count)\n",
    "print(arr.count(1))\n",
    "print(ans)"
   ]
  },
  {
   "cell_type": "code",
   "execution_count": 30,
   "metadata": {},
   "outputs": [
    {
     "name": "stdout",
     "output_type": "stream",
     "text": [
      "['Rose', 'Lily', 'Sunflower']\n"
     ]
    }
   ],
   "source": [
    "arr= ['Rose','Lily', 'Lotus', 'Sun', 'Sunflower']\n",
    "# arr.remove('Rose')\n",
    "# arr.pop(1)\n",
    "# arr=set(arr)\n",
    "# arr.discard('Lotus')\n",
    "# arr=list(arr)\n",
    "# del arr[4]\n",
    "# arr=arr[:2]+arr[4:]\n",
    "print(arr)"
   ]
  },
  {
   "cell_type": "code",
   "execution_count": 33,
   "metadata": {},
   "outputs": [
    {
     "name": "stdout",
     "output_type": "stream",
     "text": [
      "['Rose', 'Lily', 'Lotus', 'Sun', 'Sunflower', 'aaa', 'aads', 'cfd', 'asde', 'rtw']\n",
      "['Rose', 'Lily', 'Lotus', 'Sun', 'Sunflower', 'aaa', 'aads', 'cfd', 'asde', 'rtw']\n",
      "Roseaaa Lilyaads Lotuscfd Sunasde Sunflowerrtw "
     ]
    }
   ],
   "source": [
    "arr= ['Rose','Lily', 'Lotus', 'Sun', 'Sunflower']\n",
    "arr1=['aaa','aads','cfd','asde','rtw']\n",
    "print(arr+arr1)\n",
    "arr.extend(arr1)\n",
    "print(arr)\n",
    "for a,b in zip(arr,arr1):\n",
    "    print(a+b,end=\" \")"
   ]
  },
  {
   "cell_type": "code",
   "execution_count": 35,
   "metadata": {},
   "outputs": [
    {
     "name": "stdout",
     "output_type": "stream",
     "text": [
      "[4, 3, 5, 1, 3] [1, 2, 3, 9, 3, 5, 7] [3, 7, 4, 8] "
     ]
    }
   ],
   "source": [
    "arr= [[4, 3, 5,], [1, 2, 3], [3, 7, 4]]\n",
    "arr1= [[1, 3], [9, 3, 5, 7], [8]]\n",
    "for a,b in zip(arr,arr1):\n",
    "    print(a+b,end=\" \")"
   ]
  },
  {
   "cell_type": "markdown",
   "metadata": {},
   "source": [
    "Input : test_list1 = [“gfg”, “is”, “best”], test_list2 = [“love”, “CS”] \n",
    "\n",
    "\n",
    "Output : [‘gfg love’, ‘gfg CS’, ‘is love’, ‘is CS’, ‘best love’, ‘best CS’] "
   ]
  },
  {
   "cell_type": "code",
   "execution_count": 37,
   "metadata": {},
   "outputs": [
    {
     "name": "stdout",
     "output_type": "stream",
     "text": [
      "['gfg love', 'gfg CS', 'is love', 'is CS', 'best love', 'best CS']\n"
     ]
    }
   ],
   "source": [
    "test_list1 = ['gfg', 'is', 'best']\n",
    "test_list2 = ['love', 'CS'] \n",
    "new_list=[]\n",
    "for i in range(len(test_list1)):\n",
    "    for j in range(len(test_list2)):\n",
    "        a=test_list1[i]+\" \"+test_list2[j]\n",
    "        new_list.append(a)\n",
    "        \n",
    "print(new_list)"
   ]
  },
  {
   "cell_type": "markdown",
   "metadata": {},
   "source": [
    "Input:  ['hello', 'geek', 'have', 'a', 'geeky', 'day']\n",
    "\n",
    "Output: hello geek have a geeky day"
   ]
  },
  {
   "cell_type": "code",
   "execution_count": 39,
   "metadata": {},
   "outputs": [
    {
     "name": "stdout",
     "output_type": "stream",
     "text": [
      "hello geek have a geeky day\n"
     ]
    }
   ],
   "source": [
    "arr=['hello', 'geek', 'have', 'a', 'geeky', 'day']\n",
    "s=\" \".join(a for a in arr)\n",
    "print(s)"
   ]
  },
  {
   "cell_type": "code",
   "execution_count": 46,
   "metadata": {},
   "outputs": [
    {
     "name": "stdout",
     "output_type": "stream",
     "text": [
      "['aakash', 'amy', 'amy', 'amy', 'amy', 'chinmoy', 'muhammad', 'raunak', 'rohan', 'sapna', 'sapna', 'sapna', 'sapna', 'sapna', 'sapna', 'sapna', 'sapna']\n",
      "['amy', 'amy', 'amy', 'amy', 'rohan', 'sapna', 'sapna', 'sapna', 'sapna', 'sapna', 'sapna', 'sapna', 'sapna', 'aakash', 'raunak', 'chinmoy', 'muhammad']\n",
      "['muhammad', 'chinmoy', 'aakash', 'raunak', 'rohan', 'sapna', 'sapna', 'sapna', 'sapna', 'sapna', 'sapna', 'sapna', 'sapna', 'amy', 'amy', 'amy', 'amy']\n",
      "['sapna', 'sapna', 'sapna', 'sapna', 'sapna', 'sapna', 'sapna', 'sapna', 'amy', 'amy', 'amy', 'amy', 'rohan', 'muhammad', 'aakash', 'raunak', 'chinmoy']\n"
     ]
    }
   ],
   "source": [
    "lst = [\"rohan\", \"amy\",\"amy\",\"amy\",\"amy\", \"sapna\",\"sapna\",\"sapna\",\"sapna\",\"sapna\",\"sapna\",\"sapna\",\"sapna\", \"muhammad\", \n",
    "       \"aakash\", \"raunak\", \"chinmoy\"]\n",
    "print(sorted(lst))\n",
    "print(sorted(lst,key=len))\n",
    "print(sorted(lst,key=len,reverse=True))\n",
    "print(sorted(lst,key=lst.count,reverse=True))\n"
   ]
  },
  {
   "cell_type": "code",
   "execution_count": 8,
   "metadata": {},
   "outputs": [
    {
     "name": "stdout",
     "output_type": "stream",
     "text": [
      "\n",
      "\n",
      "0 \n",
      "\n",
      "0 1 \n",
      "\n",
      "0 1 2 \n",
      "\n",
      "0 1 2 3 \n",
      "\n",
      "0 1 2 3 4 \n",
      "\n",
      "0 1 2 3 4 5 \n",
      "\n",
      "0 1 2 3 4 5 6 \n",
      "\n",
      "0 1 2 3 4 5 6 7 \n",
      "\n",
      "0 1 2 3 4 5 6 7 8 \n",
      "\n",
      "0 1 2 3 4 5 6 7 8 9 \n",
      "\n"
     ]
    }
   ],
   "source": [
    "n=11\n",
    "for i in range(n):\n",
    "    for j in range(i):\n",
    "        print(j, end=\" \")\n",
    "    print(\"\\n\")\n"
   ]
  },
  {
   "cell_type": "code",
   "execution_count": 14,
   "metadata": {},
   "outputs": [
    {
     "name": "stdout",
     "output_type": "stream",
     "text": [
      "\n",
      "\n",
      "* \n",
      "\n",
      "* * \n",
      "\n",
      "* * * \n",
      "\n",
      "* * * * \n",
      "\n",
      "* * * * * \n",
      "\n"
     ]
    }
   ],
   "source": [
    "n=5\n",
    "for i in range(n+1):\n",
    "    for j in range(i):\n",
    "        print(\"*\", end=\" \")\n",
    "    print(\"\\n\")"
   ]
  },
  {
   "cell_type": "code",
   "execution_count": 25,
   "metadata": {},
   "outputs": [
    {
     "name": "stdout",
     "output_type": "stream",
     "text": [
      "\n",
      "\n",
      "* \n",
      "\n",
      "* * \n",
      "\n",
      "* * * \n",
      "\n",
      "* * * * \n",
      "\n",
      "* * * * * \n",
      "\n",
      "* * * * * * \n",
      "\n",
      "* * * * * \n",
      "\n",
      "* * * * \n",
      "\n",
      "* * * \n",
      "\n",
      "* * \n",
      "\n",
      "* \n",
      "\n"
     ]
    }
   ],
   "source": [
    "n=5\n",
    "for i in range(n+1):\n",
    "    for j in range(i):\n",
    "        print(\"*\", end=\" \")\n",
    "    print(\"\\n\")\n",
    "for i in range(n+1,0,-1):\n",
    "    for j in range(i):\n",
    "        print(\"*\", end=\" \")\n",
    "    print(\"\\n\")"
   ]
  },
  {
   "cell_type": "code",
   "execution_count": 47,
   "metadata": {},
   "outputs": [
    {
     "name": "stdout",
     "output_type": "stream",
     "text": [
      "* 4\n",
      "\n",
      "** 3\n",
      "\n",
      "*** 2\n",
      "\n",
      "**** 1\n",
      "\n",
      "***** 0\n",
      "\n"
     ]
    }
   ],
   "source": [
    "n=5\n",
    "for i in range(1,n+1):\n",
    "    s=n-i\n",
    "    print(\"*\"*i,s,end=\"\")\n",
    "    print(\"\\n\")"
   ]
  },
  {
   "cell_type": "code",
   "execution_count": 60,
   "metadata": {},
   "outputs": [
    {
     "name": "stdout",
     "output_type": "stream",
     "text": [
      "\n",
      "\n",
      "1 \n",
      "\n",
      "1 3 \n",
      "\n",
      "1 3 5 \n",
      "\n",
      "1 3 5 7 \n",
      "\n",
      "1 3 5 7 9 \n",
      "\n",
      "1 3 5 7 9 11 \n",
      "\n",
      "1 3 5 7 9 11 13 \n",
      "\n",
      "1 3 5 7 9 11 13 15 \n",
      "\n",
      "1 3 5 7 9 11 13 15 17 \n",
      "\n"
     ]
    }
   ],
   "source": [
    "for i in range(1,20,2):\n",
    "    for j in range(1,i,2):\n",
    "        print(j, end=\" \")\n",
    "    print(\"\\n\")\n",
    "    "
   ]
  }
 ],
 "metadata": {
  "kernelspec": {
   "display_name": "Python 3",
   "language": "python",
   "name": "python3"
  },
  "language_info": {
   "codemirror_mode": {
    "name": "ipython",
    "version": 3
   },
   "file_extension": ".py",
   "mimetype": "text/x-python",
   "name": "python",
   "nbconvert_exporter": "python",
   "pygments_lexer": "ipython3",
   "version": "3.7.6"
  }
 },
 "nbformat": 4,
 "nbformat_minor": 2
}
