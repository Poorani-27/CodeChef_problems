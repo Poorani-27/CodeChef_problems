{
 "cells": [
  {
   "cell_type": "code",
   "execution_count": null,
   "metadata": {},
   "outputs": [],
   "source": [
    "salary = 500\n",
    "working_days = 7\n",
    "salary_monthwise =[]\n",
    "for i in range(12):\n",
    "    if i \n",
    "    "
   ]
  },
  {
   "cell_type": "code",
   "execution_count": 11,
   "metadata": {},
   "outputs": [
    {
     "name": "stdout",
     "output_type": "stream",
     "text": [
      "3\n"
     ]
    }
   ],
   "source": [
    "def valid_triangle(a,b,c):\n",
    "    greater_side = a\n",
    "    if b > greater_side:\n",
    "        greater_side=b\n",
    "    if c > greater_side:\n",
    "        greater_side=c\n",
    "    return greater_side\n",
    "print(valid_triangle(3,0,3))\n"
   ]
  },
  {
   "cell_type": "code",
   "execution_count": 13,
   "metadata": {},
   "outputs": [
    {
     "name": "stdout",
     "output_type": "stream",
     "text": [
      "True\n"
     ]
    }
   ],
   "source": [
    "def is_valid(a, b, c):\n",
    "    greatest_side = a\n",
    "    if b > greatest_side:\n",
    "        greatest_side = b\n",
    "    if c > greatest_side:\n",
    "        greatest_side = c\n",
    "    \n",
    "    if greatest_side == a:\n",
    "        return b + c > greatest_side\n",
    "\n",
    "    if greatest_side == b:\n",
    "        return a + c > greatest_side\n",
    "\n",
    "    if greatest_side == c:\n",
    "        return b + a > greatest_side\n",
    "\n",
    "    return False\n",
    "print(is_valid(10,8,5))"
   ]
  },
  {
   "cell_type": "code",
   "execution_count": 14,
   "metadata": {},
   "outputs": [
    {
     "name": "stdout",
     "output_type": "stream",
     "text": [
      "Valid_triangle\n"
     ]
    }
   ],
   "source": [
    "def is_valid(a,b,c):\n",
    "    if (a+b)>c or (b+c) >a or (c+a)> b :\n",
    "        return True\n",
    "    else:\n",
    "        return False\n",
    "    \n",
    "a,b,c=10,8,5\n",
    "if is_valid(a,b,c):\n",
    "    print(\"Valid triangle\")\n",
    "else:\n",
    "    print(\"invalid Triangle\")"
   ]
  },
  {
   "cell_type": "code",
   "execution_count": 28,
   "metadata": {},
   "outputs": [
    {
     "name": "stdout",
     "output_type": "stream",
     "text": [
      "A  A\n"
     ]
    }
   ],
   "source": [
    "def reciprocalString( S):\n",
    "        alhabets = \"abcdefghijklmnopqrstuvwxyz\"\n",
    "        upper_case=\"ABCDEFGHIJKLMNOPQRSTUVWXYZ\"\n",
    "        \n",
    "        new_string = \"\"\n",
    "        for ele in S:\n",
    "            for s in ele:\n",
    "                if \"a\" <=s <='b':\n",
    "                    s_index=S.index(s)\n",
    "                    new_string += alhabets[::-1][s_index]\n",
    "                if \"A\" <= s <=\"Z\":\n",
    "                    s_index=S.index(s)\n",
    "                    new_string += upper_case[::-1][s_index-1]\n",
    "                if s == \" \":\n",
    "                    new_string += \" \"\n",
    "            \n",
    "        \n",
    "        return new_string\n",
    "    \n",
    "print(reciprocalString(\"Geeks for Geeks\"))\n",
    "                "
   ]
  },
  {
   "cell_type": "code",
   "execution_count": 29,
   "metadata": {},
   "outputs": [
    {
     "name": "stdout",
     "output_type": "stream",
     "text": [
      "10\n"
     ]
    }
   ],
   "source": [
    "def sum_of_even_terms(arr):\n",
    "    sum = 0\n",
    "    for a in arr:\n",
    "        if a %2 ==0:\n",
    "            sum +=a\n",
    "        \n",
    "    return sum\n",
    "\n",
    "arr=[0,1,1,2,3,5,8,13]\n",
    "result=sum_of_even_terms(arr)\n",
    "print(result)"
   ]
  },
  {
   "cell_type": "code",
   "execution_count": 33,
   "metadata": {},
   "outputs": [
    {
     "name": "stdout",
     "output_type": "stream",
     "text": [
      "index 1 : 0\n",
      "index 2 : 1\n"
     ]
    }
   ],
   "source": [
    "def find_index(arr,target):\n",
    "    for i in range(len(arr)):\n",
    "        for j in range(i+1,len(arr)-1):\n",
    "            if arr[i]+arr[j] == target :\n",
    "                return i,j\n",
    "            \n",
    "            \n",
    "numbers=[2,7,11,18]\n",
    "target=9\n",
    "result = find_index(numbers,target)\n",
    "print(f\"index 1 : {result[0]}\\nindex 2 : {result[1]}\")\n",
    "                \n",
    "    "
   ]
  },
  {
   "cell_type": "code",
   "execution_count": null,
   "metadata": {},
   "outputs": [],
   "source": [
    "# function for bytes conversion\n",
    "def bytes_conversion(num):\n",
    "    while num < 0 :\n",
    "        print(\"Invalid number\")\n",
    "        break\n",
    "    \n",
    "    \n",
    "    "
   ]
  },
  {
   "cell_type": "code",
   "execution_count": 34,
   "metadata": {},
   "outputs": [
    {
     "name": "stdout",
     "output_type": "stream",
     "text": [
      "3003\n"
     ]
    }
   ],
   "source": [
    "def find_max(arr):\n",
    "    max_element=0\n",
    "    for a in arr:\n",
    "        if a >= max_element:\n",
    "            max_element=a\n",
    "    return max_element\n",
    "\n",
    "print(find_max([1,3,4,5,3,22,1,1001,3003]))"
   ]
  },
  {
   "cell_type": "code",
   "execution_count": 42,
   "metadata": {},
   "outputs": [
    {
     "name": "stdout",
     "output_type": "stream",
     "text": [
      "18\n"
     ]
    }
   ],
   "source": [
    "def length(n):\n",
    "    num=n\n",
    "    length =0\n",
    "    while num >0 :\n",
    "        length +=1\n",
    "        num=num//10\n",
    "        \n",
    "    return length\n",
    "\n",
    "print(length(123456789123456789))\n",
    "        \n"
   ]
  },
  {
   "cell_type": "code",
   "execution_count": 50,
   "metadata": {},
   "outputs": [
    {
     "name": "stdout",
     "output_type": "stream",
     "text": [
      "[]\n"
     ]
    }
   ],
   "source": [
    "arr=[5,6,3,5,7,8,9,1,2]\n",
    "longest_subarr=[]\n",
    "for i in range(len(arr)):\n",
    "    sub_arr=[]\n",
    "    for j in range(i+1,len(arr)-1):\n",
    "        if arr[i]<arr[j]:\n",
    "            sub_arr +=[arr[j]]\n",
    "    if len(sub_arr) > len(longest_subarr):\n",
    "        longest_subarr = sub_arr\n",
    "print(sub_arr)"
   ]
  }
 ],
 "metadata": {
  "kernelspec": {
   "display_name": "Python 3",
   "language": "python",
   "name": "python3"
  },
  "language_info": {
   "codemirror_mode": {
    "name": "ipython",
    "version": 3
   },
   "file_extension": ".py",
   "mimetype": "text/x-python",
   "name": "python",
   "nbconvert_exporter": "python",
   "pygments_lexer": "ipython3",
   "version": "3.7.6"
  }
 },
 "nbformat": 4,
 "nbformat_minor": 2
}
