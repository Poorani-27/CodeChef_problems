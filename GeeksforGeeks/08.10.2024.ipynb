{
 "cells": [
  {
   "cell_type": "code",
   "execution_count": 1,
   "metadata": {},
   "outputs": [
    {
     "name": "stdout",
     "output_type": "stream",
     "text": [
      "(10, [1, 4, 9, 16, 25, 36, 49, 64, 81, 100])\n"
     ]
    }
   ],
   "source": [
    "def square_numbers(n):\n",
    "    square_numbers=[]\n",
    "    for i in range(1,n+1):\n",
    "        square_numbers +=[i*i]\n",
    "    \n",
    "    count=0\n",
    "    for num in square_numbers:\n",
    "        count +=1\n",
    "        \n",
    "    return count,square_numbers\n",
    "\n",
    "result=square_numbers(10)\n",
    "print(result)"
   ]
  },
  {
   "cell_type": "code",
   "execution_count": 6,
   "metadata": {},
   "outputs": [
    {
     "name": "stdout",
     "output_type": "stream",
     "text": [
      "Not a perfect square\n",
      "Not a perfect square\n",
      "9 is a perfect square of 3\n"
     ]
    }
   ],
   "source": [
    "def is_perfect_sq(n):\n",
    "    if n<0:\n",
    "        return False\n",
    "    i=0\n",
    "    num=0\n",
    "    while i*i <= n:\n",
    "        if i *i == n:\n",
    "            num =i\n",
    "            return (f\"{n} is a perfect square of {num}\")\n",
    "        i +=1\n",
    "    return \"Not a perfect square\"\n",
    "    \n",
    "    \n",
    "        \n",
    "        \n",
    "print(is_perfect_sq(45))\n",
    "print(is_perfect_sq(55))\n",
    "print(is_perfect_sq(9))"
   ]
  },
  {
   "cell_type": "code",
   "execution_count": 14,
   "metadata": {},
   "outputs": [
    {
     "name": "stdout",
     "output_type": "stream",
     "text": [
      "1 4 9 "
     ]
    }
   ],
   "source": [
    "# finding_perfect_squares_between the given range\n",
    "\n",
    "def perfect_number(start,end):\n",
    "    \n",
    "    perfect_squares=[]\n",
    "    \n",
    "    def is_perfect_sq(n):\n",
    "        if n <0:\n",
    "            return False\n",
    "        i = 0\n",
    "        while i*i <=n:\n",
    "            if i*i==n:\n",
    "                return True\n",
    "            i +=1\n",
    "        return False\n",
    "    \n",
    "    for i in range(start,end+1):\n",
    "        \n",
    "        if is_perfect_sq(i):\n",
    "            perfect_squares +=[i]\n",
    "            \n",
    "            \n",
    "    for num in perfect_squares:\n",
    "        print(num, end=\" \")\n",
    "\n",
    "perfect_number(1,10)\n",
    "        "
   ]
  },
  {
   "cell_type": "code",
   "execution_count": 23,
   "metadata": {},
   "outputs": [
    {
     "name": "stdout",
     "output_type": "stream",
     "text": [
      "18 is not a perfect cube\n"
     ]
    }
   ],
   "source": [
    "def is_perfect_cube(n):\n",
    "    if n < 0:\n",
    "        print(\"Invalid Number\")\n",
    "    i=0 \n",
    "    while i*i*i <=n:\n",
    "        if i*i*i == n:\n",
    "            return (f\"{n} is a perfect cube of {i}\")\n",
    "        i +=1\n",
    "    return (f\"{n} is not a perfect cube\")\n",
    "        \n",
    "print(is_perfect_cube(18))"
   ]
  },
  {
   "cell_type": "code",
   "execution_count": 25,
   "metadata": {},
   "outputs": [
    {
     "name": "stdout",
     "output_type": "stream",
     "text": [
      "1 8 27 64 "
     ]
    }
   ],
   "source": [
    "def perfect_cubes(start,end):\n",
    "    \n",
    "    perfect_cubes=[]\n",
    "    \n",
    "    def is_perfect_cube(n):\n",
    "        if n<0 :\n",
    "            return False\n",
    "        i=0\n",
    "        while i*i*i<=n:\n",
    "            if i*i*i == n:\n",
    "                return True\n",
    "            i +=1\n",
    "        return False\n",
    "    \n",
    "    for i in range(start,end+1):\n",
    "        if is_perfect_cube(i):\n",
    "            perfect_cubes +=[i]\n",
    "            \n",
    "    for num in perfect_cubes:\n",
    "        print(num , end=\" \")\n",
    "        \n",
    "perfect_cubes(1,90)"
   ]
  },
  {
   "cell_type": "code",
   "execution_count": 40,
   "metadata": {},
   "outputs": [
    {
     "name": "stdout",
     "output_type": "stream",
     "text": [
      "perfect_power\n"
     ]
    }
   ],
   "source": [
    "#perfect power \n",
    "#for example 64,6 True 2**6=64\n",
    "\n",
    "def is_perfect_power(n,power):\n",
    "    if n < 0:\n",
    "        return False\n",
    "    i=2\n",
    "    while i**power <=n:\n",
    "        if i**power ==n :\n",
    "            return \"perfect_power\"\n",
    "        i +=1\n",
    "        \n",
    "    return \"Not a perfect power\"\n",
    "\n",
    "print(is_perfect_power(64,2))"
   ]
  },
  {
   "cell_type": "code",
   "execution_count": 42,
   "metadata": {},
   "outputs": [
    {
     "name": "stdout",
     "output_type": "stream",
     "text": [
      "65536\n"
     ]
    }
   ],
   "source": [
    "def power_tower(base,height):\n",
    "    if height==1:\n",
    "        return base\n",
    "    else:\n",
    "        return base**(power_tower(base,height-1))\n",
    "    \n",
    "base=2\n",
    "height=4\n",
    "print(power_tower(base,height))"
   ]
  },
  {
   "cell_type": "code",
   "execution_count": 46,
   "metadata": {},
   "outputs": [
    {
     "name": "stdout",
     "output_type": "stream",
     "text": [
      "3\n"
     ]
    }
   ],
   "source": [
    "def find_integer_square_root(n):\n",
    "    if n < 0:\n",
    "        raise ValueError(\"Cannot compute square root of a negative number\")\n",
    "\n",
    "    if n == 0 or n == 1:\n",
    "        return n\n",
    "\n",
    "    i = 0\n",
    "    while i * i <= n:\n",
    "        i += 1\n",
    "    \n",
    "    return i - 1\n",
    "\n",
    "print(find_integer_square_root(15))"
   ]
  },
  {
   "cell_type": "code",
   "execution_count": 47,
   "metadata": {},
   "outputs": [
    {
     "name": "stdout",
     "output_type": "stream",
     "text": [
      "55\n"
     ]
    }
   ],
   "source": [
    "#sum of n natural number\n",
    "def sum_of_n_natural_numbers(n):\n",
    "    sum=0\n",
    "    for i in range(1,n+1):\n",
    "        sum +=i\n",
    "        \n",
    "    return sum\n",
    "\n",
    "print(sum_of_n_natural_numbers(10))"
   ]
  },
  {
   "cell_type": "code",
   "execution_count": 56,
   "metadata": {},
   "outputs": [
    {
     "name": "stdout",
     "output_type": "stream",
     "text": [
      "12 abudant\n",
      "1 2 3 4 6 6perfect\n",
      "1 2 3 90 abudant\n",
      "1 2 3 5 6 9 10 15 18 30 45 "
     ]
    }
   ],
   "source": [
    "def abudant_or_perfect(n):\n",
    "    sum =0\n",
    "    factors=[]\n",
    "    for i in range (1,n):\n",
    "        if n%i == 0:\n",
    "            sum +=i\n",
    "            factors +=[i]\n",
    "            \n",
    "    if sum == n :\n",
    "        print(f\"{n}perfect\")\n",
    "        for factor in factors:\n",
    "            print(factor,end=\" \")\n",
    "            \n",
    "    elif sum > n :\n",
    "        print(f'{n} abudant')\n",
    "        for factor in factors:\n",
    "            print(factor,end=\" \")\n",
    "            \n",
    "        \n",
    "\n",
    "abudant_or_perfect(12)\n",
    "abudant_or_perfect(6)\n",
    "abudant_or_perfect(90)\n",
    "            "
   ]
  },
  {
   "cell_type": "code",
   "execution_count": 65,
   "metadata": {},
   "outputs": [
    {
     "name": "stdout",
     "output_type": "stream",
     "text": [
      "6 28 496 8128 "
     ]
    }
   ],
   "source": [
    "def perfect_numbers(start,end):\n",
    "    \n",
    "    perfect_numbers=[]\n",
    "    \n",
    "    def is_perfect(n):\n",
    "        if n <0 :\n",
    "            return False\n",
    "        sum=0\n",
    "        for i in range(1,n):\n",
    "            if n%i==0:\n",
    "                sum += i\n",
    "            \n",
    "        if sum == n: return True\n",
    "        else: return False\n",
    "        \n",
    "    \n",
    "    for i in range(start,end+1):\n",
    "        if is_perfect(i): perfect_numbers +=[i]\n",
    "        \n",
    "    for num in perfect_numbers :\n",
    "        print(num, end=\" \")\n",
    "        \n",
    "    \n",
    "perfect_numbers(1,10000)\n",
    "                \n",
    "        "
   ]
  },
  {
   "cell_type": "code",
   "execution_count": 68,
   "metadata": {},
   "outputs": [
    {
     "name": "stdout",
     "output_type": "stream",
     "text": [
      "[12, 18, 20, 24, 30, 36, 40, 42, 48, 54, 56, 60, 66, 70, 72, 78, 80, 84, 88, 90, 96, 100, 102, 104, 108, 112, 114, 120, 126, 132, 138, 140, 144, 150, 156, 160, 162, 168, 174, 176, 180, 186, 192, 196, 198, 200, 204, 208, 210, 216, 220, 222, 224, 228, 234, 240, 246, 252, 258, 260, 264, 270, 272, 276, 280, 282, 288, 294, 300, 304, 306, 308, 312, 318, 320, 324, 330, 336, 340, 342, 348, 350, 352, 354, 360, 364, 366, 368, 372, 378, 380, 384, 390, 392, 396, 400, 402, 408, 414, 416, 420, 426, 432, 438, 440, 444, 448, 450, 456, 460, 462, 464, 468, 474, 476, 480, 486, 490, 492, 498]\n"
     ]
    }
   ],
   "source": [
    "def abudant_numbers(start,end):\n",
    "    \n",
    "    abudant_numbers=[]\n",
    "    \n",
    "    def is_abudant(n):\n",
    "        if n <0 :\n",
    "            return False\n",
    "        sum = 0\n",
    "        for i in range(1,n):\n",
    "            if n%i==0:\n",
    "                sum +=i\n",
    "                \n",
    "        if sum > n :\n",
    "            return True\n",
    "        else:\n",
    "            return False\n",
    "        \n",
    "    for i in range(start,end):\n",
    "        if is_abudant(i):\n",
    "            abudant_numbers +=[i]\n",
    "        \n",
    "    return abudant_numbers\n",
    "\n",
    "print(abudant_numbers(1,500))"
   ]
  },
  {
   "cell_type": "code",
   "execution_count": null,
   "metadata": {},
   "outputs": [],
   "source": [
    "def automorphoic_number(n):\n",
    "    square=n*n\n",
    "    \n",
    "    t=n\n",
    "    while t >0:\n",
    "        last_digit = t%10\n",
    "        "
   ]
  }
 ],
 "metadata": {
  "kernelspec": {
   "display_name": "Python 3",
   "language": "python",
   "name": "python3"
  },
  "language_info": {
   "codemirror_mode": {
    "name": "ipython",
    "version": 3
   },
   "file_extension": ".py",
   "mimetype": "text/x-python",
   "name": "python",
   "nbconvert_exporter": "python",
   "pygments_lexer": "ipython3",
   "version": "3.7.6"
  }
 },
 "nbformat": 4,
 "nbformat_minor": 2
}
