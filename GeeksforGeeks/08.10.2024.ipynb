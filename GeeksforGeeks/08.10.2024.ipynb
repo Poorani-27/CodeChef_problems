{
 "cells": [
  {
   "cell_type": "code",
   "execution_count": 1,
   "metadata": {},
   "outputs": [
    {
     "name": "stdout",
     "output_type": "stream",
     "text": [
      "(10, [1, 4, 9, 16, 25, 36, 49, 64, 81, 100])\n"
     ]
    }
   ],
   "source": [
    "def square_numbers(n):\n",
    "    square_numbers=[]\n",
    "    for i in range(1,n+1):\n",
    "        square_numbers +=[i*i]\n",
    "    \n",
    "    count=0\n",
    "    for num in square_numbers:\n",
    "        count +=1\n",
    "        \n",
    "    return count,square_numbers\n",
    "\n",
    "result=square_numbers(10)\n",
    "print(result)"
   ]
  },
  {
   "cell_type": "code",
   "execution_count": 6,
   "metadata": {},
   "outputs": [
    {
     "name": "stdout",
     "output_type": "stream",
     "text": [
      "Not a perfect square\n",
      "Not a perfect square\n",
      "9 is a perfect square of 3\n"
     ]
    }
   ],
   "source": [
    "def is_perfect_sq(n):\n",
    "    if n<0:\n",
    "        return False\n",
    "    i=0\n",
    "    num=0\n",
    "    while i*i <= n:\n",
    "        if i *i == n:\n",
    "            num =i\n",
    "            return (f\"{n} is a perfect square of {num}\")\n",
    "        i +=1\n",
    "    return \"Not a perfect square\"\n",
    "    \n",
    "    \n",
    "        \n",
    "        \n",
    "print(is_perfect_sq(45))\n",
    "print(is_perfect_sq(55))\n",
    "print(is_perfect_sq(9))"
   ]
  },
  {
   "cell_type": "code",
   "execution_count": 14,
   "metadata": {},
   "outputs": [
    {
     "name": "stdout",
     "output_type": "stream",
     "text": [
      "1 4 9 "
     ]
    }
   ],
   "source": [
    "# finding_perfect_squares_between the given range\n",
    "\n",
    "def perfect_number(start,end):\n",
    "    \n",
    "    perfect_squares=[]\n",
    "    \n",
    "    def is_perfect_sq(n):\n",
    "        if n <0:\n",
    "            return False\n",
    "        i = 0\n",
    "        while i*i <=n:\n",
    "            if i*i==n:\n",
    "                return True\n",
    "            i +=1\n",
    "        return False\n",
    "    \n",
    "    for i in range(start,end+1):\n",
    "        \n",
    "        if is_perfect_sq(i):\n",
    "            perfect_squares +=[i]\n",
    "            \n",
    "            \n",
    "    for num in perfect_squares:\n",
    "        print(num, end=\" \")\n",
    "\n",
    "perfect_number(1,10)\n",
    "        "
   ]
  },
  {
   "cell_type": "code",
   "execution_count": 23,
   "metadata": {},
   "outputs": [
    {
     "name": "stdout",
     "output_type": "stream",
     "text": [
      "18 is not a perfect cube\n"
     ]
    }
   ],
   "source": [
    "def is_perfect_cube(n):\n",
    "    if n < 0:\n",
    "        print(\"Invalid Number\")\n",
    "    i=0 \n",
    "    while i*i*i <=n:\n",
    "        if i*i*i == n:\n",
    "            return (f\"{n} is a perfect cube of {i}\")\n",
    "        i +=1\n",
    "    return (f\"{n} is not a perfect cube\")\n",
    "        \n",
    "print(is_perfect_cube(18))"
   ]
  },
  {
   "cell_type": "code",
   "execution_count": 25,
   "metadata": {},
   "outputs": [
    {
     "name": "stdout",
     "output_type": "stream",
     "text": [
      "1 8 27 64 "
     ]
    }
   ],
   "source": [
    "def perfect_cubes(start,end):\n",
    "    \n",
    "    perfect_cubes=[]\n",
    "    \n",
    "    def is_perfect_cube(n):\n",
    "        if n<0 :\n",
    "            return False\n",
    "        i=0\n",
    "        while i*i*i<=n:\n",
    "            if i*i*i == n:\n",
    "                return True\n",
    "            i +=1\n",
    "        return False\n",
    "    \n",
    "    for i in range(start,end+1):\n",
    "        if is_perfect_cube(i):\n",
    "            perfect_cubes +=[i]\n",
    "            \n",
    "    for num in perfect_cubes:\n",
    "        print(num , end=\" \")\n",
    "        \n",
    "perfect_cubes(1,90)"
   ]
  },
  {
   "cell_type": "code",
   "execution_count": 40,
   "metadata": {},
   "outputs": [
    {
     "name": "stdout",
     "output_type": "stream",
     "text": [
      "perfect_power\n"
     ]
    }
   ],
   "source": [
    "#perfect power \n",
    "#for example 64,6 True 2**6=64\n",
    "\n",
    "def is_perfect_power(n,power):\n",
    "    if n < 0:\n",
    "        return False\n",
    "    i=2\n",
    "    while i**power <=n:\n",
    "        if i**power ==n :\n",
    "            return \"perfect_power\"\n",
    "        i +=1\n",
    "        \n",
    "    return \"Not a perfect power\"\n",
    "\n",
    "print(is_perfect_power(64,2))"
   ]
  },
  {
   "cell_type": "code",
   "execution_count": 42,
   "metadata": {},
   "outputs": [
    {
     "name": "stdout",
     "output_type": "stream",
     "text": [
      "65536\n"
     ]
    }
   ],
   "source": [
    "def power_tower(base,height):\n",
    "    if height==1:\n",
    "        return base\n",
    "    else:\n",
    "        return base**(power_tower(base,height-1))\n",
    "    \n",
    "base=2\n",
    "height=4\n",
    "print(power_tower(base,height))"
   ]
  },
  {
   "cell_type": "code",
   "execution_count": 46,
   "metadata": {},
   "outputs": [
    {
     "name": "stdout",
     "output_type": "stream",
     "text": [
      "3\n"
     ]
    }
   ],
   "source": [
    "def find_integer_square_root(n):\n",
    "    if n < 0:\n",
    "        raise ValueError(\"Cannot compute square root of a negative number\")\n",
    "\n",
    "    if n == 0 or n == 1:\n",
    "        return n\n",
    "\n",
    "    i = 0\n",
    "    while i * i <= n:\n",
    "        i += 1\n",
    "    \n",
    "    return i - 1\n",
    "\n",
    "print(find_integer_square_root(15))"
   ]
  },
  {
   "cell_type": "code",
   "execution_count": 47,
   "metadata": {},
   "outputs": [
    {
     "name": "stdout",
     "output_type": "stream",
     "text": [
      "55\n"
     ]
    }
   ],
   "source": [
    "#sum of n natural number\n",
    "def sum_of_n_natural_numbers(n):\n",
    "    sum=0\n",
    "    for i in range(1,n+1):\n",
    "        sum +=i\n",
    "        \n",
    "    return sum\n",
    "\n",
    "print(sum_of_n_natural_numbers(10))"
   ]
  },
  {
   "cell_type": "code",
   "execution_count": 56,
   "metadata": {},
   "outputs": [
    {
     "name": "stdout",
     "output_type": "stream",
     "text": [
      "12 abudant\n",
      "1 2 3 4 6 6perfect\n",
      "1 2 3 90 abudant\n",
      "1 2 3 5 6 9 10 15 18 30 45 "
     ]
    }
   ],
   "source": [
    "def abudant_or_perfect(n):\n",
    "    sum =0\n",
    "    factors=[]\n",
    "    for i in range (1,n):\n",
    "        if n%i == 0:\n",
    "            sum +=i\n",
    "            factors +=[i]\n",
    "            \n",
    "    if sum == n :\n",
    "        print(f\"{n}perfect\")\n",
    "        for factor in factors:\n",
    "            print(factor,end=\" \")\n",
    "            \n",
    "    elif sum > n :\n",
    "        print(f'{n} abudant')\n",
    "        for factor in factors:\n",
    "            print(factor,end=\" \")\n",
    "            \n",
    "        \n",
    "\n",
    "abudant_or_perfect(12)\n",
    "abudant_or_perfect(6)\n",
    "abudant_or_perfect(90)\n",
    "            "
   ]
  },
  {
   "cell_type": "code",
   "execution_count": 65,
   "metadata": {},
   "outputs": [
    {
     "name": "stdout",
     "output_type": "stream",
     "text": [
      "6 28 496 8128 "
     ]
    }
   ],
   "source": [
    "def perfect_numbers(start,end):\n",
    "    \n",
    "    perfect_numbers=[]\n",
    "    \n",
    "    def is_perfect(n):\n",
    "        if n <0 :\n",
    "            return False\n",
    "        sum=0\n",
    "        for i in range(1,n):\n",
    "            if n%i==0:\n",
    "                sum += i\n",
    "            \n",
    "        if sum == n: return True\n",
    "        else: return False\n",
    "        \n",
    "    \n",
    "    for i in range(start,end+1):\n",
    "        if is_perfect(i): perfect_numbers +=[i]\n",
    "        \n",
    "    for num in perfect_numbers :\n",
    "        print(num, end=\" \")\n",
    "        \n",
    "    \n",
    "perfect_numbers(1,10000)\n",
    "                \n",
    "        "
   ]
  },
  {
   "cell_type": "code",
   "execution_count": 68,
   "metadata": {},
   "outputs": [
    {
     "name": "stdout",
     "output_type": "stream",
     "text": [
      "[12, 18, 20, 24, 30, 36, 40, 42, 48, 54, 56, 60, 66, 70, 72, 78, 80, 84, 88, 90, 96, 100, 102, 104, 108, 112, 114, 120, 126, 132, 138, 140, 144, 150, 156, 160, 162, 168, 174, 176, 180, 186, 192, 196, 198, 200, 204, 208, 210, 216, 220, 222, 224, 228, 234, 240, 246, 252, 258, 260, 264, 270, 272, 276, 280, 282, 288, 294, 300, 304, 306, 308, 312, 318, 320, 324, 330, 336, 340, 342, 348, 350, 352, 354, 360, 364, 366, 368, 372, 378, 380, 384, 390, 392, 396, 400, 402, 408, 414, 416, 420, 426, 432, 438, 440, 444, 448, 450, 456, 460, 462, 464, 468, 474, 476, 480, 486, 490, 492, 498]\n"
     ]
    }
   ],
   "source": [
    "def abudant_numbers(start,end):\n",
    "    \n",
    "    abudant_numbers=[]\n",
    "    \n",
    "    def is_abudant(n):\n",
    "        if n <0 :\n",
    "            return False\n",
    "        sum = 0\n",
    "        for i in range(1,n):\n",
    "            if n%i==0:\n",
    "                sum +=i\n",
    "                \n",
    "        if sum > n :\n",
    "            return True\n",
    "        else:\n",
    "            return False\n",
    "        \n",
    "    for i in range(start,end):\n",
    "        if is_abudant(i):\n",
    "            abudant_numbers +=[i]\n",
    "        \n",
    "    return abudant_numbers\n",
    "\n",
    "print(abudant_numbers(1,500))"
   ]
  },
  {
   "cell_type": "code",
   "execution_count": null,
   "metadata": {},
   "outputs": [],
   "source": [
    "def automorphoic_number(n):\n",
    "    square=n*n\n",
    "    \n",
    "    t=n\n",
    "    while t >0:\n",
    "        last_digit = t%10\n",
    "        "
   ]
  },
  {
   "cell_type": "code",
   "execution_count": 13,
   "metadata": {},
   "outputs": [
    {
     "name": "stdout",
     "output_type": "stream",
     "text": [
      "[14, 16, 18, 20, 2, 4, 6, 8, 10, 12]\n"
     ]
    }
   ],
   "source": [
    "arr=[2,4,6,8,10,12,14,16,18,20]\n",
    "d=16\n",
    "d=d%len(arr)\n",
    "arr=arr[d:]+arr[:d]\n",
    "print(arr)"
   ]
  },
  {
   "cell_type": "code",
   "execution_count": 15,
   "metadata": {},
   "outputs": [
    {
     "ename": "TypeError",
     "evalue": "'str' object cannot be interpreted as an integer",
     "output_type": "error",
     "traceback": [
      "\u001b[1;31m---------------------------------------------------------------------------\u001b[0m",
      "\u001b[1;31mTypeError\u001b[0m                                 Traceback (most recent call last)",
      "\u001b[1;32m~\\AppData\\Local\\Temp\\ipykernel_1744\\3110149440.py\u001b[0m in \u001b[0;36m<module>\u001b[1;34m\u001b[0m\n\u001b[0;32m      1\u001b[0m \u001b[0ms\u001b[0m\u001b[1;33m=\u001b[0m\u001b[1;34m'1234'\u001b[0m\u001b[1;33m\u001b[0m\u001b[1;33m\u001b[0m\u001b[0m\n\u001b[1;32m----> 2\u001b[1;33m \u001b[1;32mfor\u001b[0m \u001b[0mi\u001b[0m \u001b[1;32min\u001b[0m \u001b[0mrange\u001b[0m\u001b[1;33m(\u001b[0m\u001b[0ms\u001b[0m\u001b[1;33m)\u001b[0m\u001b[1;33m:\u001b[0m\u001b[1;33m\u001b[0m\u001b[1;33m\u001b[0m\u001b[0m\n\u001b[0m\u001b[0;32m      3\u001b[0m     \u001b[0ms\u001b[0m\u001b[1;33m[\u001b[0m\u001b[0mi\u001b[0m\u001b[1;33m]\u001b[0m \u001b[1;33m=\u001b[0m \u001b[0mord\u001b[0m\u001b[1;33m(\u001b[0m\u001b[0ms\u001b[0m\u001b[1;33m[\u001b[0m\u001b[0mi\u001b[0m\u001b[1;33m]\u001b[0m\u001b[1;33m)\u001b[0m\u001b[1;33m-\u001b[0m\u001b[0mord\u001b[0m\u001b[1;33m(\u001b[0m\u001b[1;34m'0'\u001b[0m\u001b[1;33m)\u001b[0m\u001b[1;33m\u001b[0m\u001b[1;33m\u001b[0m\u001b[0m\n\u001b[0;32m      4\u001b[0m \u001b[1;33m\u001b[0m\u001b[0m\n\u001b[0;32m      5\u001b[0m \u001b[1;33m\u001b[0m\u001b[0m\n",
      "\u001b[1;31mTypeError\u001b[0m: 'str' object cannot be interpreted as an integer"
     ]
    }
   ],
   "source": [
    "c"
   ]
  },
  {
   "cell_type": "code",
   "execution_count": 19,
   "metadata": {},
   "outputs": [
    {
     "name": "stdout",
     "output_type": "stream",
     "text": [
      "1\n"
     ]
    }
   ],
   "source": [
    "s='1'\n",
    "s=ord(s)-ord('0')\n",
    "print(s)"
   ]
  },
  {
   "cell_type": "code",
   "execution_count": 22,
   "metadata": {},
   "outputs": [
    {
     "name": "stdout",
     "output_type": "stream",
     "text": [
      "<class 'int'>\n",
      "1\n",
      "<class 'str'>\n"
     ]
    }
   ],
   "source": [
    "s=1\n",
    "print(type(s))\n",
    "s=chr(1+ord('0'))\n",
    "print(s)\n",
    "print(type(s))"
   ]
  },
  {
   "cell_type": "code",
   "execution_count": 23,
   "metadata": {},
   "outputs": [
    {
     "name": "stdout",
     "output_type": "stream",
     "text": [
      "a\n"
     ]
    }
   ],
   "source": [
    "s=\"A\"\n",
    "s=chr(ord(s)+32)\n",
    "print(s)"
   ]
  },
  {
   "cell_type": "code",
   "execution_count": 26,
   "metadata": {},
   "outputs": [
    {
     "name": "stdout",
     "output_type": "stream",
     "text": [
      "N\n"
     ]
    }
   ],
   "source": [
    "s=\"n\"\n",
    "s=chr(ord(s)-32)\n",
    "print(s)"
   ]
  },
  {
   "cell_type": "code",
   "execution_count": 29,
   "metadata": {},
   "outputs": [
    {
     "name": "stdout",
     "output_type": "stream",
     "text": [
      "[1, 2, 3, 4, 5]\n"
     ]
    }
   ],
   "source": [
    "a=[1,2,3,4]\n",
    "a +=[5]\n",
    "print(a)\n"
   ]
  },
  {
   "cell_type": "code",
   "execution_count": 30,
   "metadata": {},
   "outputs": [
    {
     "data": {
      "text/plain": [
       "24"
      ]
     },
     "execution_count": 30,
     "metadata": {},
     "output_type": "execute_result"
    }
   ],
   "source": [
    "50%26"
   ]
  },
  {
   "cell_type": "code",
   "execution_count": 31,
   "metadata": {},
   "outputs": [
    {
     "data": {
      "text/plain": [
       "'Y'"
      ]
     },
     "execution_count": 31,
     "metadata": {},
     "output_type": "execute_result"
    }
   ],
   "source": [
    "chr(24+ord('A'))"
   ]
  },
  {
   "cell_type": "code",
   "execution_count": 32,
   "metadata": {},
   "outputs": [
    {
     "data": {
      "text/plain": [
       "1"
      ]
     },
     "execution_count": 32,
     "metadata": {},
     "output_type": "execute_result"
    }
   ],
   "source": [
    "50 //26\n"
   ]
  },
  {
   "cell_type": "code",
   "execution_count": 45,
   "metadata": {},
   "outputs": [
    {
     "name": "stdout",
     "output_type": "stream",
     "text": [
      "bacedifogu\n"
     ]
    }
   ],
   "source": [
    "def consonants_vowels(string):\n",
    "    # separating vowels and consonants\n",
    "    vowels_set=\"aeiou\"\n",
    "    vowels=[]\n",
    "    consonants=[]\n",
    "    for s in string:\n",
    "        if s in vowels_set:\n",
    "            vowels +=[s]\n",
    "        else:\n",
    "            consonants +=[s]\n",
    "            \n",
    "    #checking feasability\n",
    "    if abs(len(vowels)-len(consonants) )>1:\n",
    "        return -1\n",
    "        \n",
    "    #sorting the vowels and consonants\n",
    "    def sort_arr(arr):\n",
    "        for i in range(len(arr)):\n",
    "            for j in range(len(arr)-1):\n",
    "                if arr[i] < arr[j]:\n",
    "                    arr[i],arr[j] = arr[j],arr[i]\n",
    "        return arr\n",
    "                    \n",
    "    vowels=sort_arr(vowels)\n",
    "    consonants=sort_arr(consonants)\n",
    "    \n",
    "    \n",
    "    #new string that stores the vowels and consonants alternatively\n",
    "    \n",
    "    new_string=\"\"\n",
    "    \n",
    "    if len(vowels)>len(consonants):\n",
    "        turn = 0\n",
    "    else:\n",
    "        turn = 1\n",
    "    \n",
    "    i,j=0,0\n",
    "    while i <len(vowels) and j <len(consonants):\n",
    "        if turn ==0:\n",
    "            new_string +=vowels[i]\n",
    "            i +=1\n",
    "        else:\n",
    "            new_string +=consonants[j]\n",
    "            j+=1\n",
    "        turn =1-turn\n",
    "    if i < len(vowels):\n",
    "        new_string +=vowels[i]\n",
    "    if j < len(consonants):\n",
    "        new_string +=consonants[j]\n",
    "        \n",
    "    return \"\".join(new_string)\n",
    "\n",
    "print(consonants_vowels(\"aeioubcdfg\"))\n",
    "        \n",
    "                        \n",
    "        \n",
    "            "
   ]
  },
  {
   "cell_type": "code",
   "execution_count": 53,
   "metadata": {},
   "outputs": [
    {
     "name": "stdout",
     "output_type": "stream",
     "text": [
      "['a', 'ab', 'abc', 'b', 'bc', 'c']\n"
     ]
    }
   ],
   "source": [
    "def substrings(s: str):\n",
    "    n = len(s)\n",
    "    all_substrings = []  # List to store all substrings\n",
    "    \n",
    "    # Generate all possible substrings\n",
    "    for start in range(n):\n",
    "        for end in range(start + 1, n + 1):\n",
    "            substring = s[start:end]  # Extract the substring from start to end\n",
    "            all_substrings.append(substring)  # Add substring to the list\n",
    "    \n",
    "    return all_substrings\n",
    "\n",
    "# Test cases\n",
    "print(substrings(\"abc\"))\n"
   ]
  },
  {
   "cell_type": "code",
   "execution_count": 54,
   "metadata": {},
   "outputs": [
    {
     "name": "stdout",
     "output_type": "stream",
     "text": [
      "['a', 'ab', 'aba', 'abac', 'b', 'ba', 'bac', 'a', 'ac', 'c']\n",
      "10\n",
      "(['a', 'aba', 'b', 'a', 'c'], 'aba')\n"
     ]
    }
   ],
   "source": [
    "def find_substring(string):\n",
    "    sub_strings=[]\n",
    "    for start in range(len(string)):\n",
    "        for end in range(start+1,len(string)+1):\n",
    "            sub_string =\"\"\n",
    "            for i in range(start,end):\n",
    "                sub_string +=string[i]\n",
    "            sub_strings +=[sub_string]\n",
    "    return sub_strings\n",
    "\n",
    "\n",
    "def calculate_length(string):\n",
    "    length = 0\n",
    "    for s in string:\n",
    "        length +=1\n",
    "    return length\n",
    "def substring_count(string):\n",
    "    string_length = calculate_length(string)\n",
    "    return (string_length*(string_length+1))//2\n",
    "\n",
    "\n",
    "\n",
    "def is_palindrome(string):\n",
    "    paindrome_strings =[]\n",
    "    for s in string :\n",
    "        if s == s[::-1]:\n",
    "            paindrome_strings +=[s]\n",
    "    longest_palindrome = paindrome_strings[0]\n",
    "    for string in paindrome_strings :\n",
    "        if calculate_length(string) > calculate_length(longest_palindrome):\n",
    "            longest_palindrome = string\n",
    "    return paindrome_strings, longest_palindrome\n",
    "\n",
    "string=\"abac\"\n",
    "substrings = find_substring(string)\n",
    "count_substrings= substring_count(string)\n",
    "palindrome_substrings=is_palindrome(substrings)\n",
    "\n",
    "\n",
    "\n",
    "\n",
    "print(substrings)\n",
    "print(count_substrings)\n",
    "print(palindrome_substrings)\n",
    "\n",
    "\n"
   ]
  },
  {
   "cell_type": "code",
   "execution_count": 55,
   "metadata": {},
   "outputs": [
    {
     "name": "stdout",
     "output_type": "stream",
     "text": [
      "['a', 'ab', 'abc', 'b', 'bc', 'c']\n"
     ]
    }
   ],
   "source": [
    "def find_substring(string):\n",
    "    sub_strings=[]\n",
    "    for start in range(len(string)):\n",
    "        for end in range(start+1,len(string)+1):\n",
    "            sub_string =\"\"\n",
    "            for i in range(start,end):\n",
    "                sub_string +=string[i]\n",
    "            sub_strings +=[sub_string]\n",
    "    return sub_strings\n",
    "print(find_substring(\"abc\"))"
   ]
  }
 ],
 "metadata": {
  "kernelspec": {
   "display_name": "Python 3",
   "language": "python",
   "name": "python3"
  },
  "language_info": {
   "codemirror_mode": {
    "name": "ipython",
    "version": 3
   },
   "file_extension": ".py",
   "mimetype": "text/x-python",
   "name": "python",
   "nbconvert_exporter": "python",
   "pygments_lexer": "ipython3",
   "version": "3.7.6"
  }
 },
 "nbformat": 4,
 "nbformat_minor": 2
}
