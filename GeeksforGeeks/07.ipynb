{
 "cells": [
  {
   "cell_type": "code",
   "execution_count": 11,
   "metadata": {},
   "outputs": [
    {
     "data": {
      "text/plain": [
       "97344"
      ]
     },
     "execution_count": 11,
     "metadata": {},
     "output_type": "execute_result"
    }
   ],
   "source": [
    "def gen(n):\n",
    "    if n%7 == 0:\n",
    "        return n*n+n\n",
    "    else:\n",
    "        return n*n    \n",
    "n=312\n",
    "gen(n)"
   ]
  },
  {
   "cell_type": "code",
   "execution_count": 7,
   "metadata": {},
   "outputs": [
    {
     "name": "stdout",
     "output_type": "stream",
     "text": [
      "3\n"
     ]
    }
   ],
   "source": [
    "def find(a,b):\n",
    "    if a+b >= 10: return a\n",
    "    if a==b : return b\n",
    "    else: return a+b\n",
    "    \n",
    "print(find(3,3))"
   ]
  },
  {
   "cell_type": "code",
   "execution_count": 17,
   "metadata": {},
   "outputs": [
    {
     "name": "stdout",
     "output_type": "stream",
     "text": [
      "True\n",
      "True\n"
     ]
    }
   ],
   "source": [
    "def palindrome(string1):\n",
    "    if string1.lower() == string1[::-1].lower(): return True\n",
    "    return False\n",
    "\n",
    "def anagram(string1):\n",
    "    if len(string1)%2!= 0 : return False\n",
    "    else:\n",
    "        mid=len(string1)//2\n",
    "        return string1[:mid] == string1[mid:]\n",
    "\n",
    "        \n",
    "print(palindrome(\"Malayalam\"))\n",
    "print(anagram(\"gogo\"))"
   ]
  },
  {
   "cell_type": "code",
   "execution_count": 12,
   "metadata": {},
   "outputs": [
    {
     "name": "stdout",
     "output_type": "stream",
     "text": [
      "abcd\n",
      "def\n"
     ]
    }
   ],
   "source": [
    "mid=int(6//2)\n",
    "str1=\"abcdef\"\n",
    "print(str1[:mid+1])\n",
    "print(str1[mid:])"
   ]
  }
 ],
 "metadata": {
  "kernelspec": {
   "display_name": "Python 3",
   "language": "python",
   "name": "python3"
  },
  "language_info": {
   "codemirror_mode": {
    "name": "ipython",
    "version": 3
   },
   "file_extension": ".py",
   "mimetype": "text/x-python",
   "name": "python",
   "nbconvert_exporter": "python",
   "pygments_lexer": "ipython3",
   "version": "3.7.6"
  }
 },
 "nbformat": 4,
 "nbformat_minor": 2
}
