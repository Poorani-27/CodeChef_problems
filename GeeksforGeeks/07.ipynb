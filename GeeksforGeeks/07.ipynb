{
 "cells": [
  {
   "cell_type": "code",
   "execution_count": 11,
   "metadata": {},
   "outputs": [
    {
     "data": {
      "text/plain": [
       "97344"
      ]
     },
     "execution_count": 11,
     "metadata": {},
     "output_type": "execute_result"
    }
   ],
   "source": [
    "def gen(n):\n",
    "    if n%7 == 0:\n",
    "        return n*n+n\n",
    "    else:\n",
    "        return n*n    \n",
    "n=312\n",
    "gen(n)"
   ]
  },
  {
   "cell_type": "code",
   "execution_count": 7,
   "metadata": {},
   "outputs": [
    {
     "name": "stdout",
     "output_type": "stream",
     "text": [
      "3\n"
     ]
    }
   ],
   "source": [
    "def find(a,b):\n",
    "    if a+b >= 10: return a\n",
    "    if a==b : return b\n",
    "    else: return a+b\n",
    "    \n",
    "print(find(3,3))"
   ]
  },
  {
   "cell_type": "code",
   "execution_count": 17,
   "metadata": {},
   "outputs": [
    {
     "name": "stdout",
     "output_type": "stream",
     "text": [
      "True\n",
      "True\n"
     ]
    }
   ],
   "source": [
    "def palindrome(string1):\n",
    "    if string1.lower() == string1[::-1].lower(): return True\n",
    "    return False\n",
    "\n",
    "def anagram(string1):\n",
    "    if len(string1)%2!= 0 : return False\n",
    "    else:\n",
    "        mid=len(string1)//2\n",
    "        return string1[:mid] == string1[mid:]\n",
    "\n",
    "        \n",
    "print(palindrome(\"Malayalam\"))\n",
    "print(anagram(\"gogo\"))"
   ]
  },
  {
   "cell_type": "code",
   "execution_count": 12,
   "metadata": {},
   "outputs": [
    {
     "name": "stdout",
     "output_type": "stream",
     "text": [
      "abcd\n",
      "def\n"
     ]
    }
   ],
   "source": [
    "mid=int(6//2)\n",
    "str1=\"abcdef\"\n",
    "print(str1[:mid+1])\n",
    "print(str1[mid:])"
   ]
  },
  {
   "cell_type": "code",
   "execution_count": 8,
   "metadata": {},
   "outputs": [
    {
     "name": "stdout",
     "output_type": "stream",
     "text": [
      "2 1 4 3 6 5 None\n"
     ]
    }
   ],
   "source": [
    "def convertToWave(arr):\n",
    "    even=[]\n",
    "    odd=[]\n",
    "    for i in range(len(arr)):\n",
    "        if i %2==0: even.append(arr[i])\n",
    "        else: odd.append(arr[i])\n",
    "    c=[]\n",
    "    for a,b in zip(even,odd):\n",
    "        print (b,a,end=\" \")\n",
    "        \n",
    "    \n",
    "a=[1,2,3,4,5,6]   \n",
    "res=(convertToWave(a))     \n",
    "print(res)"
   ]
  },
  {
   "cell_type": "code",
   "execution_count": 5,
   "metadata": {},
   "outputs": [
    {
     "name": "stdout",
     "output_type": "stream",
     "text": [
      "6\n"
     ]
    }
   ],
   "source": [
    "arr=[1,2,3,4,5,6]\n",
    "print(arr[5])"
   ]
  },
  {
   "cell_type": "code",
   "execution_count": 9,
   "metadata": {},
   "outputs": [
    {
     "name": "stdout",
     "output_type": "stream",
     "text": [
      "9 5\n"
     ]
    }
   ],
   "source": [
    "arr=[1 ,3 ,5 ,5 ,5 ,5 ,67 ,123,125]\n",
    "a=len(arr)-4\n",
    "print(len(arr),a)"
   ]
  },
  {
   "cell_type": "code",
   "execution_count": 1,
   "metadata": {},
   "outputs": [
    {
     "name": "stdout",
     "output_type": "stream",
     "text": [
      "0\n",
      "1\n",
      "2\n",
      "0\n"
     ]
    }
   ],
   "source": [
    "i = 0\n",
    "while i < 3:\n",
    "       print(i)\n",
    "       i += 1 \n",
    "else:\n",
    "      print(0)  "
   ]
  },
  {
   "cell_type": "code",
   "execution_count": 2,
   "metadata": {},
   "outputs": [
    {
     "name": "stdout",
     "output_type": "stream",
     "text": [
      "[['ad', 'bd', 'cd'], ['ae', 'be', 'ce'], ['af', 'bf', 'cf']]\n"
     ]
    }
   ],
   "source": [
    "print([[i+j for i in \"abc\"] for j in \"def\"])\n"
   ]
  },
  {
   "cell_type": "code",
   "execution_count": 3,
   "metadata": {},
   "outputs": [
    {
     "name": "stdout",
     "output_type": "stream",
     "text": [
      "0\n",
      "1\n",
      "2\n"
     ]
    }
   ],
   "source": [
    "i = 0\n",
    "while i < 5:\n",
    "    print(i)\n",
    "    i += 1\n",
    "    if i == 3:\n",
    "        break\n",
    "else:\n",
    "    print(0)"
   ]
  },
  {
   "cell_type": "code",
   "execution_count": 5,
   "metadata": {},
   "outputs": [
    {
     "name": "stdout",
     "output_type": "stream",
     "text": [
      "1\n",
      "2\n"
     ]
    }
   ],
   "source": [
    "i = 1\n",
    "while True:\n",
    "    if i%3 == 0:\n",
    "        break\n",
    "    print(i)\n",
    " \n",
    "    i += 1\n",
    "\n"
   ]
  }
 ],
 "metadata": {
  "kernelspec": {
   "display_name": "Python 3",
   "language": "python",
   "name": "python3"
  },
  "language_info": {
   "codemirror_mode": {
    "name": "ipython",
    "version": 3
   },
   "file_extension": ".py",
   "mimetype": "text/x-python",
   "name": "python",
   "nbconvert_exporter": "python",
   "pygments_lexer": "ipython3",
   "version": "3.7.6"
  }
 },
 "nbformat": 4,
 "nbformat_minor": 2
}
